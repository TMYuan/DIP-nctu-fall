{
 "cells": [
  {
   "cell_type": "markdown",
   "metadata": {},
   "source": [
    "---\n",
    "# Module Dependency"
   ]
  },
  {
   "cell_type": "code",
   "execution_count": 1,
   "metadata": {
    "collapsed": true
   },
   "outputs": [],
   "source": [
    "%matplotlib inline\n",
    "import os\n",
    "import time\n",
    "import torch\n",
    "import torch.nn as nn\n",
    "import torch.optim as optim\n",
    "import torch.nn.functional as F\n",
    "from tqdm import tqdm\n",
    "from torch.autograd import Variable\n",
    "import pandas as pd\n",
    "from skimage import io, transform, color, morphology\n",
    "import numpy as np\n",
    "import matplotlib.pyplot as plt\n",
    "from torch.utils.data import Dataset, DataLoader\n",
    "from torchvision import transforms, utils, models\n",
    "\n",
    "plt.rcParams['figure.figsize'] = (10.0, 8.0)"
   ]
  },
  {
   "cell_type": "markdown",
   "metadata": {},
   "source": [
    "---\n",
    "# Define Constant"
   ]
  },
  {
   "cell_type": "code",
   "execution_count": 3,
   "metadata": {
    "collapsed": true
   },
   "outputs": [],
   "source": [
    "USE_GPU = torch.cuda.is_available()\n",
    "TRAIN_DATA_PATH = '/media/dennis/HDD/AerialImageDataset/train/512/train_data/'\n",
    "TRAIN_LABEL_PATH = '/media/dennis/HDD/AerialImageDataset/train/512/train_label/'\n",
    "VAL_DATA_PATH = '/media/dennis/HDD/AerialImageDataset/train/512/val_data/'\n",
    "VAL_LABEL_PATH = '/media/dennis/HDD/AerialImageDataset/train/512/val_label/'"
   ]
  },
  {
   "cell_type": "markdown",
   "metadata": {},
   "source": [
    "---\n",
    "# Load data and data preprocessing"
   ]
  },
  {
   "cell_type": "code",
   "execution_count": 4,
   "metadata": {},
   "outputs": [
    {
     "name": "stdout",
     "output_type": "stream",
     "text": [
      "17100 17100\n",
      "900 900\n"
     ]
    }
   ],
   "source": [
    "\"\"\"\n",
    "Get file names of training and testing data\n",
    "\"\"\"\n",
    "train = (os.listdir(TRAIN_DATA_PATH), os.listdir(TRAIN_LABEL_PATH))\n",
    "val = (os.listdir(VAL_DATA_PATH), os.listdir(VAL_LABEL_PATH))\n",
    "print(len(train[0]), len(train[1]))\n",
    "print(len(val[0]), len(val[1]))"
   ]
  },
  {
   "cell_type": "code",
   "execution_count": 5,
   "metadata": {
    "collapsed": true
   },
   "outputs": [],
   "source": [
    "\"\"\"\n",
    "Create dataset object to load aerial data\n",
    "\"\"\"\n",
    "class AerialImageDataset(Dataset):\n",
    "    \"\"\"\n",
    "    It is used to load the aerial image dataset \n",
    "    \"\"\"\n",
    "    def __init__(self, data_dir, label_dir, data_list, label_list, transform=None):\n",
    "        self.data_dir = data_dir\n",
    "        self.label_dir = label_dir\n",
    "        self.datas = data_list\n",
    "        self.labels = label_list\n",
    "        self.transform = transform\n",
    "    def __len__(self):\n",
    "        return len(self.datas)\n",
    "    def __getitem__(self, idx):\n",
    "        img_name = self.data_dir + str(self.datas[idx])\n",
    "        lbl_name = self.label_dir + str(self.labels[idx])\n",
    "        img = io.imread(img_name)\n",
    "        lbl = io.imread(lbl_name)\n",
    "        if self.transform:\n",
    "            img = self.transform(img)\n",
    "            lbl = transforms.ToPILImage()(np.expand_dims(lbl, axis=2))\n",
    "#             lbl = transforms.Resize((512, 512))(lbl)\n",
    "            lbl = transforms.ToTensor()(lbl)\n",
    "            lbl[lbl >= 0.5] = 1\n",
    "            lbl[lbl < 0.5] = 0\n",
    "        return (img, lbl)"
   ]
  },
  {
   "cell_type": "code",
   "execution_count": 6,
   "metadata": {},
   "outputs": [
    {
     "name": "stdout",
     "output_type": "stream",
     "text": [
      "torch.Size([3, 512, 512])\n",
      "torch.Size([1, 512, 512])\n"
     ]
    }
   ],
   "source": [
    "\"\"\"\n",
    "Build training dataset containing data and label,\n",
    "both of them are in torch.Tensor data type.\n",
    "\"\"\"\n",
    "train_dataset = AerialImageDataset(\n",
    "    data_dir = TRAIN_DATA_PATH,\n",
    "    label_dir = TRAIN_LABEL_PATH,\n",
    "    data_list = train[0],\n",
    "    label_list = train[1],\n",
    "    transform = transforms.Compose([\n",
    "        transforms.ToPILImage(),\n",
    "#         transforms.Resize((512, 512)),\n",
    "        transforms.ToTensor(),\n",
    "        transforms.Normalize([0.485, 0.456, 0.406], [0.229, 0.224, 0.225])\n",
    "    ])\n",
    ")\n",
    "# fig, axs = plt.subplots(2)\n",
    "# axs[0].imshow(train_dataset[30][0])\n",
    "# axs[1].imshow(train_dataset[30][1])\n",
    "print(train_dataset[17099][0].size())\n",
    "print(train_dataset[17099][1].size())"
   ]
  },
  {
   "cell_type": "code",
   "execution_count": 7,
   "metadata": {},
   "outputs": [
    {
     "name": "stdout",
     "output_type": "stream",
     "text": [
      "torch.Size([3, 512, 512])\n",
      "torch.Size([1, 512, 512])\n"
     ]
    }
   ],
   "source": [
    "\"\"\"\n",
    "Build Val dataset containing data and label,\n",
    "both of them are in torch.Tensor data type.\n",
    "\"\"\"\n",
    "val_dataset = AerialImageDataset(\n",
    "    data_dir = VAL_DATA_PATH,\n",
    "    label_dir = VAL_LABEL_PATH,\n",
    "    data_list = val[0],\n",
    "    label_list = val[1],\n",
    "    transform = transforms.Compose([\n",
    "        transforms.ToPILImage(),\n",
    "#         transforms.Resize((512, 512)),\n",
    "        transforms.ToTensor(),\n",
    "        transforms.Normalize([0.485, 0.456, 0.406], [0.229, 0.224, 0.225])\n",
    "    ])\n",
    ")\n",
    "print(val_dataset[899][0].size())\n",
    "print(val_dataset[899][1].size())"
   ]
  },
  {
   "cell_type": "code",
   "execution_count": 8,
   "metadata": {
    "collapsed": true
   },
   "outputs": [],
   "source": [
    "\"\"\"\n",
    "Build dataloader for both training and val data,\n",
    "the size of training data will be [4, 3, 500, 500]\n",
    "the size of val data will be [4, 1, 500, 500]\n",
    "\"\"\"\n",
    "train_dataloader = DataLoader(train_dataset, 4, shuffle=True)\n",
    "val_dataloader = DataLoader(val_dataset, 4)"
   ]
  },
  {
   "cell_type": "markdown",
   "metadata": {},
   "source": [
    "---\n",
    "# Build Network"
   ]
  },
  {
   "cell_type": "code",
   "execution_count": 9,
   "metadata": {
    "slideshow": {
     "slide_type": "-"
    }
   },
   "outputs": [
    {
     "name": "stdout",
     "output_type": "stream",
     "text": [
      "DenseNet(\n",
      "  (features): Sequential(\n",
      "    (conv0): Conv2d (3, 96, kernel_size=(7, 7), stride=(2, 2), padding=(3, 3), bias=False)\n",
      "    (norm0): BatchNorm2d(96, eps=1e-05, momentum=0.1, affine=True)\n",
      "    (relu0): ReLU(inplace)\n",
      "    (pool0): MaxPool2d(kernel_size=(3, 3), stride=(2, 2), padding=(1, 1), dilation=(1, 1))\n",
      "    (denseblock1): _DenseBlock(\n",
      "      (denselayer1): _DenseLayer(\n",
      "        (norm.1): BatchNorm2d(96, eps=1e-05, momentum=0.1, affine=True)\n",
      "        (relu.1): ReLU(inplace)\n",
      "        (conv.1): Conv2d (96, 192, kernel_size=(1, 1), stride=(1, 1), bias=False)\n",
      "        (norm.2): BatchNorm2d(192, eps=1e-05, momentum=0.1, affine=True)\n",
      "        (relu.2): ReLU(inplace)\n",
      "        (conv.2): Conv2d (192, 48, kernel_size=(3, 3), stride=(1, 1), padding=(1, 1), bias=False)\n",
      "      )\n",
      "      (denselayer2): _DenseLayer(\n",
      "        (norm.1): BatchNorm2d(144, eps=1e-05, momentum=0.1, affine=True)\n",
      "        (relu.1): ReLU(inplace)\n",
      "        (conv.1): Conv2d (144, 192, kernel_size=(1, 1), stride=(1, 1), bias=False)\n",
      "        (norm.2): BatchNorm2d(192, eps=1e-05, momentum=0.1, affine=True)\n",
      "        (relu.2): ReLU(inplace)\n",
      "        (conv.2): Conv2d (192, 48, kernel_size=(3, 3), stride=(1, 1), padding=(1, 1), bias=False)\n",
      "      )\n",
      "      (denselayer3): _DenseLayer(\n",
      "        (norm.1): BatchNorm2d(192, eps=1e-05, momentum=0.1, affine=True)\n",
      "        (relu.1): ReLU(inplace)\n",
      "        (conv.1): Conv2d (192, 192, kernel_size=(1, 1), stride=(1, 1), bias=False)\n",
      "        (norm.2): BatchNorm2d(192, eps=1e-05, momentum=0.1, affine=True)\n",
      "        (relu.2): ReLU(inplace)\n",
      "        (conv.2): Conv2d (192, 48, kernel_size=(3, 3), stride=(1, 1), padding=(1, 1), bias=False)\n",
      "      )\n",
      "      (denselayer4): _DenseLayer(\n",
      "        (norm.1): BatchNorm2d(240, eps=1e-05, momentum=0.1, affine=True)\n",
      "        (relu.1): ReLU(inplace)\n",
      "        (conv.1): Conv2d (240, 192, kernel_size=(1, 1), stride=(1, 1), bias=False)\n",
      "        (norm.2): BatchNorm2d(192, eps=1e-05, momentum=0.1, affine=True)\n",
      "        (relu.2): ReLU(inplace)\n",
      "        (conv.2): Conv2d (192, 48, kernel_size=(3, 3), stride=(1, 1), padding=(1, 1), bias=False)\n",
      "      )\n",
      "      (denselayer5): _DenseLayer(\n",
      "        (norm.1): BatchNorm2d(288, eps=1e-05, momentum=0.1, affine=True)\n",
      "        (relu.1): ReLU(inplace)\n",
      "        (conv.1): Conv2d (288, 192, kernel_size=(1, 1), stride=(1, 1), bias=False)\n",
      "        (norm.2): BatchNorm2d(192, eps=1e-05, momentum=0.1, affine=True)\n",
      "        (relu.2): ReLU(inplace)\n",
      "        (conv.2): Conv2d (192, 48, kernel_size=(3, 3), stride=(1, 1), padding=(1, 1), bias=False)\n",
      "      )\n",
      "      (denselayer6): _DenseLayer(\n",
      "        (norm.1): BatchNorm2d(336, eps=1e-05, momentum=0.1, affine=True)\n",
      "        (relu.1): ReLU(inplace)\n",
      "        (conv.1): Conv2d (336, 192, kernel_size=(1, 1), stride=(1, 1), bias=False)\n",
      "        (norm.2): BatchNorm2d(192, eps=1e-05, momentum=0.1, affine=True)\n",
      "        (relu.2): ReLU(inplace)\n",
      "        (conv.2): Conv2d (192, 48, kernel_size=(3, 3), stride=(1, 1), padding=(1, 1), bias=False)\n",
      "      )\n",
      "    )\n",
      "    (transition1): _Transition(\n",
      "      (norm): BatchNorm2d(384, eps=1e-05, momentum=0.1, affine=True)\n",
      "      (relu): ReLU(inplace)\n",
      "      (conv): Conv2d (384, 192, kernel_size=(1, 1), stride=(1, 1), bias=False)\n",
      "      (pool): AvgPool2d(kernel_size=2, stride=2, padding=0, ceil_mode=False, count_include_pad=True)\n",
      "    )\n",
      "    (denseblock2): _DenseBlock(\n",
      "      (denselayer1): _DenseLayer(\n",
      "        (norm.1): BatchNorm2d(192, eps=1e-05, momentum=0.1, affine=True)\n",
      "        (relu.1): ReLU(inplace)\n",
      "        (conv.1): Conv2d (192, 192, kernel_size=(1, 1), stride=(1, 1), bias=False)\n",
      "        (norm.2): BatchNorm2d(192, eps=1e-05, momentum=0.1, affine=True)\n",
      "        (relu.2): ReLU(inplace)\n",
      "        (conv.2): Conv2d (192, 48, kernel_size=(3, 3), stride=(1, 1), padding=(1, 1), bias=False)\n",
      "      )\n",
      "      (denselayer2): _DenseLayer(\n",
      "        (norm.1): BatchNorm2d(240, eps=1e-05, momentum=0.1, affine=True)\n",
      "        (relu.1): ReLU(inplace)\n",
      "        (conv.1): Conv2d (240, 192, kernel_size=(1, 1), stride=(1, 1), bias=False)\n",
      "        (norm.2): BatchNorm2d(192, eps=1e-05, momentum=0.1, affine=True)\n",
      "        (relu.2): ReLU(inplace)\n",
      "        (conv.2): Conv2d (192, 48, kernel_size=(3, 3), stride=(1, 1), padding=(1, 1), bias=False)\n",
      "      )\n",
      "      (denselayer3): _DenseLayer(\n",
      "        (norm.1): BatchNorm2d(288, eps=1e-05, momentum=0.1, affine=True)\n",
      "        (relu.1): ReLU(inplace)\n",
      "        (conv.1): Conv2d (288, 192, kernel_size=(1, 1), stride=(1, 1), bias=False)\n",
      "        (norm.2): BatchNorm2d(192, eps=1e-05, momentum=0.1, affine=True)\n",
      "        (relu.2): ReLU(inplace)\n",
      "        (conv.2): Conv2d (192, 48, kernel_size=(3, 3), stride=(1, 1), padding=(1, 1), bias=False)\n",
      "      )\n",
      "      (denselayer4): _DenseLayer(\n",
      "        (norm.1): BatchNorm2d(336, eps=1e-05, momentum=0.1, affine=True)\n",
      "        (relu.1): ReLU(inplace)\n",
      "        (conv.1): Conv2d (336, 192, kernel_size=(1, 1), stride=(1, 1), bias=False)\n",
      "        (norm.2): BatchNorm2d(192, eps=1e-05, momentum=0.1, affine=True)\n",
      "        (relu.2): ReLU(inplace)\n",
      "        (conv.2): Conv2d (192, 48, kernel_size=(3, 3), stride=(1, 1), padding=(1, 1), bias=False)\n",
      "      )\n",
      "      (denselayer5): _DenseLayer(\n",
      "        (norm.1): BatchNorm2d(384, eps=1e-05, momentum=0.1, affine=True)\n",
      "        (relu.1): ReLU(inplace)\n",
      "        (conv.1): Conv2d (384, 192, kernel_size=(1, 1), stride=(1, 1), bias=False)\n",
      "        (norm.2): BatchNorm2d(192, eps=1e-05, momentum=0.1, affine=True)\n",
      "        (relu.2): ReLU(inplace)\n",
      "        (conv.2): Conv2d (192, 48, kernel_size=(3, 3), stride=(1, 1), padding=(1, 1), bias=False)\n",
      "      )\n",
      "      (denselayer6): _DenseLayer(\n",
      "        (norm.1): BatchNorm2d(432, eps=1e-05, momentum=0.1, affine=True)\n",
      "        (relu.1): ReLU(inplace)\n",
      "        (conv.1): Conv2d (432, 192, kernel_size=(1, 1), stride=(1, 1), bias=False)\n",
      "        (norm.2): BatchNorm2d(192, eps=1e-05, momentum=0.1, affine=True)\n",
      "        (relu.2): ReLU(inplace)\n",
      "        (conv.2): Conv2d (192, 48, kernel_size=(3, 3), stride=(1, 1), padding=(1, 1), bias=False)\n",
      "      )\n",
      "      (denselayer7): _DenseLayer(\n",
      "        (norm.1): BatchNorm2d(480, eps=1e-05, momentum=0.1, affine=True)\n",
      "        (relu.1): ReLU(inplace)\n",
      "        (conv.1): Conv2d (480, 192, kernel_size=(1, 1), stride=(1, 1), bias=False)\n",
      "        (norm.2): BatchNorm2d(192, eps=1e-05, momentum=0.1, affine=True)\n",
      "        (relu.2): ReLU(inplace)\n",
      "        (conv.2): Conv2d (192, 48, kernel_size=(3, 3), stride=(1, 1), padding=(1, 1), bias=False)\n",
      "      )\n",
      "      (denselayer8): _DenseLayer(\n",
      "        (norm.1): BatchNorm2d(528, eps=1e-05, momentum=0.1, affine=True)\n",
      "        (relu.1): ReLU(inplace)\n",
      "        (conv.1): Conv2d (528, 192, kernel_size=(1, 1), stride=(1, 1), bias=False)\n",
      "        (norm.2): BatchNorm2d(192, eps=1e-05, momentum=0.1, affine=True)\n",
      "        (relu.2): ReLU(inplace)\n",
      "        (conv.2): Conv2d (192, 48, kernel_size=(3, 3), stride=(1, 1), padding=(1, 1), bias=False)\n",
      "      )\n",
      "      (denselayer9): _DenseLayer(\n",
      "        (norm.1): BatchNorm2d(576, eps=1e-05, momentum=0.1, affine=True)\n",
      "        (relu.1): ReLU(inplace)\n",
      "        (conv.1): Conv2d (576, 192, kernel_size=(1, 1), stride=(1, 1), bias=False)\n",
      "        (norm.2): BatchNorm2d(192, eps=1e-05, momentum=0.1, affine=True)\n",
      "        (relu.2): ReLU(inplace)\n",
      "        (conv.2): Conv2d (192, 48, kernel_size=(3, 3), stride=(1, 1), padding=(1, 1), bias=False)\n",
      "      )\n",
      "      (denselayer10): _DenseLayer(\n",
      "        (norm.1): BatchNorm2d(624, eps=1e-05, momentum=0.1, affine=True)\n",
      "        (relu.1): ReLU(inplace)\n",
      "        (conv.1): Conv2d (624, 192, kernel_size=(1, 1), stride=(1, 1), bias=False)\n",
      "        (norm.2): BatchNorm2d(192, eps=1e-05, momentum=0.1, affine=True)\n",
      "        (relu.2): ReLU(inplace)\n",
      "        (conv.2): Conv2d (192, 48, kernel_size=(3, 3), stride=(1, 1), padding=(1, 1), bias=False)\n",
      "      )\n",
      "      (denselayer11): _DenseLayer(\n",
      "        (norm.1): BatchNorm2d(672, eps=1e-05, momentum=0.1, affine=True)\n",
      "        (relu.1): ReLU(inplace)\n",
      "        (conv.1): Conv2d (672, 192, kernel_size=(1, 1), stride=(1, 1), bias=False)\n",
      "        (norm.2): BatchNorm2d(192, eps=1e-05, momentum=0.1, affine=True)\n",
      "        (relu.2): ReLU(inplace)\n",
      "        (conv.2): Conv2d (192, 48, kernel_size=(3, 3), stride=(1, 1), padding=(1, 1), bias=False)\n",
      "      )\n",
      "      (denselayer12): _DenseLayer(\n",
      "        (norm.1): BatchNorm2d(720, eps=1e-05, momentum=0.1, affine=True)\n",
      "        (relu.1): ReLU(inplace)\n",
      "        (conv.1): Conv2d (720, 192, kernel_size=(1, 1), stride=(1, 1), bias=False)\n",
      "        (norm.2): BatchNorm2d(192, eps=1e-05, momentum=0.1, affine=True)\n",
      "        (relu.2): ReLU(inplace)\n",
      "        (conv.2): Conv2d (192, 48, kernel_size=(3, 3), stride=(1, 1), padding=(1, 1), bias=False)\n",
      "      )\n",
      "    )\n",
      "    (transition2): _Transition(\n",
      "      (norm): BatchNorm2d(768, eps=1e-05, momentum=0.1, affine=True)\n",
      "      (relu): ReLU(inplace)\n",
      "      (conv): Conv2d (768, 384, kernel_size=(1, 1), stride=(1, 1), bias=False)\n",
      "      (pool): AvgPool2d(kernel_size=2, stride=2, padding=0, ceil_mode=False, count_include_pad=True)\n",
      "    )\n",
      "    (denseblock3): _DenseBlock(\n",
      "      (denselayer1): _DenseLayer(\n",
      "        (norm.1): BatchNorm2d(384, eps=1e-05, momentum=0.1, affine=True)\n",
      "        (relu.1): ReLU(inplace)\n",
      "        (conv.1): Conv2d (384, 192, kernel_size=(1, 1), stride=(1, 1), bias=False)\n",
      "        (norm.2): BatchNorm2d(192, eps=1e-05, momentum=0.1, affine=True)\n",
      "        (relu.2): ReLU(inplace)\n",
      "        (conv.2): Conv2d (192, 48, kernel_size=(3, 3), stride=(1, 1), padding=(1, 1), bias=False)\n",
      "      )\n",
      "      (denselayer2): _DenseLayer(\n",
      "        (norm.1): BatchNorm2d(432, eps=1e-05, momentum=0.1, affine=True)\n",
      "        (relu.1): ReLU(inplace)\n",
      "        (conv.1): Conv2d (432, 192, kernel_size=(1, 1), stride=(1, 1), bias=False)\n",
      "        (norm.2): BatchNorm2d(192, eps=1e-05, momentum=0.1, affine=True)\n",
      "        (relu.2): ReLU(inplace)\n",
      "        (conv.2): Conv2d (192, 48, kernel_size=(3, 3), stride=(1, 1), padding=(1, 1), bias=False)\n",
      "      )\n",
      "      (denselayer3): _DenseLayer(\n",
      "        (norm.1): BatchNorm2d(480, eps=1e-05, momentum=0.1, affine=True)\n",
      "        (relu.1): ReLU(inplace)\n",
      "        (conv.1): Conv2d (480, 192, kernel_size=(1, 1), stride=(1, 1), bias=False)\n",
      "        (norm.2): BatchNorm2d(192, eps=1e-05, momentum=0.1, affine=True)\n",
      "        (relu.2): ReLU(inplace)\n",
      "        (conv.2): Conv2d (192, 48, kernel_size=(3, 3), stride=(1, 1), padding=(1, 1), bias=False)\n",
      "      )\n",
      "      (denselayer4): _DenseLayer(\n",
      "        (norm.1): BatchNorm2d(528, eps=1e-05, momentum=0.1, affine=True)\n",
      "        (relu.1): ReLU(inplace)\n",
      "        (conv.1): Conv2d (528, 192, kernel_size=(1, 1), stride=(1, 1), bias=False)\n",
      "        (norm.2): BatchNorm2d(192, eps=1e-05, momentum=0.1, affine=True)\n",
      "        (relu.2): ReLU(inplace)\n",
      "        (conv.2): Conv2d (192, 48, kernel_size=(3, 3), stride=(1, 1), padding=(1, 1), bias=False)\n",
      "      )\n",
      "      (denselayer5): _DenseLayer(\n",
      "        (norm.1): BatchNorm2d(576, eps=1e-05, momentum=0.1, affine=True)\n",
      "        (relu.1): ReLU(inplace)\n",
      "        (conv.1): Conv2d (576, 192, kernel_size=(1, 1), stride=(1, 1), bias=False)\n",
      "        (norm.2): BatchNorm2d(192, eps=1e-05, momentum=0.1, affine=True)\n",
      "        (relu.2): ReLU(inplace)\n",
      "        (conv.2): Conv2d (192, 48, kernel_size=(3, 3), stride=(1, 1), padding=(1, 1), bias=False)\n",
      "      )\n",
      "      (denselayer6): _DenseLayer(\n",
      "        (norm.1): BatchNorm2d(624, eps=1e-05, momentum=0.1, affine=True)\n",
      "        (relu.1): ReLU(inplace)\n",
      "        (conv.1): Conv2d (624, 192, kernel_size=(1, 1), stride=(1, 1), bias=False)\n",
      "        (norm.2): BatchNorm2d(192, eps=1e-05, momentum=0.1, affine=True)\n",
      "        (relu.2): ReLU(inplace)\n",
      "        (conv.2): Conv2d (192, 48, kernel_size=(3, 3), stride=(1, 1), padding=(1, 1), bias=False)\n",
      "      )\n",
      "      (denselayer7): _DenseLayer(\n",
      "        (norm.1): BatchNorm2d(672, eps=1e-05, momentum=0.1, affine=True)\n",
      "        (relu.1): ReLU(inplace)\n",
      "        (conv.1): Conv2d (672, 192, kernel_size=(1, 1), stride=(1, 1), bias=False)\n",
      "        (norm.2): BatchNorm2d(192, eps=1e-05, momentum=0.1, affine=True)\n",
      "        (relu.2): ReLU(inplace)\n",
      "        (conv.2): Conv2d (192, 48, kernel_size=(3, 3), stride=(1, 1), padding=(1, 1), bias=False)\n",
      "      )\n",
      "      (denselayer8): _DenseLayer(\n",
      "        (norm.1): BatchNorm2d(720, eps=1e-05, momentum=0.1, affine=True)\n",
      "        (relu.1): ReLU(inplace)\n",
      "        (conv.1): Conv2d (720, 192, kernel_size=(1, 1), stride=(1, 1), bias=False)\n",
      "        (norm.2): BatchNorm2d(192, eps=1e-05, momentum=0.1, affine=True)\n",
      "        (relu.2): ReLU(inplace)\n",
      "        (conv.2): Conv2d (192, 48, kernel_size=(3, 3), stride=(1, 1), padding=(1, 1), bias=False)\n",
      "      )\n",
      "      (denselayer9): _DenseLayer(\n",
      "        (norm.1): BatchNorm2d(768, eps=1e-05, momentum=0.1, affine=True)\n",
      "        (relu.1): ReLU(inplace)\n",
      "        (conv.1): Conv2d (768, 192, kernel_size=(1, 1), stride=(1, 1), bias=False)\n",
      "        (norm.2): BatchNorm2d(192, eps=1e-05, momentum=0.1, affine=True)\n",
      "        (relu.2): ReLU(inplace)\n",
      "        (conv.2): Conv2d (192, 48, kernel_size=(3, 3), stride=(1, 1), padding=(1, 1), bias=False)\n",
      "      )\n",
      "      (denselayer10): _DenseLayer(\n",
      "        (norm.1): BatchNorm2d(816, eps=1e-05, momentum=0.1, affine=True)\n",
      "        (relu.1): ReLU(inplace)\n",
      "        (conv.1): Conv2d (816, 192, kernel_size=(1, 1), stride=(1, 1), bias=False)\n",
      "        (norm.2): BatchNorm2d(192, eps=1e-05, momentum=0.1, affine=True)\n",
      "        (relu.2): ReLU(inplace)\n",
      "        (conv.2): Conv2d (192, 48, kernel_size=(3, 3), stride=(1, 1), padding=(1, 1), bias=False)\n",
      "      )\n",
      "      (denselayer11): _DenseLayer(\n",
      "        (norm.1): BatchNorm2d(864, eps=1e-05, momentum=0.1, affine=True)\n",
      "        (relu.1): ReLU(inplace)\n",
      "        (conv.1): Conv2d (864, 192, kernel_size=(1, 1), stride=(1, 1), bias=False)\n",
      "        (norm.2): BatchNorm2d(192, eps=1e-05, momentum=0.1, affine=True)\n",
      "        (relu.2): ReLU(inplace)\n",
      "        (conv.2): Conv2d (192, 48, kernel_size=(3, 3), stride=(1, 1), padding=(1, 1), bias=False)\n",
      "      )\n",
      "      (denselayer12): _DenseLayer(\n",
      "        (norm.1): BatchNorm2d(912, eps=1e-05, momentum=0.1, affine=True)\n",
      "        (relu.1): ReLU(inplace)\n",
      "        (conv.1): Conv2d (912, 192, kernel_size=(1, 1), stride=(1, 1), bias=False)\n",
      "        (norm.2): BatchNorm2d(192, eps=1e-05, momentum=0.1, affine=True)\n",
      "        (relu.2): ReLU(inplace)\n",
      "        (conv.2): Conv2d (192, 48, kernel_size=(3, 3), stride=(1, 1), padding=(1, 1), bias=False)\n",
      "      )\n",
      "      (denselayer13): _DenseLayer(\n",
      "        (norm.1): BatchNorm2d(960, eps=1e-05, momentum=0.1, affine=True)\n",
      "        (relu.1): ReLU(inplace)\n",
      "        (conv.1): Conv2d (960, 192, kernel_size=(1, 1), stride=(1, 1), bias=False)\n",
      "        (norm.2): BatchNorm2d(192, eps=1e-05, momentum=0.1, affine=True)\n",
      "        (relu.2): ReLU(inplace)\n",
      "        (conv.2): Conv2d (192, 48, kernel_size=(3, 3), stride=(1, 1), padding=(1, 1), bias=False)\n",
      "      )\n",
      "      (denselayer14): _DenseLayer(\n",
      "        (norm.1): BatchNorm2d(1008, eps=1e-05, momentum=0.1, affine=True)\n",
      "        (relu.1): ReLU(inplace)\n",
      "        (conv.1): Conv2d (1008, 192, kernel_size=(1, 1), stride=(1, 1), bias=False)\n",
      "        (norm.2): BatchNorm2d(192, eps=1e-05, momentum=0.1, affine=True)\n",
      "        (relu.2): ReLU(inplace)\n",
      "        (conv.2): Conv2d (192, 48, kernel_size=(3, 3), stride=(1, 1), padding=(1, 1), bias=False)\n",
      "      )\n",
      "      (denselayer15): _DenseLayer(\n",
      "        (norm.1): BatchNorm2d(1056, eps=1e-05, momentum=0.1, affine=True)\n",
      "        (relu.1): ReLU(inplace)\n",
      "        (conv.1): Conv2d (1056, 192, kernel_size=(1, 1), stride=(1, 1), bias=False)\n",
      "        (norm.2): BatchNorm2d(192, eps=1e-05, momentum=0.1, affine=True)\n",
      "        (relu.2): ReLU(inplace)\n",
      "        (conv.2): Conv2d (192, 48, kernel_size=(3, 3), stride=(1, 1), padding=(1, 1), bias=False)\n",
      "      )\n",
      "      (denselayer16): _DenseLayer(\n",
      "        (norm.1): BatchNorm2d(1104, eps=1e-05, momentum=0.1, affine=True)\n",
      "        (relu.1): ReLU(inplace)\n",
      "        (conv.1): Conv2d (1104, 192, kernel_size=(1, 1), stride=(1, 1), bias=False)\n",
      "        (norm.2): BatchNorm2d(192, eps=1e-05, momentum=0.1, affine=True)\n",
      "        (relu.2): ReLU(inplace)\n",
      "        (conv.2): Conv2d (192, 48, kernel_size=(3, 3), stride=(1, 1), padding=(1, 1), bias=False)\n",
      "      )\n",
      "      (denselayer17): _DenseLayer(\n",
      "        (norm.1): BatchNorm2d(1152, eps=1e-05, momentum=0.1, affine=True)\n",
      "        (relu.1): ReLU(inplace)\n",
      "        (conv.1): Conv2d (1152, 192, kernel_size=(1, 1), stride=(1, 1), bias=False)\n",
      "        (norm.2): BatchNorm2d(192, eps=1e-05, momentum=0.1, affine=True)\n",
      "        (relu.2): ReLU(inplace)\n",
      "        (conv.2): Conv2d (192, 48, kernel_size=(3, 3), stride=(1, 1), padding=(1, 1), bias=False)\n",
      "      )\n",
      "      (denselayer18): _DenseLayer(\n",
      "        (norm.1): BatchNorm2d(1200, eps=1e-05, momentum=0.1, affine=True)\n",
      "        (relu.1): ReLU(inplace)\n",
      "        (conv.1): Conv2d (1200, 192, kernel_size=(1, 1), stride=(1, 1), bias=False)\n",
      "        (norm.2): BatchNorm2d(192, eps=1e-05, momentum=0.1, affine=True)\n",
      "        (relu.2): ReLU(inplace)\n",
      "        (conv.2): Conv2d (192, 48, kernel_size=(3, 3), stride=(1, 1), padding=(1, 1), bias=False)\n",
      "      )\n",
      "      (denselayer19): _DenseLayer(\n",
      "        (norm.1): BatchNorm2d(1248, eps=1e-05, momentum=0.1, affine=True)\n",
      "        (relu.1): ReLU(inplace)\n",
      "        (conv.1): Conv2d (1248, 192, kernel_size=(1, 1), stride=(1, 1), bias=False)\n",
      "        (norm.2): BatchNorm2d(192, eps=1e-05, momentum=0.1, affine=True)\n",
      "        (relu.2): ReLU(inplace)\n",
      "        (conv.2): Conv2d (192, 48, kernel_size=(3, 3), stride=(1, 1), padding=(1, 1), bias=False)\n",
      "      )\n",
      "      (denselayer20): _DenseLayer(\n",
      "        (norm.1): BatchNorm2d(1296, eps=1e-05, momentum=0.1, affine=True)\n",
      "        (relu.1): ReLU(inplace)\n",
      "        (conv.1): Conv2d (1296, 192, kernel_size=(1, 1), stride=(1, 1), bias=False)\n",
      "        (norm.2): BatchNorm2d(192, eps=1e-05, momentum=0.1, affine=True)\n",
      "        (relu.2): ReLU(inplace)\n",
      "        (conv.2): Conv2d (192, 48, kernel_size=(3, 3), stride=(1, 1), padding=(1, 1), bias=False)\n",
      "      )\n",
      "      (denselayer21): _DenseLayer(\n",
      "        (norm.1): BatchNorm2d(1344, eps=1e-05, momentum=0.1, affine=True)\n",
      "        (relu.1): ReLU(inplace)\n",
      "        (conv.1): Conv2d (1344, 192, kernel_size=(1, 1), stride=(1, 1), bias=False)\n",
      "        (norm.2): BatchNorm2d(192, eps=1e-05, momentum=0.1, affine=True)\n",
      "        (relu.2): ReLU(inplace)\n",
      "        (conv.2): Conv2d (192, 48, kernel_size=(3, 3), stride=(1, 1), padding=(1, 1), bias=False)\n",
      "      )\n",
      "      (denselayer22): _DenseLayer(\n",
      "        (norm.1): BatchNorm2d(1392, eps=1e-05, momentum=0.1, affine=True)\n",
      "        (relu.1): ReLU(inplace)\n",
      "        (conv.1): Conv2d (1392, 192, kernel_size=(1, 1), stride=(1, 1), bias=False)\n",
      "        (norm.2): BatchNorm2d(192, eps=1e-05, momentum=0.1, affine=True)\n",
      "        (relu.2): ReLU(inplace)\n",
      "        (conv.2): Conv2d (192, 48, kernel_size=(3, 3), stride=(1, 1), padding=(1, 1), bias=False)\n",
      "      )\n",
      "      (denselayer23): _DenseLayer(\n",
      "        (norm.1): BatchNorm2d(1440, eps=1e-05, momentum=0.1, affine=True)\n",
      "        (relu.1): ReLU(inplace)\n",
      "        (conv.1): Conv2d (1440, 192, kernel_size=(1, 1), stride=(1, 1), bias=False)\n",
      "        (norm.2): BatchNorm2d(192, eps=1e-05, momentum=0.1, affine=True)\n",
      "        (relu.2): ReLU(inplace)\n",
      "        (conv.2): Conv2d (192, 48, kernel_size=(3, 3), stride=(1, 1), padding=(1, 1), bias=False)\n",
      "      )\n",
      "      (denselayer24): _DenseLayer(\n",
      "        (norm.1): BatchNorm2d(1488, eps=1e-05, momentum=0.1, affine=True)\n",
      "        (relu.1): ReLU(inplace)\n",
      "        (conv.1): Conv2d (1488, 192, kernel_size=(1, 1), stride=(1, 1), bias=False)\n",
      "        (norm.2): BatchNorm2d(192, eps=1e-05, momentum=0.1, affine=True)\n",
      "        (relu.2): ReLU(inplace)\n",
      "        (conv.2): Conv2d (192, 48, kernel_size=(3, 3), stride=(1, 1), padding=(1, 1), bias=False)\n",
      "      )\n",
      "      (denselayer25): _DenseLayer(\n",
      "        (norm.1): BatchNorm2d(1536, eps=1e-05, momentum=0.1, affine=True)\n",
      "        (relu.1): ReLU(inplace)\n",
      "        (conv.1): Conv2d (1536, 192, kernel_size=(1, 1), stride=(1, 1), bias=False)\n",
      "        (norm.2): BatchNorm2d(192, eps=1e-05, momentum=0.1, affine=True)\n",
      "        (relu.2): ReLU(inplace)\n",
      "        (conv.2): Conv2d (192, 48, kernel_size=(3, 3), stride=(1, 1), padding=(1, 1), bias=False)\n",
      "      )\n",
      "      (denselayer26): _DenseLayer(\n",
      "        (norm.1): BatchNorm2d(1584, eps=1e-05, momentum=0.1, affine=True)\n",
      "        (relu.1): ReLU(inplace)\n",
      "        (conv.1): Conv2d (1584, 192, kernel_size=(1, 1), stride=(1, 1), bias=False)\n",
      "        (norm.2): BatchNorm2d(192, eps=1e-05, momentum=0.1, affine=True)\n",
      "        (relu.2): ReLU(inplace)\n",
      "        (conv.2): Conv2d (192, 48, kernel_size=(3, 3), stride=(1, 1), padding=(1, 1), bias=False)\n",
      "      )\n",
      "      (denselayer27): _DenseLayer(\n",
      "        (norm.1): BatchNorm2d(1632, eps=1e-05, momentum=0.1, affine=True)\n",
      "        (relu.1): ReLU(inplace)\n",
      "        (conv.1): Conv2d (1632, 192, kernel_size=(1, 1), stride=(1, 1), bias=False)\n",
      "        (norm.2): BatchNorm2d(192, eps=1e-05, momentum=0.1, affine=True)\n",
      "        (relu.2): ReLU(inplace)\n",
      "        (conv.2): Conv2d (192, 48, kernel_size=(3, 3), stride=(1, 1), padding=(1, 1), bias=False)\n",
      "      )\n",
      "      (denselayer28): _DenseLayer(\n",
      "        (norm.1): BatchNorm2d(1680, eps=1e-05, momentum=0.1, affine=True)\n",
      "        (relu.1): ReLU(inplace)\n",
      "        (conv.1): Conv2d (1680, 192, kernel_size=(1, 1), stride=(1, 1), bias=False)\n",
      "        (norm.2): BatchNorm2d(192, eps=1e-05, momentum=0.1, affine=True)\n",
      "        (relu.2): ReLU(inplace)\n",
      "        (conv.2): Conv2d (192, 48, kernel_size=(3, 3), stride=(1, 1), padding=(1, 1), bias=False)\n",
      "      )\n",
      "      (denselayer29): _DenseLayer(\n",
      "        (norm.1): BatchNorm2d(1728, eps=1e-05, momentum=0.1, affine=True)\n",
      "        (relu.1): ReLU(inplace)\n",
      "        (conv.1): Conv2d (1728, 192, kernel_size=(1, 1), stride=(1, 1), bias=False)\n",
      "        (norm.2): BatchNorm2d(192, eps=1e-05, momentum=0.1, affine=True)\n",
      "        (relu.2): ReLU(inplace)\n",
      "        (conv.2): Conv2d (192, 48, kernel_size=(3, 3), stride=(1, 1), padding=(1, 1), bias=False)\n",
      "      )\n",
      "      (denselayer30): _DenseLayer(\n",
      "        (norm.1): BatchNorm2d(1776, eps=1e-05, momentum=0.1, affine=True)\n",
      "        (relu.1): ReLU(inplace)\n",
      "        (conv.1): Conv2d (1776, 192, kernel_size=(1, 1), stride=(1, 1), bias=False)\n",
      "        (norm.2): BatchNorm2d(192, eps=1e-05, momentum=0.1, affine=True)\n",
      "        (relu.2): ReLU(inplace)\n",
      "        (conv.2): Conv2d (192, 48, kernel_size=(3, 3), stride=(1, 1), padding=(1, 1), bias=False)\n",
      "      )\n",
      "      (denselayer31): _DenseLayer(\n",
      "        (norm.1): BatchNorm2d(1824, eps=1e-05, momentum=0.1, affine=True)\n",
      "        (relu.1): ReLU(inplace)\n",
      "        (conv.1): Conv2d (1824, 192, kernel_size=(1, 1), stride=(1, 1), bias=False)\n",
      "        (norm.2): BatchNorm2d(192, eps=1e-05, momentum=0.1, affine=True)\n",
      "        (relu.2): ReLU(inplace)\n",
      "        (conv.2): Conv2d (192, 48, kernel_size=(3, 3), stride=(1, 1), padding=(1, 1), bias=False)\n",
      "      )\n",
      "      (denselayer32): _DenseLayer(\n",
      "        (norm.1): BatchNorm2d(1872, eps=1e-05, momentum=0.1, affine=True)\n",
      "        (relu.1): ReLU(inplace)\n",
      "        (conv.1): Conv2d (1872, 192, kernel_size=(1, 1), stride=(1, 1), bias=False)\n",
      "        (norm.2): BatchNorm2d(192, eps=1e-05, momentum=0.1, affine=True)\n",
      "        (relu.2): ReLU(inplace)\n",
      "        (conv.2): Conv2d (192, 48, kernel_size=(3, 3), stride=(1, 1), padding=(1, 1), bias=False)\n",
      "      )\n",
      "      (denselayer33): _DenseLayer(\n",
      "        (norm.1): BatchNorm2d(1920, eps=1e-05, momentum=0.1, affine=True)\n",
      "        (relu.1): ReLU(inplace)\n",
      "        (conv.1): Conv2d (1920, 192, kernel_size=(1, 1), stride=(1, 1), bias=False)\n",
      "        (norm.2): BatchNorm2d(192, eps=1e-05, momentum=0.1, affine=True)\n",
      "        (relu.2): ReLU(inplace)\n",
      "        (conv.2): Conv2d (192, 48, kernel_size=(3, 3), stride=(1, 1), padding=(1, 1), bias=False)\n",
      "      )\n",
      "      (denselayer34): _DenseLayer(\n",
      "        (norm.1): BatchNorm2d(1968, eps=1e-05, momentum=0.1, affine=True)\n",
      "        (relu.1): ReLU(inplace)\n",
      "        (conv.1): Conv2d (1968, 192, kernel_size=(1, 1), stride=(1, 1), bias=False)\n",
      "        (norm.2): BatchNorm2d(192, eps=1e-05, momentum=0.1, affine=True)\n",
      "        (relu.2): ReLU(inplace)\n",
      "        (conv.2): Conv2d (192, 48, kernel_size=(3, 3), stride=(1, 1), padding=(1, 1), bias=False)\n",
      "      )\n",
      "      (denselayer35): _DenseLayer(\n",
      "        (norm.1): BatchNorm2d(2016, eps=1e-05, momentum=0.1, affine=True)\n",
      "        (relu.1): ReLU(inplace)\n",
      "        (conv.1): Conv2d (2016, 192, kernel_size=(1, 1), stride=(1, 1), bias=False)\n",
      "        (norm.2): BatchNorm2d(192, eps=1e-05, momentum=0.1, affine=True)\n",
      "        (relu.2): ReLU(inplace)\n",
      "        (conv.2): Conv2d (192, 48, kernel_size=(3, 3), stride=(1, 1), padding=(1, 1), bias=False)\n",
      "      )\n",
      "      (denselayer36): _DenseLayer(\n",
      "        (norm.1): BatchNorm2d(2064, eps=1e-05, momentum=0.1, affine=True)\n",
      "        (relu.1): ReLU(inplace)\n",
      "        (conv.1): Conv2d (2064, 192, kernel_size=(1, 1), stride=(1, 1), bias=False)\n",
      "        (norm.2): BatchNorm2d(192, eps=1e-05, momentum=0.1, affine=True)\n",
      "        (relu.2): ReLU(inplace)\n",
      "        (conv.2): Conv2d (192, 48, kernel_size=(3, 3), stride=(1, 1), padding=(1, 1), bias=False)\n",
      "      )\n",
      "    )\n",
      "    (transition3): _Transition(\n",
      "      (norm): BatchNorm2d(2112, eps=1e-05, momentum=0.1, affine=True)\n",
      "      (relu): ReLU(inplace)\n",
      "      (conv): Conv2d (2112, 1056, kernel_size=(1, 1), stride=(1, 1), bias=False)\n",
      "      (pool): AvgPool2d(kernel_size=2, stride=2, padding=0, ceil_mode=False, count_include_pad=True)\n",
      "    )\n",
      "    (denseblock4): _DenseBlock(\n",
      "      (denselayer1): _DenseLayer(\n",
      "        (norm.1): BatchNorm2d(1056, eps=1e-05, momentum=0.1, affine=True)\n",
      "        (relu.1): ReLU(inplace)\n",
      "        (conv.1): Conv2d (1056, 192, kernel_size=(1, 1), stride=(1, 1), bias=False)\n",
      "        (norm.2): BatchNorm2d(192, eps=1e-05, momentum=0.1, affine=True)\n",
      "        (relu.2): ReLU(inplace)\n",
      "        (conv.2): Conv2d (192, 48, kernel_size=(3, 3), stride=(1, 1), padding=(1, 1), bias=False)\n",
      "      )\n",
      "      (denselayer2): _DenseLayer(\n",
      "        (norm.1): BatchNorm2d(1104, eps=1e-05, momentum=0.1, affine=True)\n",
      "        (relu.1): ReLU(inplace)\n",
      "        (conv.1): Conv2d (1104, 192, kernel_size=(1, 1), stride=(1, 1), bias=False)\n",
      "        (norm.2): BatchNorm2d(192, eps=1e-05, momentum=0.1, affine=True)\n",
      "        (relu.2): ReLU(inplace)\n",
      "        (conv.2): Conv2d (192, 48, kernel_size=(3, 3), stride=(1, 1), padding=(1, 1), bias=False)\n",
      "      )\n",
      "      (denselayer3): _DenseLayer(\n",
      "        (norm.1): BatchNorm2d(1152, eps=1e-05, momentum=0.1, affine=True)\n",
      "        (relu.1): ReLU(inplace)\n",
      "        (conv.1): Conv2d (1152, 192, kernel_size=(1, 1), stride=(1, 1), bias=False)\n",
      "        (norm.2): BatchNorm2d(192, eps=1e-05, momentum=0.1, affine=True)\n",
      "        (relu.2): ReLU(inplace)\n",
      "        (conv.2): Conv2d (192, 48, kernel_size=(3, 3), stride=(1, 1), padding=(1, 1), bias=False)\n",
      "      )\n",
      "      (denselayer4): _DenseLayer(\n",
      "        (norm.1): BatchNorm2d(1200, eps=1e-05, momentum=0.1, affine=True)\n",
      "        (relu.1): ReLU(inplace)\n",
      "        (conv.1): Conv2d (1200, 192, kernel_size=(1, 1), stride=(1, 1), bias=False)\n",
      "        (norm.2): BatchNorm2d(192, eps=1e-05, momentum=0.1, affine=True)\n",
      "        (relu.2): ReLU(inplace)\n",
      "        (conv.2): Conv2d (192, 48, kernel_size=(3, 3), stride=(1, 1), padding=(1, 1), bias=False)\n",
      "      )\n",
      "      (denselayer5): _DenseLayer(\n",
      "        (norm.1): BatchNorm2d(1248, eps=1e-05, momentum=0.1, affine=True)\n",
      "        (relu.1): ReLU(inplace)\n",
      "        (conv.1): Conv2d (1248, 192, kernel_size=(1, 1), stride=(1, 1), bias=False)\n",
      "        (norm.2): BatchNorm2d(192, eps=1e-05, momentum=0.1, affine=True)\n",
      "        (relu.2): ReLU(inplace)\n",
      "        (conv.2): Conv2d (192, 48, kernel_size=(3, 3), stride=(1, 1), padding=(1, 1), bias=False)\n",
      "      )\n",
      "      (denselayer6): _DenseLayer(\n",
      "        (norm.1): BatchNorm2d(1296, eps=1e-05, momentum=0.1, affine=True)\n",
      "        (relu.1): ReLU(inplace)\n",
      "        (conv.1): Conv2d (1296, 192, kernel_size=(1, 1), stride=(1, 1), bias=False)\n",
      "        (norm.2): BatchNorm2d(192, eps=1e-05, momentum=0.1, affine=True)\n",
      "        (relu.2): ReLU(inplace)\n",
      "        (conv.2): Conv2d (192, 48, kernel_size=(3, 3), stride=(1, 1), padding=(1, 1), bias=False)\n",
      "      )\n",
      "      (denselayer7): _DenseLayer(\n",
      "        (norm.1): BatchNorm2d(1344, eps=1e-05, momentum=0.1, affine=True)\n",
      "        (relu.1): ReLU(inplace)\n",
      "        (conv.1): Conv2d (1344, 192, kernel_size=(1, 1), stride=(1, 1), bias=False)\n",
      "        (norm.2): BatchNorm2d(192, eps=1e-05, momentum=0.1, affine=True)\n",
      "        (relu.2): ReLU(inplace)\n",
      "        (conv.2): Conv2d (192, 48, kernel_size=(3, 3), stride=(1, 1), padding=(1, 1), bias=False)\n",
      "      )\n",
      "      (denselayer8): _DenseLayer(\n",
      "        (norm.1): BatchNorm2d(1392, eps=1e-05, momentum=0.1, affine=True)\n",
      "        (relu.1): ReLU(inplace)\n",
      "        (conv.1): Conv2d (1392, 192, kernel_size=(1, 1), stride=(1, 1), bias=False)\n",
      "        (norm.2): BatchNorm2d(192, eps=1e-05, momentum=0.1, affine=True)\n",
      "        (relu.2): ReLU(inplace)\n",
      "        (conv.2): Conv2d (192, 48, kernel_size=(3, 3), stride=(1, 1), padding=(1, 1), bias=False)\n",
      "      )\n",
      "      (denselayer9): _DenseLayer(\n",
      "        (norm.1): BatchNorm2d(1440, eps=1e-05, momentum=0.1, affine=True)\n",
      "        (relu.1): ReLU(inplace)\n",
      "        (conv.1): Conv2d (1440, 192, kernel_size=(1, 1), stride=(1, 1), bias=False)\n",
      "        (norm.2): BatchNorm2d(192, eps=1e-05, momentum=0.1, affine=True)\n",
      "        (relu.2): ReLU(inplace)\n",
      "        (conv.2): Conv2d (192, 48, kernel_size=(3, 3), stride=(1, 1), padding=(1, 1), bias=False)\n",
      "      )\n",
      "      (denselayer10): _DenseLayer(\n",
      "        (norm.1): BatchNorm2d(1488, eps=1e-05, momentum=0.1, affine=True)\n",
      "        (relu.1): ReLU(inplace)\n",
      "        (conv.1): Conv2d (1488, 192, kernel_size=(1, 1), stride=(1, 1), bias=False)\n",
      "        (norm.2): BatchNorm2d(192, eps=1e-05, momentum=0.1, affine=True)\n",
      "        (relu.2): ReLU(inplace)\n",
      "        (conv.2): Conv2d (192, 48, kernel_size=(3, 3), stride=(1, 1), padding=(1, 1), bias=False)\n",
      "      )\n",
      "      (denselayer11): _DenseLayer(\n",
      "        (norm.1): BatchNorm2d(1536, eps=1e-05, momentum=0.1, affine=True)\n",
      "        (relu.1): ReLU(inplace)\n",
      "        (conv.1): Conv2d (1536, 192, kernel_size=(1, 1), stride=(1, 1), bias=False)\n",
      "        (norm.2): BatchNorm2d(192, eps=1e-05, momentum=0.1, affine=True)\n",
      "        (relu.2): ReLU(inplace)\n",
      "        (conv.2): Conv2d (192, 48, kernel_size=(3, 3), stride=(1, 1), padding=(1, 1), bias=False)\n",
      "      )\n",
      "      (denselayer12): _DenseLayer(\n",
      "        (norm.1): BatchNorm2d(1584, eps=1e-05, momentum=0.1, affine=True)\n",
      "        (relu.1): ReLU(inplace)\n",
      "        (conv.1): Conv2d (1584, 192, kernel_size=(1, 1), stride=(1, 1), bias=False)\n",
      "        (norm.2): BatchNorm2d(192, eps=1e-05, momentum=0.1, affine=True)\n",
      "        (relu.2): ReLU(inplace)\n",
      "        (conv.2): Conv2d (192, 48, kernel_size=(3, 3), stride=(1, 1), padding=(1, 1), bias=False)\n",
      "      )\n",
      "      (denselayer13): _DenseLayer(\n",
      "        (norm.1): BatchNorm2d(1632, eps=1e-05, momentum=0.1, affine=True)\n",
      "        (relu.1): ReLU(inplace)\n",
      "        (conv.1): Conv2d (1632, 192, kernel_size=(1, 1), stride=(1, 1), bias=False)\n",
      "        (norm.2): BatchNorm2d(192, eps=1e-05, momentum=0.1, affine=True)\n",
      "        (relu.2): ReLU(inplace)\n",
      "        (conv.2): Conv2d (192, 48, kernel_size=(3, 3), stride=(1, 1), padding=(1, 1), bias=False)\n",
      "      )\n",
      "      (denselayer14): _DenseLayer(\n",
      "        (norm.1): BatchNorm2d(1680, eps=1e-05, momentum=0.1, affine=True)\n",
      "        (relu.1): ReLU(inplace)\n",
      "        (conv.1): Conv2d (1680, 192, kernel_size=(1, 1), stride=(1, 1), bias=False)\n",
      "        (norm.2): BatchNorm2d(192, eps=1e-05, momentum=0.1, affine=True)\n",
      "        (relu.2): ReLU(inplace)\n",
      "        (conv.2): Conv2d (192, 48, kernel_size=(3, 3), stride=(1, 1), padding=(1, 1), bias=False)\n",
      "      )\n",
      "      (denselayer15): _DenseLayer(\n",
      "        (norm.1): BatchNorm2d(1728, eps=1e-05, momentum=0.1, affine=True)\n",
      "        (relu.1): ReLU(inplace)\n",
      "        (conv.1): Conv2d (1728, 192, kernel_size=(1, 1), stride=(1, 1), bias=False)\n",
      "        (norm.2): BatchNorm2d(192, eps=1e-05, momentum=0.1, affine=True)\n",
      "        (relu.2): ReLU(inplace)\n",
      "        (conv.2): Conv2d (192, 48, kernel_size=(3, 3), stride=(1, 1), padding=(1, 1), bias=False)\n",
      "      )\n",
      "      (denselayer16): _DenseLayer(\n",
      "        (norm.1): BatchNorm2d(1776, eps=1e-05, momentum=0.1, affine=True)\n",
      "        (relu.1): ReLU(inplace)\n",
      "        (conv.1): Conv2d (1776, 192, kernel_size=(1, 1), stride=(1, 1), bias=False)\n",
      "        (norm.2): BatchNorm2d(192, eps=1e-05, momentum=0.1, affine=True)\n",
      "        (relu.2): ReLU(inplace)\n",
      "        (conv.2): Conv2d (192, 48, kernel_size=(3, 3), stride=(1, 1), padding=(1, 1), bias=False)\n",
      "      )\n",
      "      (denselayer17): _DenseLayer(\n",
      "        (norm.1): BatchNorm2d(1824, eps=1e-05, momentum=0.1, affine=True)\n",
      "        (relu.1): ReLU(inplace)\n",
      "        (conv.1): Conv2d (1824, 192, kernel_size=(1, 1), stride=(1, 1), bias=False)\n",
      "        (norm.2): BatchNorm2d(192, eps=1e-05, momentum=0.1, affine=True)\n",
      "        (relu.2): ReLU(inplace)\n",
      "        (conv.2): Conv2d (192, 48, kernel_size=(3, 3), stride=(1, 1), padding=(1, 1), bias=False)\n",
      "      )\n",
      "      (denselayer18): _DenseLayer(\n",
      "        (norm.1): BatchNorm2d(1872, eps=1e-05, momentum=0.1, affine=True)\n",
      "        (relu.1): ReLU(inplace)\n",
      "        (conv.1): Conv2d (1872, 192, kernel_size=(1, 1), stride=(1, 1), bias=False)\n",
      "        (norm.2): BatchNorm2d(192, eps=1e-05, momentum=0.1, affine=True)\n",
      "        (relu.2): ReLU(inplace)\n",
      "        (conv.2): Conv2d (192, 48, kernel_size=(3, 3), stride=(1, 1), padding=(1, 1), bias=False)\n",
      "      )\n",
      "      (denselayer19): _DenseLayer(\n",
      "        (norm.1): BatchNorm2d(1920, eps=1e-05, momentum=0.1, affine=True)\n",
      "        (relu.1): ReLU(inplace)\n",
      "        (conv.1): Conv2d (1920, 192, kernel_size=(1, 1), stride=(1, 1), bias=False)\n",
      "        (norm.2): BatchNorm2d(192, eps=1e-05, momentum=0.1, affine=True)\n",
      "        (relu.2): ReLU(inplace)\n",
      "        (conv.2): Conv2d (192, 48, kernel_size=(3, 3), stride=(1, 1), padding=(1, 1), bias=False)\n",
      "      )\n",
      "      (denselayer20): _DenseLayer(\n",
      "        (norm.1): BatchNorm2d(1968, eps=1e-05, momentum=0.1, affine=True)\n",
      "        (relu.1): ReLU(inplace)\n",
      "        (conv.1): Conv2d (1968, 192, kernel_size=(1, 1), stride=(1, 1), bias=False)\n",
      "        (norm.2): BatchNorm2d(192, eps=1e-05, momentum=0.1, affine=True)\n",
      "        (relu.2): ReLU(inplace)\n",
      "        (conv.2): Conv2d (192, 48, kernel_size=(3, 3), stride=(1, 1), padding=(1, 1), bias=False)\n",
      "      )\n",
      "      (denselayer21): _DenseLayer(\n",
      "        (norm.1): BatchNorm2d(2016, eps=1e-05, momentum=0.1, affine=True)\n",
      "        (relu.1): ReLU(inplace)\n",
      "        (conv.1): Conv2d (2016, 192, kernel_size=(1, 1), stride=(1, 1), bias=False)\n",
      "        (norm.2): BatchNorm2d(192, eps=1e-05, momentum=0.1, affine=True)\n",
      "        (relu.2): ReLU(inplace)\n",
      "        (conv.2): Conv2d (192, 48, kernel_size=(3, 3), stride=(1, 1), padding=(1, 1), bias=False)\n",
      "      )\n",
      "      (denselayer22): _DenseLayer(\n",
      "        (norm.1): BatchNorm2d(2064, eps=1e-05, momentum=0.1, affine=True)\n",
      "        (relu.1): ReLU(inplace)\n",
      "        (conv.1): Conv2d (2064, 192, kernel_size=(1, 1), stride=(1, 1), bias=False)\n",
      "        (norm.2): BatchNorm2d(192, eps=1e-05, momentum=0.1, affine=True)\n",
      "        (relu.2): ReLU(inplace)\n",
      "        (conv.2): Conv2d (192, 48, kernel_size=(3, 3), stride=(1, 1), padding=(1, 1), bias=False)\n",
      "      )\n",
      "      (denselayer23): _DenseLayer(\n",
      "        (norm.1): BatchNorm2d(2112, eps=1e-05, momentum=0.1, affine=True)\n",
      "        (relu.1): ReLU(inplace)\n",
      "        (conv.1): Conv2d (2112, 192, kernel_size=(1, 1), stride=(1, 1), bias=False)\n",
      "        (norm.2): BatchNorm2d(192, eps=1e-05, momentum=0.1, affine=True)\n",
      "        (relu.2): ReLU(inplace)\n",
      "        (conv.2): Conv2d (192, 48, kernel_size=(3, 3), stride=(1, 1), padding=(1, 1), bias=False)\n",
      "      )\n",
      "      (denselayer24): _DenseLayer(\n",
      "        (norm.1): BatchNorm2d(2160, eps=1e-05, momentum=0.1, affine=True)\n",
      "        (relu.1): ReLU(inplace)\n",
      "        (conv.1): Conv2d (2160, 192, kernel_size=(1, 1), stride=(1, 1), bias=False)\n",
      "        (norm.2): BatchNorm2d(192, eps=1e-05, momentum=0.1, affine=True)\n",
      "        (relu.2): ReLU(inplace)\n",
      "        (conv.2): Conv2d (192, 48, kernel_size=(3, 3), stride=(1, 1), padding=(1, 1), bias=False)\n",
      "      )\n",
      "    )\n",
      "    (norm5): BatchNorm2d(2208, eps=1e-05, momentum=0.1, affine=True)\n",
      "  )\n",
      "  (classifier): Linear(in_features=2208, out_features=1000)\n",
      ")\n"
     ]
    }
   ],
   "source": [
    "densenet161 = models.densenet161(pretrained=True)\n",
    "print(densenet161)"
   ]
  },
  {
   "cell_type": "code",
   "execution_count": 10,
   "metadata": {
    "slideshow": {
     "slide_type": "fragment"
    }
   },
   "outputs": [
    {
     "name": "stdout",
     "output_type": "stream",
     "text": [
      "[Conv2d (3, 96, kernel_size=(7, 7), stride=(2, 2), padding=(3, 3), bias=False), BatchNorm2d(96, eps=1e-05, momentum=0.1, affine=True), ReLU(inplace), MaxPool2d(kernel_size=(3, 3), stride=(2, 2), padding=(1, 1), dilation=(1, 1)), _DenseBlock(\n",
      "  (denselayer1): _DenseLayer(\n",
      "    (norm.1): BatchNorm2d(96, eps=1e-05, momentum=0.1, affine=True)\n",
      "    (relu.1): ReLU(inplace)\n",
      "    (conv.1): Conv2d (96, 192, kernel_size=(1, 1), stride=(1, 1), bias=False)\n",
      "    (norm.2): BatchNorm2d(192, eps=1e-05, momentum=0.1, affine=True)\n",
      "    (relu.2): ReLU(inplace)\n",
      "    (conv.2): Conv2d (192, 48, kernel_size=(3, 3), stride=(1, 1), padding=(1, 1), bias=False)\n",
      "  )\n",
      "  (denselayer2): _DenseLayer(\n",
      "    (norm.1): BatchNorm2d(144, eps=1e-05, momentum=0.1, affine=True)\n",
      "    (relu.1): ReLU(inplace)\n",
      "    (conv.1): Conv2d (144, 192, kernel_size=(1, 1), stride=(1, 1), bias=False)\n",
      "    (norm.2): BatchNorm2d(192, eps=1e-05, momentum=0.1, affine=True)\n",
      "    (relu.2): ReLU(inplace)\n",
      "    (conv.2): Conv2d (192, 48, kernel_size=(3, 3), stride=(1, 1), padding=(1, 1), bias=False)\n",
      "  )\n",
      "  (denselayer3): _DenseLayer(\n",
      "    (norm.1): BatchNorm2d(192, eps=1e-05, momentum=0.1, affine=True)\n",
      "    (relu.1): ReLU(inplace)\n",
      "    (conv.1): Conv2d (192, 192, kernel_size=(1, 1), stride=(1, 1), bias=False)\n",
      "    (norm.2): BatchNorm2d(192, eps=1e-05, momentum=0.1, affine=True)\n",
      "    (relu.2): ReLU(inplace)\n",
      "    (conv.2): Conv2d (192, 48, kernel_size=(3, 3), stride=(1, 1), padding=(1, 1), bias=False)\n",
      "  )\n",
      "  (denselayer4): _DenseLayer(\n",
      "    (norm.1): BatchNorm2d(240, eps=1e-05, momentum=0.1, affine=True)\n",
      "    (relu.1): ReLU(inplace)\n",
      "    (conv.1): Conv2d (240, 192, kernel_size=(1, 1), stride=(1, 1), bias=False)\n",
      "    (norm.2): BatchNorm2d(192, eps=1e-05, momentum=0.1, affine=True)\n",
      "    (relu.2): ReLU(inplace)\n",
      "    (conv.2): Conv2d (192, 48, kernel_size=(3, 3), stride=(1, 1), padding=(1, 1), bias=False)\n",
      "  )\n",
      "  (denselayer5): _DenseLayer(\n",
      "    (norm.1): BatchNorm2d(288, eps=1e-05, momentum=0.1, affine=True)\n",
      "    (relu.1): ReLU(inplace)\n",
      "    (conv.1): Conv2d (288, 192, kernel_size=(1, 1), stride=(1, 1), bias=False)\n",
      "    (norm.2): BatchNorm2d(192, eps=1e-05, momentum=0.1, affine=True)\n",
      "    (relu.2): ReLU(inplace)\n",
      "    (conv.2): Conv2d (192, 48, kernel_size=(3, 3), stride=(1, 1), padding=(1, 1), bias=False)\n",
      "  )\n",
      "  (denselayer6): _DenseLayer(\n",
      "    (norm.1): BatchNorm2d(336, eps=1e-05, momentum=0.1, affine=True)\n",
      "    (relu.1): ReLU(inplace)\n",
      "    (conv.1): Conv2d (336, 192, kernel_size=(1, 1), stride=(1, 1), bias=False)\n",
      "    (norm.2): BatchNorm2d(192, eps=1e-05, momentum=0.1, affine=True)\n",
      "    (relu.2): ReLU(inplace)\n",
      "    (conv.2): Conv2d (192, 48, kernel_size=(3, 3), stride=(1, 1), padding=(1, 1), bias=False)\n",
      "  )\n",
      "), _Transition(\n",
      "  (norm): BatchNorm2d(384, eps=1e-05, momentum=0.1, affine=True)\n",
      "  (relu): ReLU(inplace)\n",
      "  (conv): Conv2d (384, 192, kernel_size=(1, 1), stride=(1, 1), bias=False)\n",
      "  (pool): AvgPool2d(kernel_size=2, stride=2, padding=0, ceil_mode=False, count_include_pad=True)\n",
      "), _DenseBlock(\n",
      "  (denselayer1): _DenseLayer(\n",
      "    (norm.1): BatchNorm2d(192, eps=1e-05, momentum=0.1, affine=True)\n",
      "    (relu.1): ReLU(inplace)\n",
      "    (conv.1): Conv2d (192, 192, kernel_size=(1, 1), stride=(1, 1), bias=False)\n",
      "    (norm.2): BatchNorm2d(192, eps=1e-05, momentum=0.1, affine=True)\n",
      "    (relu.2): ReLU(inplace)\n",
      "    (conv.2): Conv2d (192, 48, kernel_size=(3, 3), stride=(1, 1), padding=(1, 1), bias=False)\n",
      "  )\n",
      "  (denselayer2): _DenseLayer(\n",
      "    (norm.1): BatchNorm2d(240, eps=1e-05, momentum=0.1, affine=True)\n",
      "    (relu.1): ReLU(inplace)\n",
      "    (conv.1): Conv2d (240, 192, kernel_size=(1, 1), stride=(1, 1), bias=False)\n",
      "    (norm.2): BatchNorm2d(192, eps=1e-05, momentum=0.1, affine=True)\n",
      "    (relu.2): ReLU(inplace)\n",
      "    (conv.2): Conv2d (192, 48, kernel_size=(3, 3), stride=(1, 1), padding=(1, 1), bias=False)\n",
      "  )\n",
      "  (denselayer3): _DenseLayer(\n",
      "    (norm.1): BatchNorm2d(288, eps=1e-05, momentum=0.1, affine=True)\n",
      "    (relu.1): ReLU(inplace)\n",
      "    (conv.1): Conv2d (288, 192, kernel_size=(1, 1), stride=(1, 1), bias=False)\n",
      "    (norm.2): BatchNorm2d(192, eps=1e-05, momentum=0.1, affine=True)\n",
      "    (relu.2): ReLU(inplace)\n",
      "    (conv.2): Conv2d (192, 48, kernel_size=(3, 3), stride=(1, 1), padding=(1, 1), bias=False)\n",
      "  )\n",
      "  (denselayer4): _DenseLayer(\n",
      "    (norm.1): BatchNorm2d(336, eps=1e-05, momentum=0.1, affine=True)\n",
      "    (relu.1): ReLU(inplace)\n",
      "    (conv.1): Conv2d (336, 192, kernel_size=(1, 1), stride=(1, 1), bias=False)\n",
      "    (norm.2): BatchNorm2d(192, eps=1e-05, momentum=0.1, affine=True)\n",
      "    (relu.2): ReLU(inplace)\n",
      "    (conv.2): Conv2d (192, 48, kernel_size=(3, 3), stride=(1, 1), padding=(1, 1), bias=False)\n",
      "  )\n",
      "  (denselayer5): _DenseLayer(\n",
      "    (norm.1): BatchNorm2d(384, eps=1e-05, momentum=0.1, affine=True)\n",
      "    (relu.1): ReLU(inplace)\n",
      "    (conv.1): Conv2d (384, 192, kernel_size=(1, 1), stride=(1, 1), bias=False)\n",
      "    (norm.2): BatchNorm2d(192, eps=1e-05, momentum=0.1, affine=True)\n",
      "    (relu.2): ReLU(inplace)\n",
      "    (conv.2): Conv2d (192, 48, kernel_size=(3, 3), stride=(1, 1), padding=(1, 1), bias=False)\n",
      "  )\n",
      "  (denselayer6): _DenseLayer(\n",
      "    (norm.1): BatchNorm2d(432, eps=1e-05, momentum=0.1, affine=True)\n",
      "    (relu.1): ReLU(inplace)\n",
      "    (conv.1): Conv2d (432, 192, kernel_size=(1, 1), stride=(1, 1), bias=False)\n",
      "    (norm.2): BatchNorm2d(192, eps=1e-05, momentum=0.1, affine=True)\n",
      "    (relu.2): ReLU(inplace)\n",
      "    (conv.2): Conv2d (192, 48, kernel_size=(3, 3), stride=(1, 1), padding=(1, 1), bias=False)\n",
      "  )\n",
      "  (denselayer7): _DenseLayer(\n",
      "    (norm.1): BatchNorm2d(480, eps=1e-05, momentum=0.1, affine=True)\n",
      "    (relu.1): ReLU(inplace)\n",
      "    (conv.1): Conv2d (480, 192, kernel_size=(1, 1), stride=(1, 1), bias=False)\n",
      "    (norm.2): BatchNorm2d(192, eps=1e-05, momentum=0.1, affine=True)\n",
      "    (relu.2): ReLU(inplace)\n",
      "    (conv.2): Conv2d (192, 48, kernel_size=(3, 3), stride=(1, 1), padding=(1, 1), bias=False)\n",
      "  )\n",
      "  (denselayer8): _DenseLayer(\n",
      "    (norm.1): BatchNorm2d(528, eps=1e-05, momentum=0.1, affine=True)\n",
      "    (relu.1): ReLU(inplace)\n",
      "    (conv.1): Conv2d (528, 192, kernel_size=(1, 1), stride=(1, 1), bias=False)\n",
      "    (norm.2): BatchNorm2d(192, eps=1e-05, momentum=0.1, affine=True)\n",
      "    (relu.2): ReLU(inplace)\n",
      "    (conv.2): Conv2d (192, 48, kernel_size=(3, 3), stride=(1, 1), padding=(1, 1), bias=False)\n",
      "  )\n",
      "  (denselayer9): _DenseLayer(\n",
      "    (norm.1): BatchNorm2d(576, eps=1e-05, momentum=0.1, affine=True)\n",
      "    (relu.1): ReLU(inplace)\n",
      "    (conv.1): Conv2d (576, 192, kernel_size=(1, 1), stride=(1, 1), bias=False)\n",
      "    (norm.2): BatchNorm2d(192, eps=1e-05, momentum=0.1, affine=True)\n",
      "    (relu.2): ReLU(inplace)\n",
      "    (conv.2): Conv2d (192, 48, kernel_size=(3, 3), stride=(1, 1), padding=(1, 1), bias=False)\n",
      "  )\n",
      "  (denselayer10): _DenseLayer(\n",
      "    (norm.1): BatchNorm2d(624, eps=1e-05, momentum=0.1, affine=True)\n",
      "    (relu.1): ReLU(inplace)\n",
      "    (conv.1): Conv2d (624, 192, kernel_size=(1, 1), stride=(1, 1), bias=False)\n",
      "    (norm.2): BatchNorm2d(192, eps=1e-05, momentum=0.1, affine=True)\n",
      "    (relu.2): ReLU(inplace)\n",
      "    (conv.2): Conv2d (192, 48, kernel_size=(3, 3), stride=(1, 1), padding=(1, 1), bias=False)\n",
      "  )\n",
      "  (denselayer11): _DenseLayer(\n",
      "    (norm.1): BatchNorm2d(672, eps=1e-05, momentum=0.1, affine=True)\n",
      "    (relu.1): ReLU(inplace)\n",
      "    (conv.1): Conv2d (672, 192, kernel_size=(1, 1), stride=(1, 1), bias=False)\n",
      "    (norm.2): BatchNorm2d(192, eps=1e-05, momentum=0.1, affine=True)\n",
      "    (relu.2): ReLU(inplace)\n",
      "    (conv.2): Conv2d (192, 48, kernel_size=(3, 3), stride=(1, 1), padding=(1, 1), bias=False)\n",
      "  )\n",
      "  (denselayer12): _DenseLayer(\n",
      "    (norm.1): BatchNorm2d(720, eps=1e-05, momentum=0.1, affine=True)\n",
      "    (relu.1): ReLU(inplace)\n",
      "    (conv.1): Conv2d (720, 192, kernel_size=(1, 1), stride=(1, 1), bias=False)\n",
      "    (norm.2): BatchNorm2d(192, eps=1e-05, momentum=0.1, affine=True)\n",
      "    (relu.2): ReLU(inplace)\n",
      "    (conv.2): Conv2d (192, 48, kernel_size=(3, 3), stride=(1, 1), padding=(1, 1), bias=False)\n",
      "  )\n",
      ")]\n"
     ]
    }
   ],
   "source": [
    "print(list(densenet161.features.children())[:7])"
   ]
  },
  {
   "cell_type": "code",
   "execution_count": 11,
   "metadata": {
    "collapsed": true,
    "slideshow": {
     "slide_type": "-"
    }
   },
   "outputs": [],
   "source": [
    "class PSPModule(nn.Module):\n",
    "    def __init__(self, features, out_features=1024, sizes=(1, 2, 3, 6)):\n",
    "        super().__init__()\n",
    "        self.stages = []\n",
    "        self.stages = nn.ModuleList([self._make_stage(features, size) for size in sizes])\n",
    "        self.bottleneck = nn.Conv2d(features * (len(sizes) + 1), out_features, kernel_size=1)\n",
    "        self.relu = nn.ReLU()\n",
    "\n",
    "    def _make_stage(self, features, size):\n",
    "        prior = nn.AdaptiveAvgPool2d(output_size=(size, size))\n",
    "        conv = nn.Conv2d(features, features, kernel_size=1, bias=False)\n",
    "        return nn.Sequential(prior, conv)\n",
    "\n",
    "    def forward(self, feats):\n",
    "        h, w = feats.size(2), feats.size(3)\n",
    "        priors = [F.upsample(input=stage(feats), size=(h, w), mode='bilinear') for stage in self.stages] + [feats]\n",
    "        bottle = self.bottleneck(torch.cat(priors, 1))\n",
    "        return self.relu(bottle)\n",
    "    \n",
    "class PSPUpsample(nn.Module):\n",
    "    def __init__(self, in_channels, out_channels):\n",
    "        super().__init__()\n",
    "        self.conv = nn.Sequential(\n",
    "            nn.Conv2d(in_channels, out_channels, 3, padding=1),\n",
    "            nn.BatchNorm2d(out_channels),\n",
    "            nn.PReLU()\n",
    "        )\n",
    "\n",
    "    def forward(self, x):\n",
    "        h, w = 2 * x.size(2), 2 * x.size(3)\n",
    "        p = F.upsample(input=x, size=(h, w), mode='bilinear')\n",
    "        return self.conv(p)\n",
    "\n",
    "\n",
    "class PSPNet(nn.Module):\n",
    "    def __init__(self, densenet, n_classes=1, sizes=(1, 2, 3, 6), psp_size=768):\n",
    "        super(PSPNet, self).__init__()\n",
    "        self.features = nn.Sequential(*list(densenet161.features.children())[:7])\n",
    "        \n",
    "        self.psp = PSPModule(psp_size, 1024, sizes)\n",
    "        self.up_1 = PSPUpsample(1024, 256)\n",
    "        self.up_2 = PSPUpsample(256, 64)\n",
    "        self.up_3 = PSPUpsample(64, 64)\n",
    "#         self.up = PSPUpsample(1024, 64)\n",
    "        \n",
    "        self.final = nn.Sequential(\n",
    "            nn.Conv2d(64, n_classes, kernel_size=1),\n",
    "            nn.Sigmoid()\n",
    "        )\n",
    "        \n",
    "#         for p in self.features.parameters():\n",
    "#             p.requires_grad = False\n",
    "    def forward(self, x):\n",
    "        f = self.features(x)\n",
    "        p = self.psp(f)\n",
    "        p = self.up_1(p)\n",
    "        p = self.up_2(p)\n",
    "        p = self.up_3(p)\n",
    "#         p = self.up(p)\n",
    "        return self.final(p)"
   ]
  },
  {
   "cell_type": "code",
   "execution_count": 12,
   "metadata": {
    "collapsed": true,
    "slideshow": {
     "slide_type": "-"
    }
   },
   "outputs": [],
   "source": [
    "def train_model(model, criterion, optimizer, num_epochs=8):\n",
    "    since = time.time()\n",
    "\n",
    "    best_model_wts = model.state_dict()\n",
    "    best_acc = 0\n",
    "\n",
    "    for epoch in range(num_epochs):\n",
    "        print('Epoch {}/{}'.format(epoch, num_epochs - 1))\n",
    "        print('-' * 10)\n",
    "\n",
    "        model.train(True)\n",
    "        running_loss = 0.0\n",
    "        running_acc = 0.0\n",
    "        # Iterate over data.\n",
    "        for i, data in tqdm(enumerate(train_dataloader)):\n",
    "            if(i == 3000):\n",
    "                break\n",
    "            # get the inputs\n",
    "            inputs, labels = data[0], data[1]\n",
    "            # wrap them in Variable\n",
    "            if USE_GPU:\n",
    "                inputs = Variable(inputs.cuda())\n",
    "                labels = Variable(labels.cuda())\n",
    "            else:\n",
    "                inputs, labels = Variable(inputs), Variable(labels)\n",
    "\n",
    "            # zero the parameter gradients\n",
    "            optimizer.zero_grad()\n",
    "\n",
    "            # forward\n",
    "            outputs = model(inputs)\n",
    "            predict = outputs.data > 0.5\n",
    "            loss = criterion(outputs, labels)\n",
    "\n",
    "            loss.backward()\n",
    "            optimizer.step()\n",
    "\n",
    "            # statistics\n",
    "            running_loss += loss.data[0]\n",
    "            running_acc += (torch.sum(predict.int() == labels.data.int())/(4*512*512))\n",
    "        epoch_loss = running_loss / 3000\n",
    "        epoch_acc = running_acc / 3000\n",
    "        print('{} Loss: {:.4f}, Acc: {:.4f}'.format('train', epoch_loss, epoch_acc))\n",
    "#         if epoch_acc > best_acc:\n",
    "#             best_acc = epoch_acc\n",
    "#             best_model_wts = model.state_dict()\n",
    "        \n",
    "        model.eval()\n",
    "        running_loss = 0.0\n",
    "        running_acc = 0.0\n",
    "        # Iterate over data.\n",
    "        for i, data in enumerate(val_dataloader):\n",
    "            # get the inputs\n",
    "            inputs, labels = data[0], data[1]\n",
    "            # wrap them in Variable\n",
    "            if USE_GPU:\n",
    "                inputs = Variable(inputs.cuda(), volatile=True)\n",
    "                labels = Variable(labels.cuda(), volatile=True)\n",
    "            else:\n",
    "                inputs, labels = Variable(inputs, volatile=True), Variable(labels, volatile=True)\n",
    "\n",
    "            # zero the parameter gradients\n",
    "            optimizer.zero_grad()\n",
    "\n",
    "            # forward\n",
    "            outputs = model(inputs)\n",
    "            predict = outputs.data > 0.5\n",
    "            loss = criterion(outputs, labels)\n",
    "\n",
    "            # statistics\n",
    "            running_loss += loss.data[0]\n",
    "            running_acc += torch.sum(predict.int() == labels.data.int())/(4*512*512)\n",
    "        epoch_loss = running_loss / len(val_dataloader)\n",
    "        epoch_acc = running_acc / len(val_dataloader)\n",
    "        if epoch_acc > best_acc:\n",
    "            best_acc = epoch_acc\n",
    "            best_model_wts = model.state_dict()\n",
    "            torch.save(model, './temp.pt')\n",
    "        print('{} Loss: {:.4f}, Acc: {:.4f}'.format('val', epoch_loss, epoch_acc))\n",
    "\n",
    "        print()\n",
    "\n",
    "    time_elapsed = time.time() - since\n",
    "    print('Training complete in {:.0f}m {:.0f}s'.format(\n",
    "        time_elapsed // 60, time_elapsed % 60))\n",
    "\n",
    "    # load best model weights\n",
    "    model.load_state_dict(best_model_wts)\n",
    "    return model, best_acc"
   ]
  },
  {
   "cell_type": "markdown",
   "metadata": {},
   "source": [
    "---\n",
    "# Training"
   ]
  },
  {
   "cell_type": "code",
   "execution_count": 13,
   "metadata": {
    "slideshow": {
     "slide_type": "-"
    }
   },
   "outputs": [
    {
     "name": "stdout",
     "output_type": "stream",
     "text": [
      "PSPNet(\n",
      "  (features): Sequential(\n",
      "    (0): Conv2d (3, 96, kernel_size=(7, 7), stride=(2, 2), padding=(3, 3), bias=False)\n",
      "    (1): BatchNorm2d(96, eps=1e-05, momentum=0.1, affine=True)\n",
      "    (2): ReLU(inplace)\n",
      "    (3): MaxPool2d(kernel_size=(3, 3), stride=(2, 2), padding=(1, 1), dilation=(1, 1))\n",
      "    (4): _DenseBlock(\n",
      "      (denselayer1): _DenseLayer(\n",
      "        (norm.1): BatchNorm2d(96, eps=1e-05, momentum=0.1, affine=True)\n",
      "        (relu.1): ReLU(inplace)\n",
      "        (conv.1): Conv2d (96, 192, kernel_size=(1, 1), stride=(1, 1), bias=False)\n",
      "        (norm.2): BatchNorm2d(192, eps=1e-05, momentum=0.1, affine=True)\n",
      "        (relu.2): ReLU(inplace)\n",
      "        (conv.2): Conv2d (192, 48, kernel_size=(3, 3), stride=(1, 1), padding=(1, 1), bias=False)\n",
      "      )\n",
      "      (denselayer2): _DenseLayer(\n",
      "        (norm.1): BatchNorm2d(144, eps=1e-05, momentum=0.1, affine=True)\n",
      "        (relu.1): ReLU(inplace)\n",
      "        (conv.1): Conv2d (144, 192, kernel_size=(1, 1), stride=(1, 1), bias=False)\n",
      "        (norm.2): BatchNorm2d(192, eps=1e-05, momentum=0.1, affine=True)\n",
      "        (relu.2): ReLU(inplace)\n",
      "        (conv.2): Conv2d (192, 48, kernel_size=(3, 3), stride=(1, 1), padding=(1, 1), bias=False)\n",
      "      )\n",
      "      (denselayer3): _DenseLayer(\n",
      "        (norm.1): BatchNorm2d(192, eps=1e-05, momentum=0.1, affine=True)\n",
      "        (relu.1): ReLU(inplace)\n",
      "        (conv.1): Conv2d (192, 192, kernel_size=(1, 1), stride=(1, 1), bias=False)\n",
      "        (norm.2): BatchNorm2d(192, eps=1e-05, momentum=0.1, affine=True)\n",
      "        (relu.2): ReLU(inplace)\n",
      "        (conv.2): Conv2d (192, 48, kernel_size=(3, 3), stride=(1, 1), padding=(1, 1), bias=False)\n",
      "      )\n",
      "      (denselayer4): _DenseLayer(\n",
      "        (norm.1): BatchNorm2d(240, eps=1e-05, momentum=0.1, affine=True)\n",
      "        (relu.1): ReLU(inplace)\n",
      "        (conv.1): Conv2d (240, 192, kernel_size=(1, 1), stride=(1, 1), bias=False)\n",
      "        (norm.2): BatchNorm2d(192, eps=1e-05, momentum=0.1, affine=True)\n",
      "        (relu.2): ReLU(inplace)\n",
      "        (conv.2): Conv2d (192, 48, kernel_size=(3, 3), stride=(1, 1), padding=(1, 1), bias=False)\n",
      "      )\n",
      "      (denselayer5): _DenseLayer(\n",
      "        (norm.1): BatchNorm2d(288, eps=1e-05, momentum=0.1, affine=True)\n",
      "        (relu.1): ReLU(inplace)\n",
      "        (conv.1): Conv2d (288, 192, kernel_size=(1, 1), stride=(1, 1), bias=False)\n",
      "        (norm.2): BatchNorm2d(192, eps=1e-05, momentum=0.1, affine=True)\n",
      "        (relu.2): ReLU(inplace)\n",
      "        (conv.2): Conv2d (192, 48, kernel_size=(3, 3), stride=(1, 1), padding=(1, 1), bias=False)\n",
      "      )\n",
      "      (denselayer6): _DenseLayer(\n",
      "        (norm.1): BatchNorm2d(336, eps=1e-05, momentum=0.1, affine=True)\n",
      "        (relu.1): ReLU(inplace)\n",
      "        (conv.1): Conv2d (336, 192, kernel_size=(1, 1), stride=(1, 1), bias=False)\n",
      "        (norm.2): BatchNorm2d(192, eps=1e-05, momentum=0.1, affine=True)\n",
      "        (relu.2): ReLU(inplace)\n",
      "        (conv.2): Conv2d (192, 48, kernel_size=(3, 3), stride=(1, 1), padding=(1, 1), bias=False)\n",
      "      )\n",
      "    )\n",
      "    (5): _Transition(\n",
      "      (norm): BatchNorm2d(384, eps=1e-05, momentum=0.1, affine=True)\n",
      "      (relu): ReLU(inplace)\n",
      "      (conv): Conv2d (384, 192, kernel_size=(1, 1), stride=(1, 1), bias=False)\n",
      "      (pool): AvgPool2d(kernel_size=2, stride=2, padding=0, ceil_mode=False, count_include_pad=True)\n",
      "    )\n",
      "    (6): _DenseBlock(\n",
      "      (denselayer1): _DenseLayer(\n",
      "        (norm.1): BatchNorm2d(192, eps=1e-05, momentum=0.1, affine=True)\n",
      "        (relu.1): ReLU(inplace)\n",
      "        (conv.1): Conv2d (192, 192, kernel_size=(1, 1), stride=(1, 1), bias=False)\n",
      "        (norm.2): BatchNorm2d(192, eps=1e-05, momentum=0.1, affine=True)\n",
      "        (relu.2): ReLU(inplace)\n",
      "        (conv.2): Conv2d (192, 48, kernel_size=(3, 3), stride=(1, 1), padding=(1, 1), bias=False)\n",
      "      )\n",
      "      (denselayer2): _DenseLayer(\n",
      "        (norm.1): BatchNorm2d(240, eps=1e-05, momentum=0.1, affine=True)\n",
      "        (relu.1): ReLU(inplace)\n",
      "        (conv.1): Conv2d (240, 192, kernel_size=(1, 1), stride=(1, 1), bias=False)\n",
      "        (norm.2): BatchNorm2d(192, eps=1e-05, momentum=0.1, affine=True)\n",
      "        (relu.2): ReLU(inplace)\n",
      "        (conv.2): Conv2d (192, 48, kernel_size=(3, 3), stride=(1, 1), padding=(1, 1), bias=False)\n",
      "      )\n",
      "      (denselayer3): _DenseLayer(\n",
      "        (norm.1): BatchNorm2d(288, eps=1e-05, momentum=0.1, affine=True)\n",
      "        (relu.1): ReLU(inplace)\n",
      "        (conv.1): Conv2d (288, 192, kernel_size=(1, 1), stride=(1, 1), bias=False)\n",
      "        (norm.2): BatchNorm2d(192, eps=1e-05, momentum=0.1, affine=True)\n",
      "        (relu.2): ReLU(inplace)\n",
      "        (conv.2): Conv2d (192, 48, kernel_size=(3, 3), stride=(1, 1), padding=(1, 1), bias=False)\n",
      "      )\n",
      "      (denselayer4): _DenseLayer(\n",
      "        (norm.1): BatchNorm2d(336, eps=1e-05, momentum=0.1, affine=True)\n",
      "        (relu.1): ReLU(inplace)\n",
      "        (conv.1): Conv2d (336, 192, kernel_size=(1, 1), stride=(1, 1), bias=False)\n",
      "        (norm.2): BatchNorm2d(192, eps=1e-05, momentum=0.1, affine=True)\n",
      "        (relu.2): ReLU(inplace)\n",
      "        (conv.2): Conv2d (192, 48, kernel_size=(3, 3), stride=(1, 1), padding=(1, 1), bias=False)\n",
      "      )\n",
      "      (denselayer5): _DenseLayer(\n",
      "        (norm.1): BatchNorm2d(384, eps=1e-05, momentum=0.1, affine=True)\n",
      "        (relu.1): ReLU(inplace)\n",
      "        (conv.1): Conv2d (384, 192, kernel_size=(1, 1), stride=(1, 1), bias=False)\n",
      "        (norm.2): BatchNorm2d(192, eps=1e-05, momentum=0.1, affine=True)\n",
      "        (relu.2): ReLU(inplace)\n",
      "        (conv.2): Conv2d (192, 48, kernel_size=(3, 3), stride=(1, 1), padding=(1, 1), bias=False)\n",
      "      )\n",
      "      (denselayer6): _DenseLayer(\n",
      "        (norm.1): BatchNorm2d(432, eps=1e-05, momentum=0.1, affine=True)\n",
      "        (relu.1): ReLU(inplace)\n",
      "        (conv.1): Conv2d (432, 192, kernel_size=(1, 1), stride=(1, 1), bias=False)\n",
      "        (norm.2): BatchNorm2d(192, eps=1e-05, momentum=0.1, affine=True)\n",
      "        (relu.2): ReLU(inplace)\n",
      "        (conv.2): Conv2d (192, 48, kernel_size=(3, 3), stride=(1, 1), padding=(1, 1), bias=False)\n",
      "      )\n",
      "      (denselayer7): _DenseLayer(\n",
      "        (norm.1): BatchNorm2d(480, eps=1e-05, momentum=0.1, affine=True)\n",
      "        (relu.1): ReLU(inplace)\n",
      "        (conv.1): Conv2d (480, 192, kernel_size=(1, 1), stride=(1, 1), bias=False)\n",
      "        (norm.2): BatchNorm2d(192, eps=1e-05, momentum=0.1, affine=True)\n",
      "        (relu.2): ReLU(inplace)\n",
      "        (conv.2): Conv2d (192, 48, kernel_size=(3, 3), stride=(1, 1), padding=(1, 1), bias=False)\n",
      "      )\n",
      "      (denselayer8): _DenseLayer(\n",
      "        (norm.1): BatchNorm2d(528, eps=1e-05, momentum=0.1, affine=True)\n",
      "        (relu.1): ReLU(inplace)\n",
      "        (conv.1): Conv2d (528, 192, kernel_size=(1, 1), stride=(1, 1), bias=False)\n",
      "        (norm.2): BatchNorm2d(192, eps=1e-05, momentum=0.1, affine=True)\n",
      "        (relu.2): ReLU(inplace)\n",
      "        (conv.2): Conv2d (192, 48, kernel_size=(3, 3), stride=(1, 1), padding=(1, 1), bias=False)\n",
      "      )\n",
      "      (denselayer9): _DenseLayer(\n",
      "        (norm.1): BatchNorm2d(576, eps=1e-05, momentum=0.1, affine=True)\n",
      "        (relu.1): ReLU(inplace)\n",
      "        (conv.1): Conv2d (576, 192, kernel_size=(1, 1), stride=(1, 1), bias=False)\n",
      "        (norm.2): BatchNorm2d(192, eps=1e-05, momentum=0.1, affine=True)\n",
      "        (relu.2): ReLU(inplace)\n",
      "        (conv.2): Conv2d (192, 48, kernel_size=(3, 3), stride=(1, 1), padding=(1, 1), bias=False)\n",
      "      )\n",
      "      (denselayer10): _DenseLayer(\n",
      "        (norm.1): BatchNorm2d(624, eps=1e-05, momentum=0.1, affine=True)\n",
      "        (relu.1): ReLU(inplace)\n",
      "        (conv.1): Conv2d (624, 192, kernel_size=(1, 1), stride=(1, 1), bias=False)\n",
      "        (norm.2): BatchNorm2d(192, eps=1e-05, momentum=0.1, affine=True)\n",
      "        (relu.2): ReLU(inplace)\n",
      "        (conv.2): Conv2d (192, 48, kernel_size=(3, 3), stride=(1, 1), padding=(1, 1), bias=False)\n",
      "      )\n",
      "      (denselayer11): _DenseLayer(\n",
      "        (norm.1): BatchNorm2d(672, eps=1e-05, momentum=0.1, affine=True)\n",
      "        (relu.1): ReLU(inplace)\n",
      "        (conv.1): Conv2d (672, 192, kernel_size=(1, 1), stride=(1, 1), bias=False)\n",
      "        (norm.2): BatchNorm2d(192, eps=1e-05, momentum=0.1, affine=True)\n",
      "        (relu.2): ReLU(inplace)\n",
      "        (conv.2): Conv2d (192, 48, kernel_size=(3, 3), stride=(1, 1), padding=(1, 1), bias=False)\n",
      "      )\n",
      "      (denselayer12): _DenseLayer(\n",
      "        (norm.1): BatchNorm2d(720, eps=1e-05, momentum=0.1, affine=True)\n",
      "        (relu.1): ReLU(inplace)\n",
      "        (conv.1): Conv2d (720, 192, kernel_size=(1, 1), stride=(1, 1), bias=False)\n",
      "        (norm.2): BatchNorm2d(192, eps=1e-05, momentum=0.1, affine=True)\n",
      "        (relu.2): ReLU(inplace)\n",
      "        (conv.2): Conv2d (192, 48, kernel_size=(3, 3), stride=(1, 1), padding=(1, 1), bias=False)\n",
      "      )\n",
      "    )\n",
      "  )\n",
      "  (psp): PSPModule(\n",
      "    (stages): ModuleList(\n",
      "      (0): Sequential(\n",
      "        (0): AdaptiveAvgPool2d(output_size=(1, 1))\n",
      "        (1): Conv2d (768, 768, kernel_size=(1, 1), stride=(1, 1), bias=False)\n",
      "      )\n",
      "      (1): Sequential(\n",
      "        (0): AdaptiveAvgPool2d(output_size=(2, 2))\n",
      "        (1): Conv2d (768, 768, kernel_size=(1, 1), stride=(1, 1), bias=False)\n",
      "      )\n",
      "      (2): Sequential(\n",
      "        (0): AdaptiveAvgPool2d(output_size=(3, 3))\n",
      "        (1): Conv2d (768, 768, kernel_size=(1, 1), stride=(1, 1), bias=False)\n",
      "      )\n",
      "      (3): Sequential(\n",
      "        (0): AdaptiveAvgPool2d(output_size=(6, 6))\n",
      "        (1): Conv2d (768, 768, kernel_size=(1, 1), stride=(1, 1), bias=False)\n",
      "      )\n",
      "    )\n",
      "    (bottleneck): Conv2d (3840, 1024, kernel_size=(1, 1), stride=(1, 1))\n",
      "    (relu): ReLU()\n",
      "  )\n",
      "  (up_1): PSPUpsample(\n",
      "    (conv): Sequential(\n",
      "      (0): Conv2d (1024, 256, kernel_size=(3, 3), stride=(1, 1), padding=(1, 1))\n",
      "      (1): BatchNorm2d(256, eps=1e-05, momentum=0.1, affine=True)\n",
      "      (2): PReLU(num_parameters=1)\n",
      "    )\n",
      "  )\n",
      "  (up_2): PSPUpsample(\n",
      "    (conv): Sequential(\n",
      "      (0): Conv2d (256, 64, kernel_size=(3, 3), stride=(1, 1), padding=(1, 1))\n",
      "      (1): BatchNorm2d(64, eps=1e-05, momentum=0.1, affine=True)\n",
      "      (2): PReLU(num_parameters=1)\n",
      "    )\n",
      "  )\n",
      "  (up_3): PSPUpsample(\n",
      "    (conv): Sequential(\n",
      "      (0): Conv2d (64, 64, kernel_size=(3, 3), stride=(1, 1), padding=(1, 1))\n",
      "      (1): BatchNorm2d(64, eps=1e-05, momentum=0.1, affine=True)\n",
      "      (2): PReLU(num_parameters=1)\n",
      "    )\n",
      "  )\n",
      "  (final): Sequential(\n",
      "    (0): Conv2d (64, 1, kernel_size=(1, 1), stride=(1, 1))\n",
      "    (1): Sigmoid()\n",
      "  )\n",
      ")\n"
     ]
    }
   ],
   "source": [
    "model = PSPNet(densenet161)\n",
    "if USE_GPU:\n",
    "    model.cuda()\n",
    "print(model)"
   ]
  },
  {
   "cell_type": "code",
   "execution_count": 14,
   "metadata": {
    "collapsed": true
   },
   "outputs": [],
   "source": [
    "criterion = nn.BCELoss()\n",
    "# optimizer = optim.Adam(filter(lambda p: p.requires_grad, model.parameters()))\n",
    "optimizer = optim.Adam(model.parameters())\n",
    "# optimizer = optim.RMSprop(model.parameters())"
   ]
  },
  {
   "cell_type": "code",
   "execution_count": 15,
   "metadata": {},
   "outputs": [
    {
     "name": "stderr",
     "output_type": "stream",
     "text": [
      "\r",
      "0it [00:00, ?it/s]"
     ]
    },
    {
     "name": "stdout",
     "output_type": "stream",
     "text": [
      "Epoch 0/29\n",
      "----------\n"
     ]
    },
    {
     "name": "stderr",
     "output_type": "stream",
     "text": [
      "3000it [41:16,  1.21it/s]"
     ]
    },
    {
     "name": "stdout",
     "output_type": "stream",
     "text": [
      "train Loss: 0.2111, Acc: 0.9174\n"
     ]
    },
    {
     "name": "stderr",
     "output_type": "stream",
     "text": [
      "/home/dennis/anaconda3/envs/pytorch/lib/python3.6/site-packages/torch/serialization.py:158: UserWarning: Couldn't retrieve source code for container of type PSPNet. It won't be checked for correctness upon loading.\n",
      "  \"type \" + obj.__name__ + \". It won't be checked \"\n",
      "/home/dennis/anaconda3/envs/pytorch/lib/python3.6/site-packages/torch/serialization.py:158: UserWarning: Couldn't retrieve source code for container of type PSPModule. It won't be checked for correctness upon loading.\n",
      "  \"type \" + obj.__name__ + \". It won't be checked \"\n",
      "/home/dennis/anaconda3/envs/pytorch/lib/python3.6/site-packages/torch/serialization.py:158: UserWarning: Couldn't retrieve source code for container of type PSPUpsample. It won't be checked for correctness upon loading.\n",
      "  \"type \" + obj.__name__ + \". It won't be checked \"\n",
      "\n",
      "0it [00:00, ?it/s]\u001b[A"
     ]
    },
    {
     "name": "stdout",
     "output_type": "stream",
     "text": [
      "val Loss: 0.1663, Acc: 0.9311\n",
      "\n",
      "Epoch 1/29\n",
      "----------\n"
     ]
    },
    {
     "name": "stderr",
     "output_type": "stream",
     "text": [
      "\n",
      "1it [00:00,  1.29it/s]\u001b[A\n",
      "2it [00:01,  1.27it/s]\u001b[A\n",
      "3it [00:02,  1.29it/s]\u001b[A\n",
      "4it [00:03,  1.31it/s]\u001b[A\n",
      "5it [00:03,  1.32it/s]\u001b[A\n",
      "6it [00:04,  1.31it/s]\u001b[A\n",
      "7it [00:05,  1.32it/s]\u001b[A\n",
      "8it [00:06,  1.32it/s]\u001b[A\n",
      "Exception in thread Thread-4:\n",
      "Traceback (most recent call last):\n",
      "  File \"/home/dennis/anaconda3/envs/pytorch/lib/python3.6/threading.py\", line 916, in _bootstrap_inner\n",
      "    self.run()\n",
      "  File \"/home/dennis/anaconda3/envs/pytorch/lib/python3.6/site-packages/tqdm/_tqdm.py\", line 144, in run\n",
      "    for instance in self.tqdm_cls._instances:\n",
      "  File \"/home/dennis/anaconda3/envs/pytorch/lib/python3.6/_weakrefset.py\", line 60, in __iter__\n",
      "    for itemref in self.data:\n",
      "RuntimeError: Set changed size during iteration\n",
      "\n",
      "3000it [39:15,  1.27it/s]\n"
     ]
    },
    {
     "name": "stdout",
     "output_type": "stream",
     "text": [
      "train Loss: 0.1620, Acc: 0.9361\n"
     ]
    },
    {
     "name": "stderr",
     "output_type": "stream",
     "text": [
      "\r",
      "0it [00:00, ?it/s]"
     ]
    },
    {
     "name": "stdout",
     "output_type": "stream",
     "text": [
      "val Loss: 0.1583, Acc: 0.9357\n",
      "\n",
      "Epoch 2/29\n",
      "----------\n"
     ]
    },
    {
     "name": "stderr",
     "output_type": "stream",
     "text": [
      "3000it [38:52,  1.29it/s]"
     ]
    },
    {
     "name": "stdout",
     "output_type": "stream",
     "text": [
      "train Loss: 0.1506, Acc: 0.9408\n"
     ]
    },
    {
     "name": "stderr",
     "output_type": "stream",
     "text": [
      "\n",
      "0it [00:00, ?it/s]\u001b[A"
     ]
    },
    {
     "name": "stdout",
     "output_type": "stream",
     "text": [
      "val Loss: 0.1372, Acc: 0.9469\n",
      "\n",
      "Epoch 3/29\n",
      "----------\n"
     ]
    },
    {
     "name": "stderr",
     "output_type": "stream",
     "text": [
      "\n",
      "1it [00:00,  1.34it/s]\u001b[A\n",
      "2it [00:01,  1.31it/s]\u001b[A\n",
      "3it [00:02,  1.32it/s]\u001b[A\n",
      "Exception in thread Thread-5:\n",
      "Traceback (most recent call last):\n",
      "  File \"/home/dennis/anaconda3/envs/pytorch/lib/python3.6/threading.py\", line 916, in _bootstrap_inner\n",
      "    self.run()\n",
      "  File \"/home/dennis/anaconda3/envs/pytorch/lib/python3.6/site-packages/tqdm/_tqdm.py\", line 144, in run\n",
      "    for instance in self.tqdm_cls._instances:\n",
      "  File \"/home/dennis/anaconda3/envs/pytorch/lib/python3.6/_weakrefset.py\", line 60, in __iter__\n",
      "    for itemref in self.data:\n",
      "RuntimeError: Set changed size during iteration\n",
      "\n",
      "3000it [38:47,  1.29it/s]\n"
     ]
    },
    {
     "name": "stdout",
     "output_type": "stream",
     "text": [
      "train Loss: 0.1431, Acc: 0.9434\n"
     ]
    },
    {
     "name": "stderr",
     "output_type": "stream",
     "text": [
      "\r",
      "0it [00:00, ?it/s]"
     ]
    },
    {
     "name": "stdout",
     "output_type": "stream",
     "text": [
      "val Loss: 0.1345, Acc: 0.9470\n",
      "\n",
      "Epoch 4/29\n",
      "----------\n"
     ]
    },
    {
     "name": "stderr",
     "output_type": "stream",
     "text": [
      "3000it [38:40,  1.29it/s]"
     ]
    },
    {
     "name": "stdout",
     "output_type": "stream",
     "text": [
      "train Loss: 0.1357, Acc: 0.9467\n"
     ]
    },
    {
     "name": "stderr",
     "output_type": "stream",
     "text": [
      "\n",
      "0it [00:00, ?it/s]\u001b[A"
     ]
    },
    {
     "name": "stdout",
     "output_type": "stream",
     "text": [
      "val Loss: 0.1334, Acc: 0.9477\n",
      "\n",
      "Epoch 5/29\n",
      "----------\n"
     ]
    },
    {
     "name": "stderr",
     "output_type": "stream",
     "text": [
      "\n",
      "1it [00:00,  1.40it/s]\u001b[A\n",
      "2it [00:01,  1.33it/s]\u001b[A\n",
      "3it [00:02,  1.33it/s]\u001b[A\n",
      "4it [00:02,  1.34it/s]\u001b[A\n",
      "5it [00:03,  1.34it/s]\u001b[A\n",
      "6it [00:04,  1.34it/s]\u001b[A\n",
      "Exception in thread Thread-6:\n",
      "Traceback (most recent call last):\n",
      "  File \"/home/dennis/anaconda3/envs/pytorch/lib/python3.6/threading.py\", line 916, in _bootstrap_inner\n",
      "    self.run()\n",
      "  File \"/home/dennis/anaconda3/envs/pytorch/lib/python3.6/site-packages/tqdm/_tqdm.py\", line 144, in run\n",
      "    for instance in self.tqdm_cls._instances:\n",
      "  File \"/home/dennis/anaconda3/envs/pytorch/lib/python3.6/_weakrefset.py\", line 60, in __iter__\n",
      "    for itemref in self.data:\n",
      "RuntimeError: Set changed size during iteration\n",
      "\n",
      "3000it [38:39,  1.29it/s]\n"
     ]
    },
    {
     "name": "stdout",
     "output_type": "stream",
     "text": [
      "train Loss: 0.1320, Acc: 0.9481\n"
     ]
    },
    {
     "name": "stderr",
     "output_type": "stream",
     "text": [
      "\r",
      "0it [00:00, ?it/s]"
     ]
    },
    {
     "name": "stdout",
     "output_type": "stream",
     "text": [
      "val Loss: 0.1257, Acc: 0.9508\n",
      "\n",
      "Epoch 6/29\n",
      "----------\n"
     ]
    },
    {
     "name": "stderr",
     "output_type": "stream",
     "text": [
      "3000it [38:39,  1.29it/s]"
     ]
    },
    {
     "name": "stdout",
     "output_type": "stream",
     "text": [
      "train Loss: 0.1285, Acc: 0.9496\n"
     ]
    },
    {
     "name": "stderr",
     "output_type": "stream",
     "text": [
      "\n",
      "0it [00:00, ?it/s]\u001b[A"
     ]
    },
    {
     "name": "stdout",
     "output_type": "stream",
     "text": [
      "val Loss: 0.1257, Acc: 0.9506\n",
      "\n",
      "Epoch 7/29\n",
      "----------\n"
     ]
    },
    {
     "name": "stderr",
     "output_type": "stream",
     "text": [
      "\n",
      "1it [00:00,  1.33it/s]\u001b[A\n",
      "2it [00:01,  1.34it/s]\u001b[A\n",
      "3it [00:02,  1.32it/s]\u001b[A\n",
      "4it [00:03,  1.32it/s]\u001b[A\n",
      "5it [00:03,  1.31it/s]\u001b[A\n",
      "6it [00:04,  1.32it/s]\u001b[A\n",
      "7it [00:05,  1.32it/s]\u001b[A\n",
      "8it [00:06,  1.32it/s]\u001b[A\n",
      "Exception in thread Thread-7:\n",
      "Traceback (most recent call last):\n",
      "  File \"/home/dennis/anaconda3/envs/pytorch/lib/python3.6/threading.py\", line 916, in _bootstrap_inner\n",
      "    self.run()\n",
      "  File \"/home/dennis/anaconda3/envs/pytorch/lib/python3.6/site-packages/tqdm/_tqdm.py\", line 144, in run\n",
      "    for instance in self.tqdm_cls._instances:\n",
      "  File \"/home/dennis/anaconda3/envs/pytorch/lib/python3.6/_weakrefset.py\", line 60, in __iter__\n",
      "    for itemref in self.data:\n",
      "RuntimeError: Set changed size during iteration\n",
      "\n",
      "3000it [38:35,  1.30it/s]\n"
     ]
    },
    {
     "name": "stdout",
     "output_type": "stream",
     "text": [
      "train Loss: 0.1251, Acc: 0.9510\n"
     ]
    },
    {
     "name": "stderr",
     "output_type": "stream",
     "text": [
      "\r",
      "0it [00:00, ?it/s]"
     ]
    },
    {
     "name": "stdout",
     "output_type": "stream",
     "text": [
      "val Loss: 0.1205, Acc: 0.9524\n",
      "\n",
      "Epoch 8/29\n",
      "----------\n"
     ]
    },
    {
     "name": "stderr",
     "output_type": "stream",
     "text": [
      "3000it [38:32,  1.30it/s]"
     ]
    },
    {
     "name": "stdout",
     "output_type": "stream",
     "text": [
      "train Loss: 0.1228, Acc: 0.9518\n"
     ]
    },
    {
     "name": "stderr",
     "output_type": "stream",
     "text": [
      "\n",
      "0it [00:00, ?it/s]\u001b[A"
     ]
    },
    {
     "name": "stdout",
     "output_type": "stream",
     "text": [
      "val Loss: 0.1260, Acc: 0.9511\n",
      "\n",
      "Epoch 9/29\n",
      "----------\n"
     ]
    },
    {
     "name": "stderr",
     "output_type": "stream",
     "text": [
      "\n",
      "1it [00:00,  1.28it/s]\u001b[A\n",
      "2it [00:01,  1.31it/s]\u001b[A\n",
      "3it [00:02,  1.31it/s]\u001b[A\n",
      "Exception in thread Thread-8:\n",
      "Traceback (most recent call last):\n",
      "  File \"/home/dennis/anaconda3/envs/pytorch/lib/python3.6/threading.py\", line 916, in _bootstrap_inner\n",
      "    self.run()\n",
      "  File \"/home/dennis/anaconda3/envs/pytorch/lib/python3.6/site-packages/tqdm/_tqdm.py\", line 144, in run\n",
      "    for instance in self.tqdm_cls._instances:\n",
      "  File \"/home/dennis/anaconda3/envs/pytorch/lib/python3.6/_weakrefset.py\", line 60, in __iter__\n",
      "    for itemref in self.data:\n",
      "RuntimeError: Set changed size during iteration\n",
      "\n",
      "3000it [38:32,  1.30it/s]\n"
     ]
    },
    {
     "name": "stdout",
     "output_type": "stream",
     "text": [
      "train Loss: 0.1212, Acc: 0.9525\n"
     ]
    },
    {
     "name": "stderr",
     "output_type": "stream",
     "text": [
      "\r",
      "0it [00:00, ?it/s]"
     ]
    },
    {
     "name": "stdout",
     "output_type": "stream",
     "text": [
      "val Loss: 0.1390, Acc: 0.9442\n",
      "\n",
      "Epoch 10/29\n",
      "----------\n"
     ]
    },
    {
     "name": "stderr",
     "output_type": "stream",
     "text": [
      "3000it [38:30,  1.30it/s]"
     ]
    },
    {
     "name": "stdout",
     "output_type": "stream",
     "text": [
      "train Loss: 0.1185, Acc: 0.9535\n"
     ]
    },
    {
     "name": "stderr",
     "output_type": "stream",
     "text": [
      "\n",
      "0it [00:00, ?it/s]\u001b[A"
     ]
    },
    {
     "name": "stdout",
     "output_type": "stream",
     "text": [
      "val Loss: 0.1535, Acc: 0.9384\n",
      "\n",
      "Epoch 11/29\n",
      "----------\n"
     ]
    },
    {
     "name": "stderr",
     "output_type": "stream",
     "text": [
      "\n",
      "1it [00:00,  1.33it/s]\u001b[A\n",
      "2it [00:01,  1.37it/s]\u001b[A\n",
      "3it [00:02,  1.35it/s]\u001b[A\n",
      "4it [00:02,  1.34it/s]\u001b[A\n",
      "5it [00:03,  1.34it/s]\u001b[A\n",
      "6it [00:04,  1.33it/s]\u001b[A\n",
      "Exception in thread Thread-9:\n",
      "Traceback (most recent call last):\n",
      "  File \"/home/dennis/anaconda3/envs/pytorch/lib/python3.6/threading.py\", line 916, in _bootstrap_inner\n",
      "    self.run()\n",
      "  File \"/home/dennis/anaconda3/envs/pytorch/lib/python3.6/site-packages/tqdm/_tqdm.py\", line 144, in run\n",
      "    for instance in self.tqdm_cls._instances:\n",
      "  File \"/home/dennis/anaconda3/envs/pytorch/lib/python3.6/_weakrefset.py\", line 60, in __iter__\n",
      "    for itemref in self.data:\n",
      "RuntimeError: Set changed size during iteration\n",
      "\n",
      "3000it [38:26,  1.30it/s]\n"
     ]
    },
    {
     "name": "stdout",
     "output_type": "stream",
     "text": [
      "train Loss: 0.1161, Acc: 0.9542\n"
     ]
    },
    {
     "name": "stderr",
     "output_type": "stream",
     "text": [
      "\r",
      "0it [00:00, ?it/s]"
     ]
    },
    {
     "name": "stdout",
     "output_type": "stream",
     "text": [
      "val Loss: 0.2085, Acc: 0.9158\n",
      "\n",
      "Epoch 12/29\n",
      "----------\n"
     ]
    },
    {
     "name": "stderr",
     "output_type": "stream",
     "text": [
      "3000it [38:24,  1.30it/s]"
     ]
    },
    {
     "name": "stdout",
     "output_type": "stream",
     "text": [
      "train Loss: 0.1155, Acc: 0.9546\n"
     ]
    },
    {
     "name": "stderr",
     "output_type": "stream",
     "text": [
      "\n",
      "0it [00:00, ?it/s]\u001b[A"
     ]
    },
    {
     "name": "stdout",
     "output_type": "stream",
     "text": [
      "val Loss: 0.1755, Acc: 0.9310\n",
      "\n",
      "Epoch 13/29\n",
      "----------\n"
     ]
    },
    {
     "name": "stderr",
     "output_type": "stream",
     "text": [
      "\n",
      "1it [00:00,  1.29it/s]\u001b[A\n",
      "Exception in thread Thread-10:\n",
      "Traceback (most recent call last):\n",
      "  File \"/home/dennis/anaconda3/envs/pytorch/lib/python3.6/threading.py\", line 916, in _bootstrap_inner\n",
      "    self.run()\n",
      "  File \"/home/dennis/anaconda3/envs/pytorch/lib/python3.6/site-packages/tqdm/_tqdm.py\", line 144, in run\n",
      "    for instance in self.tqdm_cls._instances:\n",
      "  File \"/home/dennis/anaconda3/envs/pytorch/lib/python3.6/_weakrefset.py\", line 60, in __iter__\n",
      "    for itemref in self.data:\n",
      "RuntimeError: Set changed size during iteration\n",
      "\n",
      "3000it [38:22,  1.30it/s]\n"
     ]
    },
    {
     "name": "stdout",
     "output_type": "stream",
     "text": [
      "train Loss: 0.1103, Acc: 0.9568\n"
     ]
    },
    {
     "name": "stderr",
     "output_type": "stream",
     "text": [
      "\r",
      "0it [00:00, ?it/s]"
     ]
    },
    {
     "name": "stdout",
     "output_type": "stream",
     "text": [
      "val Loss: 0.2865, Acc: 0.9076\n",
      "\n",
      "Epoch 14/29\n",
      "----------\n"
     ]
    },
    {
     "name": "stderr",
     "output_type": "stream",
     "text": [
      "3000it [40:58,  1.22it/s]"
     ]
    },
    {
     "name": "stdout",
     "output_type": "stream",
     "text": [
      "train Loss: 0.1088, Acc: 0.9576\n"
     ]
    },
    {
     "name": "stderr",
     "output_type": "stream",
     "text": [
      "\n",
      "0it [00:00, ?it/s]\u001b[A"
     ]
    },
    {
     "name": "stdout",
     "output_type": "stream",
     "text": [
      "val Loss: 0.3520, Acc: 0.8727\n",
      "\n",
      "Epoch 15/29\n",
      "----------\n"
     ]
    },
    {
     "name": "stderr",
     "output_type": "stream",
     "text": [
      "\n",
      "1it [00:00,  1.17it/s]\u001b[A\n",
      "2it [00:01,  1.14it/s]\u001b[A\n",
      "3it [00:02,  1.13it/s]\u001b[A\n",
      "4it [00:03,  1.11it/s]\u001b[A\n",
      "5it [00:04,  1.12it/s]\u001b[A\n",
      "6it [00:05,  1.12it/s]\u001b[A\n",
      "7it [00:06,  1.12it/s]\u001b[A\n",
      "8it [00:07,  1.12it/s]\u001b[A\n",
      "Exception in thread Thread-11:\n",
      "Traceback (most recent call last):\n",
      "  File \"/home/dennis/anaconda3/envs/pytorch/lib/python3.6/threading.py\", line 916, in _bootstrap_inner\n",
      "    self.run()\n",
      "  File \"/home/dennis/anaconda3/envs/pytorch/lib/python3.6/site-packages/tqdm/_tqdm.py\", line 144, in run\n",
      "    for instance in self.tqdm_cls._instances:\n",
      "  File \"/home/dennis/anaconda3/envs/pytorch/lib/python3.6/_weakrefset.py\", line 60, in __iter__\n",
      "    for itemref in self.data:\n",
      "RuntimeError: Set changed size during iteration\n",
      "\n",
      "3000it [39:12,  1.28it/s]\n"
     ]
    },
    {
     "name": "stdout",
     "output_type": "stream",
     "text": [
      "train Loss: 0.1089, Acc: 0.9574\n"
     ]
    },
    {
     "name": "stderr",
     "output_type": "stream",
     "text": [
      "\r",
      "0it [00:00, ?it/s]"
     ]
    },
    {
     "name": "stdout",
     "output_type": "stream",
     "text": [
      "val Loss: 1.2921, Acc: 0.8364\n",
      "\n",
      "Epoch 16/29\n",
      "----------\n"
     ]
    },
    {
     "name": "stderr",
     "output_type": "stream",
     "text": [
      "3000it [40:21,  1.24it/s]"
     ]
    },
    {
     "name": "stdout",
     "output_type": "stream",
     "text": [
      "train Loss: 0.1058, Acc: 0.9587\n"
     ]
    },
    {
     "name": "stderr",
     "output_type": "stream",
     "text": [
      "\n",
      "0it [00:00, ?it/s]\u001b[A"
     ]
    },
    {
     "name": "stdout",
     "output_type": "stream",
     "text": [
      "val Loss: 0.6493, Acc: 0.8441\n",
      "\n",
      "Epoch 17/29\n",
      "----------\n"
     ]
    },
    {
     "name": "stderr",
     "output_type": "stream",
     "text": [
      "\n",
      "Exception in thread Thread-12:\n",
      "Traceback (most recent call last):\n",
      "  File \"/home/dennis/anaconda3/envs/pytorch/lib/python3.6/threading.py\", line 916, in _bootstrap_inner\n",
      "    self.run()\n",
      "  File \"/home/dennis/anaconda3/envs/pytorch/lib/python3.6/site-packages/tqdm/_tqdm.py\", line 144, in run\n",
      "    for instance in self.tqdm_cls._instances:\n",
      "  File \"/home/dennis/anaconda3/envs/pytorch/lib/python3.6/_weakrefset.py\", line 60, in __iter__\n",
      "    for itemref in self.data:\n",
      "RuntimeError: Set changed size during iteration\n",
      "\n",
      "3000it [40:22,  1.24it/s]\n"
     ]
    },
    {
     "name": "stdout",
     "output_type": "stream",
     "text": [
      "train Loss: 0.1037, Acc: 0.9597\n"
     ]
    },
    {
     "name": "stderr",
     "output_type": "stream",
     "text": [
      "\r",
      "0it [00:00, ?it/s]"
     ]
    },
    {
     "name": "stdout",
     "output_type": "stream",
     "text": [
      "val Loss: 0.5530, Acc: 0.8473\n",
      "\n",
      "Epoch 18/29\n",
      "----------\n"
     ]
    },
    {
     "name": "stderr",
     "output_type": "stream",
     "text": [
      "3000it [39:27,  1.27it/s]"
     ]
    },
    {
     "name": "stdout",
     "output_type": "stream",
     "text": [
      "train Loss: 0.1018, Acc: 0.9607\n"
     ]
    },
    {
     "name": "stderr",
     "output_type": "stream",
     "text": [
      "\n",
      "0it [00:00, ?it/s]\u001b[A"
     ]
    },
    {
     "name": "stdout",
     "output_type": "stream",
     "text": [
      "val Loss: 0.5456, Acc: 0.8693\n",
      "\n",
      "Epoch 19/29\n",
      "----------\n"
     ]
    },
    {
     "name": "stderr",
     "output_type": "stream",
     "text": [
      "\n",
      "1it [00:00,  1.22it/s]\u001b[A\n",
      "2it [00:01,  1.30it/s]\u001b[A\n",
      "3it [00:02,  1.30it/s]\u001b[A\n",
      "4it [00:03,  1.29it/s]\u001b[A\n",
      "5it [00:03,  1.29it/s]\u001b[A\n",
      "6it [00:04,  1.28it/s]\u001b[A\n",
      "7it [00:05,  1.28it/s]\u001b[A\n",
      "8it [00:06,  1.28it/s]\u001b[A\n",
      "Exception in thread Thread-13:\n",
      "Traceback (most recent call last):\n",
      "  File \"/home/dennis/anaconda3/envs/pytorch/lib/python3.6/threading.py\", line 916, in _bootstrap_inner\n",
      "    self.run()\n",
      "  File \"/home/dennis/anaconda3/envs/pytorch/lib/python3.6/site-packages/tqdm/_tqdm.py\", line 144, in run\n",
      "    for instance in self.tqdm_cls._instances:\n",
      "  File \"/home/dennis/anaconda3/envs/pytorch/lib/python3.6/_weakrefset.py\", line 60, in __iter__\n",
      "    for itemref in self.data:\n",
      "RuntimeError: Set changed size during iteration\n",
      "\n",
      "3000it [39:10,  1.28it/s]\n"
     ]
    },
    {
     "name": "stdout",
     "output_type": "stream",
     "text": [
      "train Loss: 0.0997, Acc: 0.9615\n"
     ]
    },
    {
     "name": "stderr",
     "output_type": "stream",
     "text": [
      "\r",
      "0it [00:00, ?it/s]"
     ]
    },
    {
     "name": "stdout",
     "output_type": "stream",
     "text": [
      "val Loss: 0.3220, Acc: 0.8856\n",
      "\n",
      "Epoch 20/29\n",
      "----------\n"
     ]
    },
    {
     "name": "stderr",
     "output_type": "stream",
     "text": [
      "3000it [40:02,  1.25it/s]"
     ]
    },
    {
     "name": "stdout",
     "output_type": "stream",
     "text": [
      "train Loss: 0.0984, Acc: 0.9620\n"
     ]
    },
    {
     "name": "stderr",
     "output_type": "stream",
     "text": [
      "\n",
      "0it [00:00, ?it/s]\u001b[A"
     ]
    },
    {
     "name": "stdout",
     "output_type": "stream",
     "text": [
      "val Loss: 0.3082, Acc: 0.8742\n",
      "\n",
      "Epoch 21/29\n",
      "----------\n"
     ]
    },
    {
     "name": "stderr",
     "output_type": "stream",
     "text": [
      "\n",
      "1it [00:00,  1.33it/s]\u001b[A\n",
      "Exception in thread Thread-14:\n",
      "Traceback (most recent call last):\n",
      "  File \"/home/dennis/anaconda3/envs/pytorch/lib/python3.6/threading.py\", line 916, in _bootstrap_inner\n",
      "    self.run()\n",
      "  File \"/home/dennis/anaconda3/envs/pytorch/lib/python3.6/site-packages/tqdm/_tqdm.py\", line 144, in run\n",
      "    for instance in self.tqdm_cls._instances:\n",
      "  File \"/home/dennis/anaconda3/envs/pytorch/lib/python3.6/_weakrefset.py\", line 60, in __iter__\n",
      "    for itemref in self.data:\n",
      "RuntimeError: Set changed size during iteration\n",
      "\n",
      "3000it [39:13,  1.27it/s]\n"
     ]
    },
    {
     "name": "stdout",
     "output_type": "stream",
     "text": [
      "train Loss: 0.0977, Acc: 0.9622\n"
     ]
    },
    {
     "name": "stderr",
     "output_type": "stream",
     "text": [
      "\r",
      "0it [00:00, ?it/s]"
     ]
    },
    {
     "name": "stdout",
     "output_type": "stream",
     "text": [
      "val Loss: 0.2179, Acc: 0.9088\n",
      "\n",
      "Epoch 22/29\n",
      "----------\n"
     ]
    },
    {
     "name": "stderr",
     "output_type": "stream",
     "text": [
      "3000it [39:24,  1.27it/s]"
     ]
    },
    {
     "name": "stdout",
     "output_type": "stream",
     "text": [
      "train Loss: 0.0963, Acc: 0.9628\n"
     ]
    },
    {
     "name": "stderr",
     "output_type": "stream",
     "text": [
      "\n",
      "0it [00:00, ?it/s]\u001b[A"
     ]
    },
    {
     "name": "stdout",
     "output_type": "stream",
     "text": [
      "val Loss: 0.2852, Acc: 0.8798\n",
      "\n",
      "Epoch 23/29\n",
      "----------\n"
     ]
    },
    {
     "name": "stderr",
     "output_type": "stream",
     "text": [
      "\n",
      "1it [00:00,  1.23it/s]\u001b[A\n",
      "2it [00:01,  1.24it/s]\u001b[A\n",
      "3it [00:02,  1.27it/s]\u001b[A\n",
      "4it [00:03,  1.25it/s]\u001b[A\n",
      "5it [00:03,  1.27it/s]\u001b[A\n",
      "6it [00:04,  1.28it/s]\u001b[A\n",
      "7it [00:05,  1.27it/s]\u001b[A\n",
      "8it [00:06,  1.27it/s]\u001b[A\n",
      "9it [00:07,  1.27it/s]\u001b[A\n",
      "10it [00:08,  1.21it/s]\u001b[A\n",
      "11it [00:09,  1.21it/s]\u001b[A\n",
      "Exception in thread Thread-15:\n",
      "Traceback (most recent call last):\n",
      "  File \"/home/dennis/anaconda3/envs/pytorch/lib/python3.6/threading.py\", line 916, in _bootstrap_inner\n",
      "    self.run()\n",
      "  File \"/home/dennis/anaconda3/envs/pytorch/lib/python3.6/site-packages/tqdm/_tqdm.py\", line 144, in run\n",
      "    for instance in self.tqdm_cls._instances:\n",
      "  File \"/home/dennis/anaconda3/envs/pytorch/lib/python3.6/_weakrefset.py\", line 60, in __iter__\n",
      "    for itemref in self.data:\n",
      "RuntimeError: Set changed size during iteration\n",
      "\n",
      "3000it [39:15,  1.27it/s]\n"
     ]
    },
    {
     "name": "stdout",
     "output_type": "stream",
     "text": [
      "train Loss: 0.0947, Acc: 0.9634\n"
     ]
    },
    {
     "name": "stderr",
     "output_type": "stream",
     "text": [
      "\r",
      "0it [00:00, ?it/s]"
     ]
    },
    {
     "name": "stdout",
     "output_type": "stream",
     "text": [
      "val Loss: 0.3850, Acc: 0.8675\n",
      "\n",
      "Epoch 24/29\n",
      "----------\n"
     ]
    },
    {
     "name": "stderr",
     "output_type": "stream",
     "text": [
      "3000it [40:07,  1.25it/s]"
     ]
    },
    {
     "name": "stdout",
     "output_type": "stream",
     "text": [
      "train Loss: 0.0932, Acc: 0.9639\n"
     ]
    },
    {
     "name": "stderr",
     "output_type": "stream",
     "text": [
      "\n",
      "0it [00:00, ?it/s]\u001b[A"
     ]
    },
    {
     "name": "stdout",
     "output_type": "stream",
     "text": [
      "val Loss: 0.5021, Acc: 0.8454\n",
      "\n",
      "Epoch 25/29\n",
      "----------\n"
     ]
    },
    {
     "name": "stderr",
     "output_type": "stream",
     "text": [
      "\n",
      "1it [00:00,  1.25it/s]\u001b[A\n",
      "2it [00:01,  1.30it/s]\u001b[A\n",
      "3it [00:02,  1.30it/s]\u001b[A\n",
      "4it [00:03,  1.28it/s]\u001b[A\n",
      "5it [00:03,  1.27it/s]\u001b[A\n",
      "6it [00:04,  1.28it/s]\u001b[A\n",
      "7it [00:05,  1.28it/s]\u001b[A\n",
      "Exception in thread Thread-16:\n",
      "Traceback (most recent call last):\n",
      "  File \"/home/dennis/anaconda3/envs/pytorch/lib/python3.6/threading.py\", line 916, in _bootstrap_inner\n",
      "    self.run()\n",
      "  File \"/home/dennis/anaconda3/envs/pytorch/lib/python3.6/site-packages/tqdm/_tqdm.py\", line 144, in run\n",
      "    for instance in self.tqdm_cls._instances:\n",
      "  File \"/home/dennis/anaconda3/envs/pytorch/lib/python3.6/_weakrefset.py\", line 60, in __iter__\n",
      "    for itemref in self.data:\n",
      "RuntimeError: Set changed size during iteration\n",
      "\n",
      "3000it [42:37,  1.17it/s]\n"
     ]
    },
    {
     "name": "stdout",
     "output_type": "stream",
     "text": [
      "train Loss: 0.0957, Acc: 0.9629\n"
     ]
    },
    {
     "name": "stderr",
     "output_type": "stream",
     "text": [
      "\r",
      "0it [00:00, ?it/s]"
     ]
    },
    {
     "name": "stdout",
     "output_type": "stream",
     "text": [
      "val Loss: 0.2701, Acc: 0.8800\n",
      "\n",
      "Epoch 26/29\n",
      "----------\n"
     ]
    },
    {
     "name": "stderr",
     "output_type": "stream",
     "text": [
      "3000it [41:12,  1.21it/s]"
     ]
    },
    {
     "name": "stdout",
     "output_type": "stream",
     "text": [
      "train Loss: 0.0903, Acc: 0.9651\n"
     ]
    },
    {
     "name": "stderr",
     "output_type": "stream",
     "text": [
      "\n",
      "0it [00:00, ?it/s]\u001b[A"
     ]
    },
    {
     "name": "stdout",
     "output_type": "stream",
     "text": [
      "val Loss: 0.4021, Acc: 0.8004\n",
      "\n",
      "Epoch 27/29\n",
      "----------\n"
     ]
    },
    {
     "name": "stderr",
     "output_type": "stream",
     "text": [
      "\n",
      "1it [00:00,  1.23it/s]\u001b[A\n",
      "2it [00:01,  1.25it/s]\u001b[A\n",
      "3it [00:02,  1.29it/s]\u001b[A\n",
      "Exception in thread Thread-17:\n",
      "Traceback (most recent call last):\n",
      "  File \"/home/dennis/anaconda3/envs/pytorch/lib/python3.6/threading.py\", line 916, in _bootstrap_inner\n",
      "    self.run()\n",
      "  File \"/home/dennis/anaconda3/envs/pytorch/lib/python3.6/site-packages/tqdm/_tqdm.py\", line 144, in run\n",
      "    for instance in self.tqdm_cls._instances:\n",
      "  File \"/home/dennis/anaconda3/envs/pytorch/lib/python3.6/_weakrefset.py\", line 60, in __iter__\n",
      "    for itemref in self.data:\n",
      "RuntimeError: Set changed size during iteration\n",
      "\n",
      "3000it [38:31,  1.30it/s]\n"
     ]
    },
    {
     "name": "stdout",
     "output_type": "stream",
     "text": [
      "train Loss: 0.0905, Acc: 0.9649\n"
     ]
    },
    {
     "name": "stderr",
     "output_type": "stream",
     "text": [
      "\r",
      "0it [00:00, ?it/s]"
     ]
    },
    {
     "name": "stdout",
     "output_type": "stream",
     "text": [
      "val Loss: 0.2672, Acc: 0.8886\n",
      "\n",
      "Epoch 28/29\n",
      "----------\n"
     ]
    },
    {
     "name": "stderr",
     "output_type": "stream",
     "text": [
      "3000it [40:08,  1.25it/s]"
     ]
    },
    {
     "name": "stdout",
     "output_type": "stream",
     "text": [
      "train Loss: 0.0902, Acc: 0.9650\n"
     ]
    },
    {
     "name": "stderr",
     "output_type": "stream",
     "text": [
      "\n",
      "0it [00:00, ?it/s]\u001b[A"
     ]
    },
    {
     "name": "stdout",
     "output_type": "stream",
     "text": [
      "val Loss: 0.2787, Acc: 0.8688\n",
      "\n",
      "Epoch 29/29\n",
      "----------\n"
     ]
    },
    {
     "name": "stderr",
     "output_type": "stream",
     "text": [
      "\n",
      "1it [00:00,  1.28it/s]\u001b[A\n",
      "2it [00:01,  1.28it/s]\u001b[A\n",
      "3it [00:02,  1.27it/s]\u001b[A\n",
      "4it [00:03,  1.28it/s]\u001b[A\n",
      "5it [00:03,  1.28it/s]\u001b[A\n",
      "6it [00:04,  1.29it/s]\u001b[A\n",
      "7it [00:05,  1.29it/s]\u001b[A\n",
      "Exception in thread Thread-18:\n",
      "Traceback (most recent call last):\n",
      "  File \"/home/dennis/anaconda3/envs/pytorch/lib/python3.6/threading.py\", line 916, in _bootstrap_inner\n",
      "    self.run()\n",
      "  File \"/home/dennis/anaconda3/envs/pytorch/lib/python3.6/site-packages/tqdm/_tqdm.py\", line 144, in run\n",
      "    for instance in self.tqdm_cls._instances:\n",
      "  File \"/home/dennis/anaconda3/envs/pytorch/lib/python3.6/_weakrefset.py\", line 60, in __iter__\n",
      "    for itemref in self.data:\n",
      "RuntimeError: Set changed size during iteration\n",
      "\n",
      "3000it [39:03,  1.28it/s]\n"
     ]
    },
    {
     "name": "stdout",
     "output_type": "stream",
     "text": [
      "train Loss: 0.0900, Acc: 0.9651\n",
      "val Loss: 0.6069, Acc: 0.7973\n",
      "\n",
      "Training complete in 1217m 2s\n"
     ]
    }
   ],
   "source": [
    "model, acc = train_model(model, criterion, optimizer, 30)\n",
    "torch.save(model, './model-0103-{:.4f}.pt'.format(acc))"
   ]
  },
  {
   "cell_type": "markdown",
   "metadata": {},
   "source": [
    "---\n",
    "# Test Model"
   ]
  },
  {
   "cell_type": "code",
   "execution_count": 18,
   "metadata": {
    "collapsed": true
   },
   "outputs": [],
   "source": [
    "model = torch.load('./model-1229-0.9549.pt')"
   ]
  },
  {
   "cell_type": "code",
   "execution_count": 60,
   "metadata": {},
   "outputs": [
    {
     "name": "stdout",
     "output_type": "stream",
     "text": [
      "torch.Size([3, 512, 512]) torch.Size([1, 512, 512])\n"
     ]
    }
   ],
   "source": [
    "test = val_dataset[570]\n",
    "print(test[0].size(), test[1].size())"
   ]
  },
  {
   "cell_type": "code",
   "execution_count": 61,
   "metadata": {},
   "outputs": [
    {
     "name": "stdout",
     "output_type": "stream",
     "text": [
      "torch.Size([1, 3, 512, 512]) torch.Size([1, 1, 512, 512])\n"
     ]
    }
   ],
   "source": [
    "inputs, labels = test\n",
    "inputs = inputs.unsqueeze(0)\n",
    "labels = labels.unsqueeze(0)\n",
    "if USE_GPU:\n",
    "    inputs = Variable(inputs.cuda())\n",
    "    labels = Variable(labels.cuda())\n",
    "else:\n",
    "    inputs, labels = Variable(inputs), Variable(labels)\n",
    "print(inputs.size(), labels.size())"
   ]
  },
  {
   "cell_type": "code",
   "execution_count": 62,
   "metadata": {},
   "outputs": [
    {
     "name": "stdout",
     "output_type": "stream",
     "text": [
      "Variable containing:\n",
      "( 0 , 0 ,.,.) = \n",
      "  8.9881e-03  4.8040e-03  4.0802e-03  ...   1.4285e-01  1.4365e-01  1.0720e-01\n",
      "  4.7295e-03  4.2631e-03  3.7828e-03  ...   1.5562e-01  1.5717e-01  1.5186e-01\n",
      "  4.4518e-03  4.3401e-03  3.8026e-03  ...   1.9202e-01  1.8639e-01  1.7824e-01\n",
      "                 ...                   ⋱                   ...                \n",
      "  4.0678e-01  3.8801e-01  3.2223e-01  ...   1.3411e-03  1.6840e-03  1.2609e-03\n",
      "  4.7499e-01  4.7580e-01  3.9464e-01  ...   1.6100e-03  1.9304e-03  1.5011e-03\n",
      "  3.2571e-01  4.7632e-01  4.1367e-01  ...   1.3075e-03  1.4857e-03  3.4069e-03\n",
      "[torch.cuda.FloatTensor of size 1x1x512x512 (GPU 0)]\n",
      "\n"
     ]
    }
   ],
   "source": [
    "model.eval()\n",
    "outputs = model(inputs)\n",
    "print(outputs)"
   ]
  },
  {
   "cell_type": "code",
   "execution_count": 63,
   "metadata": {},
   "outputs": [
    {
     "name": "stdout",
     "output_type": "stream",
     "text": [
      "(512, 512)\n",
      "(512, 512)\n"
     ]
    }
   ],
   "source": [
    "outputs = transforms.ToPILImage()(outputs.data.cpu()[0])\n",
    "outputs = np.array(outputs)\n",
    "labels = transforms.ToPILImage()(labels.data.cpu()[0])\n",
    "labels = np.array(labels)\n",
    "print(outputs.shape)\n",
    "print(labels.shape)"
   ]
  },
  {
   "cell_type": "code",
   "execution_count": 64,
   "metadata": {},
   "outputs": [
    {
     "data": {
      "text/plain": [
       "array([[0, 0, 0, ..., 0, 0, 0],\n",
       "       [0, 0, 0, ..., 0, 0, 0],\n",
       "       [0, 0, 0, ..., 0, 0, 0],\n",
       "       ..., \n",
       "       [0, 0, 0, ..., 0, 0, 0],\n",
       "       [0, 0, 0, ..., 0, 0, 0],\n",
       "       [0, 0, 0, ..., 0, 0, 0]], dtype=uint8)"
      ]
     },
     "execution_count": 64,
     "metadata": {},
     "output_type": "execute_result"
    }
   ],
   "source": [
    "labels"
   ]
  },
  {
   "cell_type": "code",
   "execution_count": 67,
   "metadata": {},
   "outputs": [
    {
     "data": {
      "text/plain": [
       "<matplotlib.image.AxesImage at 0x7f72d7210208>"
      ]
     },
     "execution_count": 67,
     "metadata": {},
     "output_type": "execute_result"
    },
    {
     "data": {
      "image/png": "[encoded data removed]",
      "text/plain": [
       "<matplotlib.figure.Figure at 0x7f72d7323ac8>"
      ]
     },
     "metadata": {},
     "output_type": "display_data"
    }
   ],
   "source": [
    "fig, axs = plt.subplots(1,2)\n",
    "axs[0].imshow(outputs > int(255*0.3), cmap='gray')\n",
    "axs[1].imshow(labels, cmap='gray')"
   ]
  },
  {
   "cell_type": "code",
   "execution_count": 48,
   "metadata": {},
   "outputs": [
    {
     "data": {
      "text/plain": [
       "'0.tif'"
      ]
     },
     "execution_count": 48,
     "metadata": {},
     "output_type": "execute_result"
    }
   ],
   "source": [
    "val_dataset.datas[1]"
   ]
  },
  {
   "cell_type": "code",
   "execution_count": 41,
   "metadata": {},
   "outputs": [
    {
     "data": {
      "text/plain": [
       "'1.tif'"
      ]
     },
     "execution_count": 41,
     "metadata": {},
     "output_type": "execute_result"
    }
   ],
   "source": [
    "val_dataset.labels[2]"
   ]
  },
  {
   "cell_type": "code",
   "execution_count": null,
   "metadata": {
    "collapsed": true
   },
   "outputs": [],
   "source": [
    "val[0].index('6.tif')"
   ]
  },
  {
   "cell_type": "code",
   "execution_count": 66,
   "metadata": {},
   "outputs": [
    {
     "data": {
      "text/plain": [
       "'0.3.0.post4'"
      ]
     },
     "execution_count": 66,
     "metadata": {},
     "output_type": "execute_result"
    }
   ],
   "source": [
    "torch.__version__"
   ]
  },
  {
   "cell_type": "code",
   "execution_count": null,
   "metadata": {
    "collapsed": true
   },
   "outputs": [],
   "source": []
  }
 ],
 "metadata": {
  "kernelspec": {
   "display_name": "Python [conda env:pytorch]",
   "language": "python",
   "name": "conda-env-pytorch-py"
  },
  "language_info": {
   "codemirror_mode": {
    "name": "ipython",
    "version": 3
   },
   "file_extension": ".py",
   "mimetype": "text/x-python",
   "name": "python",
   "nbconvert_exporter": "python",
   "pygments_lexer": "ipython3",
   "version": "3.6.3"
  }
 },
 "nbformat": 4,
 "nbformat_minor": 2
}
