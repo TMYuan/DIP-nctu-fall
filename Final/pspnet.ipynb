{
 "cells": [
  {
   "cell_type": "markdown",
   "metadata": {},
   "source": [
    "---\n",
    "# Module Dependency"
   ]
  },
  {
   "cell_type": "code",
   "execution_count": 1,
   "metadata": {
    "collapsed": true
   },
   "outputs": [],
   "source": [
    "%matplotlib inline\n",
    "import os\n",
    "import time\n",
    "import torch\n",
    "import torch.nn as nn\n",
    "import torch.optim as optim\n",
    "import torch.nn.functional as F\n",
    "from tqdm import tqdm, tqdm_notebook\n",
    "from torch.autograd import Variable\n",
    "import pandas as pd\n",
    "from skimage import io, transform, color, morphology\n",
    "import numpy as np\n",
    "import matplotlib.pyplot as plt\n",
    "from torch.utils.data import Dataset, DataLoader\n",
    "from torchvision import transforms, utils, models\n",
    "\n",
    "plt.rcParams['figure.figsize'] = (10.0, 8.0)"
   ]
  },
  {
   "cell_type": "markdown",
   "metadata": {},
   "source": [
    "---\n",
    "# Define Constant"
   ]
  },
  {
   "cell_type": "code",
   "execution_count": 2,
   "metadata": {
    "collapsed": true
   },
   "outputs": [],
   "source": [
    "tqdm.monitor_interval = 0\n",
    "USE_GPU = torch.cuda.is_available()\n",
    "TRAIN_DATA_PATH = '/media/dennis/HDD/AerialImageDataset/train/512/train_data/'\n",
    "TRAIN_LABEL_PATH = '/media/dennis/HDD/AerialImageDataset/train/512/train_label/'\n",
    "VAL_DATA_PATH = '/media/dennis/HDD/AerialImageDataset/train/512/val_data/'\n",
    "VAL_LABEL_PATH = '/media/dennis/HDD/AerialImageDataset/train/512/val_label/'"
   ]
  },
  {
   "cell_type": "markdown",
   "metadata": {},
   "source": [
    "---\n",
    "# Load data and data preprocessing"
   ]
  },
  {
   "cell_type": "code",
   "execution_count": 3,
   "metadata": {},
   "outputs": [
    {
     "name": "stdout",
     "output_type": "stream",
     "text": [
      "17100 17100\n",
      "900 900\n"
     ]
    }
   ],
   "source": [
    "\"\"\"\n",
    "Get file names of training and testing data\n",
    "\"\"\"\n",
    "train = (os.listdir(TRAIN_DATA_PATH), os.listdir(TRAIN_LABEL_PATH))\n",
    "val = (os.listdir(VAL_DATA_PATH), os.listdir(VAL_LABEL_PATH))\n",
    "print(len(train[0]), len(train[1]))\n",
    "print(len(val[0]), len(val[1]))"
   ]
  },
  {
   "cell_type": "code",
   "execution_count": 4,
   "metadata": {
    "collapsed": true
   },
   "outputs": [],
   "source": [
    "\"\"\"\n",
    "Create dataset object to load aerial data\n",
    "\"\"\"\n",
    "class AerialImageDataset(Dataset):\n",
    "    \"\"\"\n",
    "    It is used to load the aerial image dataset \n",
    "    \"\"\"\n",
    "    def __init__(self, data_dir, label_dir, data_list, label_list, transform=None):\n",
    "        self.data_dir = data_dir\n",
    "        self.label_dir = label_dir\n",
    "        self.datas = data_list\n",
    "        self.labels = label_list\n",
    "        self.transform = transform\n",
    "    def __len__(self):\n",
    "        return len(self.datas)\n",
    "    def __getitem__(self, idx):\n",
    "        img_name = self.data_dir + str(self.datas[idx])\n",
    "        lbl_name = self.label_dir + str(self.labels[idx])\n",
    "        img = io.imread(img_name)\n",
    "        lbl = io.imread(lbl_name)\n",
    "        if self.transform:\n",
    "            img = self.transform(img)\n",
    "            lbl = transforms.ToPILImage()(np.expand_dims(lbl, axis=2))\n",
    "#             lbl = transforms.Resize((512, 512))(lbl)\n",
    "            lbl = transforms.ToTensor()(lbl)\n",
    "            lbl[lbl >= 0.5] = 1\n",
    "            lbl[lbl < 0.5] = 0\n",
    "        return (img, lbl)"
   ]
  },
  {
   "cell_type": "code",
   "execution_count": 5,
   "metadata": {},
   "outputs": [
    {
     "name": "stdout",
     "output_type": "stream",
     "text": [
      "torch.Size([3, 512, 512])\n",
      "torch.Size([1, 512, 512])\n"
     ]
    }
   ],
   "source": [
    "\"\"\"\n",
    "Build training dataset containing data and label,\n",
    "both of them are in torch.Tensor data type.\n",
    "\"\"\"\n",
    "train_dataset = AerialImageDataset(\n",
    "    data_dir = TRAIN_DATA_PATH,\n",
    "    label_dir = TRAIN_LABEL_PATH,\n",
    "    data_list = train[0],\n",
    "    label_list = train[1],\n",
    "    transform = transforms.Compose([\n",
    "        transforms.ToPILImage(),\n",
    "#         transforms.Resize((512, 512)),\n",
    "        transforms.ToTensor(),\n",
    "        transforms.Normalize([0.485, 0.456, 0.406], [0.229, 0.224, 0.225])\n",
    "    ])\n",
    ")\n",
    "# fig, axs = plt.subplots(2)\n",
    "# axs[0].imshow(train_dataset[30][0])\n",
    "# axs[1].imshow(train_dataset[30][1])\n",
    "print(train_dataset[17099][0].size())\n",
    "print(train_dataset[17099][1].size())"
   ]
  },
  {
   "cell_type": "code",
   "execution_count": 6,
   "metadata": {},
   "outputs": [
    {
     "name": "stdout",
     "output_type": "stream",
     "text": [
      "torch.Size([3, 512, 512])\n",
      "torch.Size([1, 512, 512])\n"
     ]
    }
   ],
   "source": [
    "\"\"\"\n",
    "Build Val dataset containing data and label,\n",
    "both of them are in torch.Tensor data type.\n",
    "\"\"\"\n",
    "val_dataset = AerialImageDataset(\n",
    "    data_dir = VAL_DATA_PATH,\n",
    "    label_dir = VAL_LABEL_PATH,\n",
    "    data_list = val[0],\n",
    "    label_list = val[1],\n",
    "    transform = transforms.Compose([\n",
    "        transforms.ToPILImage(),\n",
    "#         transforms.Resize((512, 512)),\n",
    "        transforms.ToTensor(),\n",
    "        transforms.Normalize([0.485, 0.456, 0.406], [0.229, 0.224, 0.225])\n",
    "    ])\n",
    ")\n",
    "print(val_dataset[899][0].size())\n",
    "print(val_dataset[899][1].size())"
   ]
  },
  {
   "cell_type": "code",
   "execution_count": 7,
   "metadata": {
    "collapsed": true
   },
   "outputs": [],
   "source": [
    "\"\"\"\n",
    "Build dataloader for both training and val data,\n",
    "the size of training data will be [4, 3, 500, 500]\n",
    "the size of val data will be [4, 1, 500, 500]\n",
    "\"\"\"\n",
    "train_dataloader = DataLoader(train_dataset, 4, shuffle=True)\n",
    "val_dataloader = DataLoader(val_dataset, 4)"
   ]
  },
  {
   "cell_type": "markdown",
   "metadata": {},
   "source": [
    "---\n",
    "# Build Network"
   ]
  },
  {
   "cell_type": "code",
   "execution_count": 8,
   "metadata": {
    "collapsed": true
   },
   "outputs": [],
   "source": [
    "from model_test import PSPNet, PSPModule, PSPUpsample"
   ]
  },
  {
   "cell_type": "code",
   "execution_count": 9,
   "metadata": {
    "slideshow": {
     "slide_type": "-"
    }
   },
   "outputs": [
    {
     "name": "stdout",
     "output_type": "stream",
     "text": [
      "DenseNet(\n",
      "  (features): Sequential(\n",
      "    (conv0): Conv2d (3, 64, kernel_size=(7, 7), stride=(2, 2), padding=(3, 3), bias=False)\n",
      "    (norm0): BatchNorm2d(64, eps=1e-05, momentum=0.1, affine=True)\n",
      "    (relu0): ReLU(inplace)\n",
      "    (pool0): MaxPool2d(kernel_size=(3, 3), stride=(2, 2), padding=(1, 1), dilation=(1, 1))\n",
      "    (denseblock1): _DenseBlock(\n",
      "      (denselayer1): _DenseLayer(\n",
      "        (norm.1): BatchNorm2d(64, eps=1e-05, momentum=0.1, affine=True)\n",
      "        (relu.1): ReLU(inplace)\n",
      "        (conv.1): Conv2d (64, 128, kernel_size=(1, 1), stride=(1, 1), bias=False)\n",
      "        (norm.2): BatchNorm2d(128, eps=1e-05, momentum=0.1, affine=True)\n",
      "        (relu.2): ReLU(inplace)\n",
      "        (conv.2): Conv2d (128, 32, kernel_size=(3, 3), stride=(1, 1), padding=(1, 1), bias=False)\n",
      "      )\n",
      "      (denselayer2): _DenseLayer(\n",
      "        (norm.1): BatchNorm2d(96, eps=1e-05, momentum=0.1, affine=True)\n",
      "        (relu.1): ReLU(inplace)\n",
      "        (conv.1): Conv2d (96, 128, kernel_size=(1, 1), stride=(1, 1), bias=False)\n",
      "        (norm.2): BatchNorm2d(128, eps=1e-05, momentum=0.1, affine=True)\n",
      "        (relu.2): ReLU(inplace)\n",
      "        (conv.2): Conv2d (128, 32, kernel_size=(3, 3), stride=(1, 1), padding=(1, 1), bias=False)\n",
      "      )\n",
      "      (denselayer3): _DenseLayer(\n",
      "        (norm.1): BatchNorm2d(128, eps=1e-05, momentum=0.1, affine=True)\n",
      "        (relu.1): ReLU(inplace)\n",
      "        (conv.1): Conv2d (128, 128, kernel_size=(1, 1), stride=(1, 1), bias=False)\n",
      "        (norm.2): BatchNorm2d(128, eps=1e-05, momentum=0.1, affine=True)\n",
      "        (relu.2): ReLU(inplace)\n",
      "        (conv.2): Conv2d (128, 32, kernel_size=(3, 3), stride=(1, 1), padding=(1, 1), bias=False)\n",
      "      )\n",
      "      (denselayer4): _DenseLayer(\n",
      "        (norm.1): BatchNorm2d(160, eps=1e-05, momentum=0.1, affine=True)\n",
      "        (relu.1): ReLU(inplace)\n",
      "        (conv.1): Conv2d (160, 128, kernel_size=(1, 1), stride=(1, 1), bias=False)\n",
      "        (norm.2): BatchNorm2d(128, eps=1e-05, momentum=0.1, affine=True)\n",
      "        (relu.2): ReLU(inplace)\n",
      "        (conv.2): Conv2d (128, 32, kernel_size=(3, 3), stride=(1, 1), padding=(1, 1), bias=False)\n",
      "      )\n",
      "      (denselayer5): _DenseLayer(\n",
      "        (norm.1): BatchNorm2d(192, eps=1e-05, momentum=0.1, affine=True)\n",
      "        (relu.1): ReLU(inplace)\n",
      "        (conv.1): Conv2d (192, 128, kernel_size=(1, 1), stride=(1, 1), bias=False)\n",
      "        (norm.2): BatchNorm2d(128, eps=1e-05, momentum=0.1, affine=True)\n",
      "        (relu.2): ReLU(inplace)\n",
      "        (conv.2): Conv2d (128, 32, kernel_size=(3, 3), stride=(1, 1), padding=(1, 1), bias=False)\n",
      "      )\n",
      "      (denselayer6): _DenseLayer(\n",
      "        (norm.1): BatchNorm2d(224, eps=1e-05, momentum=0.1, affine=True)\n",
      "        (relu.1): ReLU(inplace)\n",
      "        (conv.1): Conv2d (224, 128, kernel_size=(1, 1), stride=(1, 1), bias=False)\n",
      "        (norm.2): BatchNorm2d(128, eps=1e-05, momentum=0.1, affine=True)\n",
      "        (relu.2): ReLU(inplace)\n",
      "        (conv.2): Conv2d (128, 32, kernel_size=(3, 3), stride=(1, 1), padding=(1, 1), bias=False)\n",
      "      )\n",
      "    )\n",
      "    (transition1): _Transition(\n",
      "      (norm): BatchNorm2d(256, eps=1e-05, momentum=0.1, affine=True)\n",
      "      (relu): ReLU(inplace)\n",
      "      (conv): Conv2d (256, 128, kernel_size=(1, 1), stride=(1, 1), bias=False)\n",
      "      (pool): AvgPool2d(kernel_size=2, stride=2, padding=0, ceil_mode=False, count_include_pad=True)\n",
      "    )\n",
      "    (denseblock2): _DenseBlock(\n",
      "      (denselayer1): _DenseLayer(\n",
      "        (norm.1): BatchNorm2d(128, eps=1e-05, momentum=0.1, affine=True)\n",
      "        (relu.1): ReLU(inplace)\n",
      "        (conv.1): Conv2d (128, 128, kernel_size=(1, 1), stride=(1, 1), bias=False)\n",
      "        (norm.2): BatchNorm2d(128, eps=1e-05, momentum=0.1, affine=True)\n",
      "        (relu.2): ReLU(inplace)\n",
      "        (conv.2): Conv2d (128, 32, kernel_size=(3, 3), stride=(1, 1), padding=(1, 1), bias=False)\n",
      "      )\n",
      "      (denselayer2): _DenseLayer(\n",
      "        (norm.1): BatchNorm2d(160, eps=1e-05, momentum=0.1, affine=True)\n",
      "        (relu.1): ReLU(inplace)\n",
      "        (conv.1): Conv2d (160, 128, kernel_size=(1, 1), stride=(1, 1), bias=False)\n",
      "        (norm.2): BatchNorm2d(128, eps=1e-05, momentum=0.1, affine=True)\n",
      "        (relu.2): ReLU(inplace)\n",
      "        (conv.2): Conv2d (128, 32, kernel_size=(3, 3), stride=(1, 1), padding=(1, 1), bias=False)\n",
      "      )\n",
      "      (denselayer3): _DenseLayer(\n",
      "        (norm.1): BatchNorm2d(192, eps=1e-05, momentum=0.1, affine=True)\n",
      "        (relu.1): ReLU(inplace)\n",
      "        (conv.1): Conv2d (192, 128, kernel_size=(1, 1), stride=(1, 1), bias=False)\n",
      "        (norm.2): BatchNorm2d(128, eps=1e-05, momentum=0.1, affine=True)\n",
      "        (relu.2): ReLU(inplace)\n",
      "        (conv.2): Conv2d (128, 32, kernel_size=(3, 3), stride=(1, 1), padding=(1, 1), bias=False)\n",
      "      )\n",
      "      (denselayer4): _DenseLayer(\n",
      "        (norm.1): BatchNorm2d(224, eps=1e-05, momentum=0.1, affine=True)\n",
      "        (relu.1): ReLU(inplace)\n",
      "        (conv.1): Conv2d (224, 128, kernel_size=(1, 1), stride=(1, 1), bias=False)\n",
      "        (norm.2): BatchNorm2d(128, eps=1e-05, momentum=0.1, affine=True)\n",
      "        (relu.2): ReLU(inplace)\n",
      "        (conv.2): Conv2d (128, 32, kernel_size=(3, 3), stride=(1, 1), padding=(1, 1), bias=False)\n",
      "      )\n",
      "      (denselayer5): _DenseLayer(\n",
      "        (norm.1): BatchNorm2d(256, eps=1e-05, momentum=0.1, affine=True)\n",
      "        (relu.1): ReLU(inplace)\n",
      "        (conv.1): Conv2d (256, 128, kernel_size=(1, 1), stride=(1, 1), bias=False)\n",
      "        (norm.2): BatchNorm2d(128, eps=1e-05, momentum=0.1, affine=True)\n",
      "        (relu.2): ReLU(inplace)\n",
      "        (conv.2): Conv2d (128, 32, kernel_size=(3, 3), stride=(1, 1), padding=(1, 1), bias=False)\n",
      "      )\n",
      "      (denselayer6): _DenseLayer(\n",
      "        (norm.1): BatchNorm2d(288, eps=1e-05, momentum=0.1, affine=True)\n",
      "        (relu.1): ReLU(inplace)\n",
      "        (conv.1): Conv2d (288, 128, kernel_size=(1, 1), stride=(1, 1), bias=False)\n",
      "        (norm.2): BatchNorm2d(128, eps=1e-05, momentum=0.1, affine=True)\n",
      "        (relu.2): ReLU(inplace)\n",
      "        (conv.2): Conv2d (128, 32, kernel_size=(3, 3), stride=(1, 1), padding=(1, 1), bias=False)\n",
      "      )\n",
      "      (denselayer7): _DenseLayer(\n",
      "        (norm.1): BatchNorm2d(320, eps=1e-05, momentum=0.1, affine=True)\n",
      "        (relu.1): ReLU(inplace)\n",
      "        (conv.1): Conv2d (320, 128, kernel_size=(1, 1), stride=(1, 1), bias=False)\n",
      "        (norm.2): BatchNorm2d(128, eps=1e-05, momentum=0.1, affine=True)\n",
      "        (relu.2): ReLU(inplace)\n",
      "        (conv.2): Conv2d (128, 32, kernel_size=(3, 3), stride=(1, 1), padding=(1, 1), bias=False)\n",
      "      )\n",
      "      (denselayer8): _DenseLayer(\n",
      "        (norm.1): BatchNorm2d(352, eps=1e-05, momentum=0.1, affine=True)\n",
      "        (relu.1): ReLU(inplace)\n",
      "        (conv.1): Conv2d (352, 128, kernel_size=(1, 1), stride=(1, 1), bias=False)\n",
      "        (norm.2): BatchNorm2d(128, eps=1e-05, momentum=0.1, affine=True)\n",
      "        (relu.2): ReLU(inplace)\n",
      "        (conv.2): Conv2d (128, 32, kernel_size=(3, 3), stride=(1, 1), padding=(1, 1), bias=False)\n",
      "      )\n",
      "      (denselayer9): _DenseLayer(\n",
      "        (norm.1): BatchNorm2d(384, eps=1e-05, momentum=0.1, affine=True)\n",
      "        (relu.1): ReLU(inplace)\n",
      "        (conv.1): Conv2d (384, 128, kernel_size=(1, 1), stride=(1, 1), bias=False)\n",
      "        (norm.2): BatchNorm2d(128, eps=1e-05, momentum=0.1, affine=True)\n",
      "        (relu.2): ReLU(inplace)\n",
      "        (conv.2): Conv2d (128, 32, kernel_size=(3, 3), stride=(1, 1), padding=(1, 1), bias=False)\n",
      "      )\n",
      "      (denselayer10): _DenseLayer(\n",
      "        (norm.1): BatchNorm2d(416, eps=1e-05, momentum=0.1, affine=True)\n",
      "        (relu.1): ReLU(inplace)\n",
      "        (conv.1): Conv2d (416, 128, kernel_size=(1, 1), stride=(1, 1), bias=False)\n",
      "        (norm.2): BatchNorm2d(128, eps=1e-05, momentum=0.1, affine=True)\n",
      "        (relu.2): ReLU(inplace)\n",
      "        (conv.2): Conv2d (128, 32, kernel_size=(3, 3), stride=(1, 1), padding=(1, 1), bias=False)\n",
      "      )\n",
      "      (denselayer11): _DenseLayer(\n",
      "        (norm.1): BatchNorm2d(448, eps=1e-05, momentum=0.1, affine=True)\n",
      "        (relu.1): ReLU(inplace)\n",
      "        (conv.1): Conv2d (448, 128, kernel_size=(1, 1), stride=(1, 1), bias=False)\n",
      "        (norm.2): BatchNorm2d(128, eps=1e-05, momentum=0.1, affine=True)\n",
      "        (relu.2): ReLU(inplace)\n",
      "        (conv.2): Conv2d (128, 32, kernel_size=(3, 3), stride=(1, 1), padding=(1, 1), bias=False)\n",
      "      )\n",
      "      (denselayer12): _DenseLayer(\n",
      "        (norm.1): BatchNorm2d(480, eps=1e-05, momentum=0.1, affine=True)\n",
      "        (relu.1): ReLU(inplace)\n",
      "        (conv.1): Conv2d (480, 128, kernel_size=(1, 1), stride=(1, 1), bias=False)\n",
      "        (norm.2): BatchNorm2d(128, eps=1e-05, momentum=0.1, affine=True)\n",
      "        (relu.2): ReLU(inplace)\n",
      "        (conv.2): Conv2d (128, 32, kernel_size=(3, 3), stride=(1, 1), padding=(1, 1), bias=False)\n",
      "      )\n",
      "    )\n",
      "    (transition2): _Transition(\n",
      "      (norm): BatchNorm2d(512, eps=1e-05, momentum=0.1, affine=True)\n",
      "      (relu): ReLU(inplace)\n",
      "      (conv): Conv2d (512, 256, kernel_size=(1, 1), stride=(1, 1), bias=False)\n",
      "      (pool): AvgPool2d(kernel_size=2, stride=2, padding=0, ceil_mode=False, count_include_pad=True)\n",
      "    )\n",
      "    (denseblock3): _DenseBlock(\n",
      "      (denselayer1): _DenseLayer(\n",
      "        (norm.1): BatchNorm2d(256, eps=1e-05, momentum=0.1, affine=True)\n",
      "        (relu.1): ReLU(inplace)\n",
      "        (conv.1): Conv2d (256, 128, kernel_size=(1, 1), stride=(1, 1), bias=False)\n",
      "        (norm.2): BatchNorm2d(128, eps=1e-05, momentum=0.1, affine=True)\n",
      "        (relu.2): ReLU(inplace)\n",
      "        (conv.2): Conv2d (128, 32, kernel_size=(3, 3), stride=(1, 1), padding=(1, 1), bias=False)\n",
      "      )\n",
      "      (denselayer2): _DenseLayer(\n",
      "        (norm.1): BatchNorm2d(288, eps=1e-05, momentum=0.1, affine=True)\n",
      "        (relu.1): ReLU(inplace)\n",
      "        (conv.1): Conv2d (288, 128, kernel_size=(1, 1), stride=(1, 1), bias=False)\n",
      "        (norm.2): BatchNorm2d(128, eps=1e-05, momentum=0.1, affine=True)\n",
      "        (relu.2): ReLU(inplace)\n",
      "        (conv.2): Conv2d (128, 32, kernel_size=(3, 3), stride=(1, 1), padding=(1, 1), bias=False)\n",
      "      )\n",
      "      (denselayer3): _DenseLayer(\n",
      "        (norm.1): BatchNorm2d(320, eps=1e-05, momentum=0.1, affine=True)\n",
      "        (relu.1): ReLU(inplace)\n",
      "        (conv.1): Conv2d (320, 128, kernel_size=(1, 1), stride=(1, 1), bias=False)\n",
      "        (norm.2): BatchNorm2d(128, eps=1e-05, momentum=0.1, affine=True)\n",
      "        (relu.2): ReLU(inplace)\n",
      "        (conv.2): Conv2d (128, 32, kernel_size=(3, 3), stride=(1, 1), padding=(1, 1), bias=False)\n",
      "      )\n",
      "      (denselayer4): _DenseLayer(\n",
      "        (norm.1): BatchNorm2d(352, eps=1e-05, momentum=0.1, affine=True)\n",
      "        (relu.1): ReLU(inplace)\n",
      "        (conv.1): Conv2d (352, 128, kernel_size=(1, 1), stride=(1, 1), bias=False)\n",
      "        (norm.2): BatchNorm2d(128, eps=1e-05, momentum=0.1, affine=True)\n",
      "        (relu.2): ReLU(inplace)\n",
      "        (conv.2): Conv2d (128, 32, kernel_size=(3, 3), stride=(1, 1), padding=(1, 1), bias=False)\n",
      "      )\n",
      "      (denselayer5): _DenseLayer(\n",
      "        (norm.1): BatchNorm2d(384, eps=1e-05, momentum=0.1, affine=True)\n",
      "        (relu.1): ReLU(inplace)\n",
      "        (conv.1): Conv2d (384, 128, kernel_size=(1, 1), stride=(1, 1), bias=False)\n",
      "        (norm.2): BatchNorm2d(128, eps=1e-05, momentum=0.1, affine=True)\n",
      "        (relu.2): ReLU(inplace)\n",
      "        (conv.2): Conv2d (128, 32, kernel_size=(3, 3), stride=(1, 1), padding=(1, 1), bias=False)\n",
      "      )\n",
      "      (denselayer6): _DenseLayer(\n",
      "        (norm.1): BatchNorm2d(416, eps=1e-05, momentum=0.1, affine=True)\n",
      "        (relu.1): ReLU(inplace)\n",
      "        (conv.1): Conv2d (416, 128, kernel_size=(1, 1), stride=(1, 1), bias=False)\n",
      "        (norm.2): BatchNorm2d(128, eps=1e-05, momentum=0.1, affine=True)\n",
      "        (relu.2): ReLU(inplace)\n",
      "        (conv.2): Conv2d (128, 32, kernel_size=(3, 3), stride=(1, 1), padding=(1, 1), bias=False)\n",
      "      )\n",
      "      (denselayer7): _DenseLayer(\n",
      "        (norm.1): BatchNorm2d(448, eps=1e-05, momentum=0.1, affine=True)\n",
      "        (relu.1): ReLU(inplace)\n",
      "        (conv.1): Conv2d (448, 128, kernel_size=(1, 1), stride=(1, 1), bias=False)\n",
      "        (norm.2): BatchNorm2d(128, eps=1e-05, momentum=0.1, affine=True)\n",
      "        (relu.2): ReLU(inplace)\n",
      "        (conv.2): Conv2d (128, 32, kernel_size=(3, 3), stride=(1, 1), padding=(1, 1), bias=False)\n",
      "      )\n",
      "      (denselayer8): _DenseLayer(\n",
      "        (norm.1): BatchNorm2d(480, eps=1e-05, momentum=0.1, affine=True)\n",
      "        (relu.1): ReLU(inplace)\n",
      "        (conv.1): Conv2d (480, 128, kernel_size=(1, 1), stride=(1, 1), bias=False)\n",
      "        (norm.2): BatchNorm2d(128, eps=1e-05, momentum=0.1, affine=True)\n",
      "        (relu.2): ReLU(inplace)\n",
      "        (conv.2): Conv2d (128, 32, kernel_size=(3, 3), stride=(1, 1), padding=(1, 1), bias=False)\n",
      "      )\n",
      "      (denselayer9): _DenseLayer(\n",
      "        (norm.1): BatchNorm2d(512, eps=1e-05, momentum=0.1, affine=True)\n",
      "        (relu.1): ReLU(inplace)\n",
      "        (conv.1): Conv2d (512, 128, kernel_size=(1, 1), stride=(1, 1), bias=False)\n",
      "        (norm.2): BatchNorm2d(128, eps=1e-05, momentum=0.1, affine=True)\n",
      "        (relu.2): ReLU(inplace)\n",
      "        (conv.2): Conv2d (128, 32, kernel_size=(3, 3), stride=(1, 1), padding=(1, 1), bias=False)\n",
      "      )\n",
      "      (denselayer10): _DenseLayer(\n",
      "        (norm.1): BatchNorm2d(544, eps=1e-05, momentum=0.1, affine=True)\n",
      "        (relu.1): ReLU(inplace)\n",
      "        (conv.1): Conv2d (544, 128, kernel_size=(1, 1), stride=(1, 1), bias=False)\n",
      "        (norm.2): BatchNorm2d(128, eps=1e-05, momentum=0.1, affine=True)\n",
      "        (relu.2): ReLU(inplace)\n",
      "        (conv.2): Conv2d (128, 32, kernel_size=(3, 3), stride=(1, 1), padding=(1, 1), bias=False)\n",
      "      )\n",
      "      (denselayer11): _DenseLayer(\n",
      "        (norm.1): BatchNorm2d(576, eps=1e-05, momentum=0.1, affine=True)\n",
      "        (relu.1): ReLU(inplace)\n",
      "        (conv.1): Conv2d (576, 128, kernel_size=(1, 1), stride=(1, 1), bias=False)\n",
      "        (norm.2): BatchNorm2d(128, eps=1e-05, momentum=0.1, affine=True)\n",
      "        (relu.2): ReLU(inplace)\n",
      "        (conv.2): Conv2d (128, 32, kernel_size=(3, 3), stride=(1, 1), padding=(1, 1), bias=False)\n",
      "      )\n",
      "      (denselayer12): _DenseLayer(\n",
      "        (norm.1): BatchNorm2d(608, eps=1e-05, momentum=0.1, affine=True)\n",
      "        (relu.1): ReLU(inplace)\n",
      "        (conv.1): Conv2d (608, 128, kernel_size=(1, 1), stride=(1, 1), bias=False)\n",
      "        (norm.2): BatchNorm2d(128, eps=1e-05, momentum=0.1, affine=True)\n",
      "        (relu.2): ReLU(inplace)\n",
      "        (conv.2): Conv2d (128, 32, kernel_size=(3, 3), stride=(1, 1), padding=(1, 1), bias=False)\n",
      "      )\n",
      "      (denselayer13): _DenseLayer(\n",
      "        (norm.1): BatchNorm2d(640, eps=1e-05, momentum=0.1, affine=True)\n",
      "        (relu.1): ReLU(inplace)\n",
      "        (conv.1): Conv2d (640, 128, kernel_size=(1, 1), stride=(1, 1), bias=False)\n",
      "        (norm.2): BatchNorm2d(128, eps=1e-05, momentum=0.1, affine=True)\n",
      "        (relu.2): ReLU(inplace)\n",
      "        (conv.2): Conv2d (128, 32, kernel_size=(3, 3), stride=(1, 1), padding=(1, 1), bias=False)\n",
      "      )\n",
      "      (denselayer14): _DenseLayer(\n",
      "        (norm.1): BatchNorm2d(672, eps=1e-05, momentum=0.1, affine=True)\n",
      "        (relu.1): ReLU(inplace)\n",
      "        (conv.1): Conv2d (672, 128, kernel_size=(1, 1), stride=(1, 1), bias=False)\n",
      "        (norm.2): BatchNorm2d(128, eps=1e-05, momentum=0.1, affine=True)\n",
      "        (relu.2): ReLU(inplace)\n",
      "        (conv.2): Conv2d (128, 32, kernel_size=(3, 3), stride=(1, 1), padding=(1, 1), bias=False)\n",
      "      )\n",
      "      (denselayer15): _DenseLayer(\n",
      "        (norm.1): BatchNorm2d(704, eps=1e-05, momentum=0.1, affine=True)\n",
      "        (relu.1): ReLU(inplace)\n",
      "        (conv.1): Conv2d (704, 128, kernel_size=(1, 1), stride=(1, 1), bias=False)\n",
      "        (norm.2): BatchNorm2d(128, eps=1e-05, momentum=0.1, affine=True)\n",
      "        (relu.2): ReLU(inplace)\n",
      "        (conv.2): Conv2d (128, 32, kernel_size=(3, 3), stride=(1, 1), padding=(1, 1), bias=False)\n",
      "      )\n",
      "      (denselayer16): _DenseLayer(\n",
      "        (norm.1): BatchNorm2d(736, eps=1e-05, momentum=0.1, affine=True)\n",
      "        (relu.1): ReLU(inplace)\n",
      "        (conv.1): Conv2d (736, 128, kernel_size=(1, 1), stride=(1, 1), bias=False)\n",
      "        (norm.2): BatchNorm2d(128, eps=1e-05, momentum=0.1, affine=True)\n",
      "        (relu.2): ReLU(inplace)\n",
      "        (conv.2): Conv2d (128, 32, kernel_size=(3, 3), stride=(1, 1), padding=(1, 1), bias=False)\n",
      "      )\n",
      "      (denselayer17): _DenseLayer(\n",
      "        (norm.1): BatchNorm2d(768, eps=1e-05, momentum=0.1, affine=True)\n",
      "        (relu.1): ReLU(inplace)\n",
      "        (conv.1): Conv2d (768, 128, kernel_size=(1, 1), stride=(1, 1), bias=False)\n",
      "        (norm.2): BatchNorm2d(128, eps=1e-05, momentum=0.1, affine=True)\n",
      "        (relu.2): ReLU(inplace)\n",
      "        (conv.2): Conv2d (128, 32, kernel_size=(3, 3), stride=(1, 1), padding=(1, 1), bias=False)\n",
      "      )\n",
      "      (denselayer18): _DenseLayer(\n",
      "        (norm.1): BatchNorm2d(800, eps=1e-05, momentum=0.1, affine=True)\n",
      "        (relu.1): ReLU(inplace)\n",
      "        (conv.1): Conv2d (800, 128, kernel_size=(1, 1), stride=(1, 1), bias=False)\n",
      "        (norm.2): BatchNorm2d(128, eps=1e-05, momentum=0.1, affine=True)\n",
      "        (relu.2): ReLU(inplace)\n",
      "        (conv.2): Conv2d (128, 32, kernel_size=(3, 3), stride=(1, 1), padding=(1, 1), bias=False)\n",
      "      )\n",
      "      (denselayer19): _DenseLayer(\n",
      "        (norm.1): BatchNorm2d(832, eps=1e-05, momentum=0.1, affine=True)\n",
      "        (relu.1): ReLU(inplace)\n",
      "        (conv.1): Conv2d (832, 128, kernel_size=(1, 1), stride=(1, 1), bias=False)\n",
      "        (norm.2): BatchNorm2d(128, eps=1e-05, momentum=0.1, affine=True)\n",
      "        (relu.2): ReLU(inplace)\n",
      "        (conv.2): Conv2d (128, 32, kernel_size=(3, 3), stride=(1, 1), padding=(1, 1), bias=False)\n",
      "      )\n",
      "      (denselayer20): _DenseLayer(\n",
      "        (norm.1): BatchNorm2d(864, eps=1e-05, momentum=0.1, affine=True)\n",
      "        (relu.1): ReLU(inplace)\n",
      "        (conv.1): Conv2d (864, 128, kernel_size=(1, 1), stride=(1, 1), bias=False)\n",
      "        (norm.2): BatchNorm2d(128, eps=1e-05, momentum=0.1, affine=True)\n",
      "        (relu.2): ReLU(inplace)\n",
      "        (conv.2): Conv2d (128, 32, kernel_size=(3, 3), stride=(1, 1), padding=(1, 1), bias=False)\n",
      "      )\n",
      "      (denselayer21): _DenseLayer(\n",
      "        (norm.1): BatchNorm2d(896, eps=1e-05, momentum=0.1, affine=True)\n",
      "        (relu.1): ReLU(inplace)\n",
      "        (conv.1): Conv2d (896, 128, kernel_size=(1, 1), stride=(1, 1), bias=False)\n",
      "        (norm.2): BatchNorm2d(128, eps=1e-05, momentum=0.1, affine=True)\n",
      "        (relu.2): ReLU(inplace)\n",
      "        (conv.2): Conv2d (128, 32, kernel_size=(3, 3), stride=(1, 1), padding=(1, 1), bias=False)\n",
      "      )\n",
      "      (denselayer22): _DenseLayer(\n",
      "        (norm.1): BatchNorm2d(928, eps=1e-05, momentum=0.1, affine=True)\n",
      "        (relu.1): ReLU(inplace)\n",
      "        (conv.1): Conv2d (928, 128, kernel_size=(1, 1), stride=(1, 1), bias=False)\n",
      "        (norm.2): BatchNorm2d(128, eps=1e-05, momentum=0.1, affine=True)\n",
      "        (relu.2): ReLU(inplace)\n",
      "        (conv.2): Conv2d (128, 32, kernel_size=(3, 3), stride=(1, 1), padding=(1, 1), bias=False)\n",
      "      )\n",
      "      (denselayer23): _DenseLayer(\n",
      "        (norm.1): BatchNorm2d(960, eps=1e-05, momentum=0.1, affine=True)\n",
      "        (relu.1): ReLU(inplace)\n",
      "        (conv.1): Conv2d (960, 128, kernel_size=(1, 1), stride=(1, 1), bias=False)\n",
      "        (norm.2): BatchNorm2d(128, eps=1e-05, momentum=0.1, affine=True)\n",
      "        (relu.2): ReLU(inplace)\n",
      "        (conv.2): Conv2d (128, 32, kernel_size=(3, 3), stride=(1, 1), padding=(1, 1), bias=False)\n",
      "      )\n",
      "      (denselayer24): _DenseLayer(\n",
      "        (norm.1): BatchNorm2d(992, eps=1e-05, momentum=0.1, affine=True)\n",
      "        (relu.1): ReLU(inplace)\n",
      "        (conv.1): Conv2d (992, 128, kernel_size=(1, 1), stride=(1, 1), bias=False)\n",
      "        (norm.2): BatchNorm2d(128, eps=1e-05, momentum=0.1, affine=True)\n",
      "        (relu.2): ReLU(inplace)\n",
      "        (conv.2): Conv2d (128, 32, kernel_size=(3, 3), stride=(1, 1), padding=(1, 1), bias=False)\n",
      "      )\n",
      "    )\n",
      "    (transition3): _Transition(\n",
      "      (norm): BatchNorm2d(1024, eps=1e-05, momentum=0.1, affine=True)\n",
      "      (relu): ReLU(inplace)\n",
      "      (conv): Conv2d (1024, 512, kernel_size=(1, 1), stride=(1, 1), bias=False)\n",
      "      (pool): AvgPool2d(kernel_size=2, stride=2, padding=0, ceil_mode=False, count_include_pad=True)\n",
      "    )\n",
      "    (denseblock4): _DenseBlock(\n",
      "      (denselayer1): _DenseLayer(\n",
      "        (norm.1): BatchNorm2d(512, eps=1e-05, momentum=0.1, affine=True)\n",
      "        (relu.1): ReLU(inplace)\n",
      "        (conv.1): Conv2d (512, 128, kernel_size=(1, 1), stride=(1, 1), bias=False)\n",
      "        (norm.2): BatchNorm2d(128, eps=1e-05, momentum=0.1, affine=True)\n",
      "        (relu.2): ReLU(inplace)\n",
      "        (conv.2): Conv2d (128, 32, kernel_size=(3, 3), stride=(1, 1), padding=(1, 1), bias=False)\n",
      "      )\n",
      "      (denselayer2): _DenseLayer(\n",
      "        (norm.1): BatchNorm2d(544, eps=1e-05, momentum=0.1, affine=True)\n",
      "        (relu.1): ReLU(inplace)\n",
      "        (conv.1): Conv2d (544, 128, kernel_size=(1, 1), stride=(1, 1), bias=False)\n",
      "        (norm.2): BatchNorm2d(128, eps=1e-05, momentum=0.1, affine=True)\n",
      "        (relu.2): ReLU(inplace)\n",
      "        (conv.2): Conv2d (128, 32, kernel_size=(3, 3), stride=(1, 1), padding=(1, 1), bias=False)\n",
      "      )\n",
      "      (denselayer3): _DenseLayer(\n",
      "        (norm.1): BatchNorm2d(576, eps=1e-05, momentum=0.1, affine=True)\n",
      "        (relu.1): ReLU(inplace)\n",
      "        (conv.1): Conv2d (576, 128, kernel_size=(1, 1), stride=(1, 1), bias=False)\n",
      "        (norm.2): BatchNorm2d(128, eps=1e-05, momentum=0.1, affine=True)\n",
      "        (relu.2): ReLU(inplace)\n",
      "        (conv.2): Conv2d (128, 32, kernel_size=(3, 3), stride=(1, 1), padding=(1, 1), bias=False)\n",
      "      )\n",
      "      (denselayer4): _DenseLayer(\n",
      "        (norm.1): BatchNorm2d(608, eps=1e-05, momentum=0.1, affine=True)\n",
      "        (relu.1): ReLU(inplace)\n",
      "        (conv.1): Conv2d (608, 128, kernel_size=(1, 1), stride=(1, 1), bias=False)\n",
      "        (norm.2): BatchNorm2d(128, eps=1e-05, momentum=0.1, affine=True)\n",
      "        (relu.2): ReLU(inplace)\n",
      "        (conv.2): Conv2d (128, 32, kernel_size=(3, 3), stride=(1, 1), padding=(1, 1), bias=False)\n",
      "      )\n",
      "      (denselayer5): _DenseLayer(\n",
      "        (norm.1): BatchNorm2d(640, eps=1e-05, momentum=0.1, affine=True)\n",
      "        (relu.1): ReLU(inplace)\n",
      "        (conv.1): Conv2d (640, 128, kernel_size=(1, 1), stride=(1, 1), bias=False)\n",
      "        (norm.2): BatchNorm2d(128, eps=1e-05, momentum=0.1, affine=True)\n",
      "        (relu.2): ReLU(inplace)\n",
      "        (conv.2): Conv2d (128, 32, kernel_size=(3, 3), stride=(1, 1), padding=(1, 1), bias=False)\n",
      "      )\n",
      "      (denselayer6): _DenseLayer(\n",
      "        (norm.1): BatchNorm2d(672, eps=1e-05, momentum=0.1, affine=True)\n",
      "        (relu.1): ReLU(inplace)\n",
      "        (conv.1): Conv2d (672, 128, kernel_size=(1, 1), stride=(1, 1), bias=False)\n",
      "        (norm.2): BatchNorm2d(128, eps=1e-05, momentum=0.1, affine=True)\n",
      "        (relu.2): ReLU(inplace)\n",
      "        (conv.2): Conv2d (128, 32, kernel_size=(3, 3), stride=(1, 1), padding=(1, 1), bias=False)\n",
      "      )\n",
      "      (denselayer7): _DenseLayer(\n",
      "        (norm.1): BatchNorm2d(704, eps=1e-05, momentum=0.1, affine=True)\n",
      "        (relu.1): ReLU(inplace)\n",
      "        (conv.1): Conv2d (704, 128, kernel_size=(1, 1), stride=(1, 1), bias=False)\n",
      "        (norm.2): BatchNorm2d(128, eps=1e-05, momentum=0.1, affine=True)\n",
      "        (relu.2): ReLU(inplace)\n",
      "        (conv.2): Conv2d (128, 32, kernel_size=(3, 3), stride=(1, 1), padding=(1, 1), bias=False)\n",
      "      )\n",
      "      (denselayer8): _DenseLayer(\n",
      "        (norm.1): BatchNorm2d(736, eps=1e-05, momentum=0.1, affine=True)\n",
      "        (relu.1): ReLU(inplace)\n",
      "        (conv.1): Conv2d (736, 128, kernel_size=(1, 1), stride=(1, 1), bias=False)\n",
      "        (norm.2): BatchNorm2d(128, eps=1e-05, momentum=0.1, affine=True)\n",
      "        (relu.2): ReLU(inplace)\n",
      "        (conv.2): Conv2d (128, 32, kernel_size=(3, 3), stride=(1, 1), padding=(1, 1), bias=False)\n",
      "      )\n",
      "      (denselayer9): _DenseLayer(\n",
      "        (norm.1): BatchNorm2d(768, eps=1e-05, momentum=0.1, affine=True)\n",
      "        (relu.1): ReLU(inplace)\n",
      "        (conv.1): Conv2d (768, 128, kernel_size=(1, 1), stride=(1, 1), bias=False)\n",
      "        (norm.2): BatchNorm2d(128, eps=1e-05, momentum=0.1, affine=True)\n",
      "        (relu.2): ReLU(inplace)\n",
      "        (conv.2): Conv2d (128, 32, kernel_size=(3, 3), stride=(1, 1), padding=(1, 1), bias=False)\n",
      "      )\n",
      "      (denselayer10): _DenseLayer(\n",
      "        (norm.1): BatchNorm2d(800, eps=1e-05, momentum=0.1, affine=True)\n",
      "        (relu.1): ReLU(inplace)\n",
      "        (conv.1): Conv2d (800, 128, kernel_size=(1, 1), stride=(1, 1), bias=False)\n",
      "        (norm.2): BatchNorm2d(128, eps=1e-05, momentum=0.1, affine=True)\n",
      "        (relu.2): ReLU(inplace)\n",
      "        (conv.2): Conv2d (128, 32, kernel_size=(3, 3), stride=(1, 1), padding=(1, 1), bias=False)\n",
      "      )\n",
      "      (denselayer11): _DenseLayer(\n",
      "        (norm.1): BatchNorm2d(832, eps=1e-05, momentum=0.1, affine=True)\n",
      "        (relu.1): ReLU(inplace)\n",
      "        (conv.1): Conv2d (832, 128, kernel_size=(1, 1), stride=(1, 1), bias=False)\n",
      "        (norm.2): BatchNorm2d(128, eps=1e-05, momentum=0.1, affine=True)\n",
      "        (relu.2): ReLU(inplace)\n",
      "        (conv.2): Conv2d (128, 32, kernel_size=(3, 3), stride=(1, 1), padding=(1, 1), bias=False)\n",
      "      )\n",
      "      (denselayer12): _DenseLayer(\n",
      "        (norm.1): BatchNorm2d(864, eps=1e-05, momentum=0.1, affine=True)\n",
      "        (relu.1): ReLU(inplace)\n",
      "        (conv.1): Conv2d (864, 128, kernel_size=(1, 1), stride=(1, 1), bias=False)\n",
      "        (norm.2): BatchNorm2d(128, eps=1e-05, momentum=0.1, affine=True)\n",
      "        (relu.2): ReLU(inplace)\n",
      "        (conv.2): Conv2d (128, 32, kernel_size=(3, 3), stride=(1, 1), padding=(1, 1), bias=False)\n",
      "      )\n",
      "      (denselayer13): _DenseLayer(\n",
      "        (norm.1): BatchNorm2d(896, eps=1e-05, momentum=0.1, affine=True)\n",
      "        (relu.1): ReLU(inplace)\n",
      "        (conv.1): Conv2d (896, 128, kernel_size=(1, 1), stride=(1, 1), bias=False)\n",
      "        (norm.2): BatchNorm2d(128, eps=1e-05, momentum=0.1, affine=True)\n",
      "        (relu.2): ReLU(inplace)\n",
      "        (conv.2): Conv2d (128, 32, kernel_size=(3, 3), stride=(1, 1), padding=(1, 1), bias=False)\n",
      "      )\n",
      "      (denselayer14): _DenseLayer(\n",
      "        (norm.1): BatchNorm2d(928, eps=1e-05, momentum=0.1, affine=True)\n",
      "        (relu.1): ReLU(inplace)\n",
      "        (conv.1): Conv2d (928, 128, kernel_size=(1, 1), stride=(1, 1), bias=False)\n",
      "        (norm.2): BatchNorm2d(128, eps=1e-05, momentum=0.1, affine=True)\n",
      "        (relu.2): ReLU(inplace)\n",
      "        (conv.2): Conv2d (128, 32, kernel_size=(3, 3), stride=(1, 1), padding=(1, 1), bias=False)\n",
      "      )\n",
      "      (denselayer15): _DenseLayer(\n",
      "        (norm.1): BatchNorm2d(960, eps=1e-05, momentum=0.1, affine=True)\n",
      "        (relu.1): ReLU(inplace)\n",
      "        (conv.1): Conv2d (960, 128, kernel_size=(1, 1), stride=(1, 1), bias=False)\n",
      "        (norm.2): BatchNorm2d(128, eps=1e-05, momentum=0.1, affine=True)\n",
      "        (relu.2): ReLU(inplace)\n",
      "        (conv.2): Conv2d (128, 32, kernel_size=(3, 3), stride=(1, 1), padding=(1, 1), bias=False)\n",
      "      )\n",
      "      (denselayer16): _DenseLayer(\n",
      "        (norm.1): BatchNorm2d(992, eps=1e-05, momentum=0.1, affine=True)\n",
      "        (relu.1): ReLU(inplace)\n",
      "        (conv.1): Conv2d (992, 128, kernel_size=(1, 1), stride=(1, 1), bias=False)\n",
      "        (norm.2): BatchNorm2d(128, eps=1e-05, momentum=0.1, affine=True)\n",
      "        (relu.2): ReLU(inplace)\n",
      "        (conv.2): Conv2d (128, 32, kernel_size=(3, 3), stride=(1, 1), padding=(1, 1), bias=False)\n",
      "      )\n",
      "    )\n",
      "    (norm5): BatchNorm2d(1024, eps=1e-05, momentum=0.1, affine=True)\n",
      "  )\n",
      "  (classifier): Linear(in_features=1024, out_features=1000)\n",
      ")\n"
     ]
    }
   ],
   "source": [
    "densenet121 = models.densenet121(pretrained=True)\n",
    "print(densenet121)"
   ]
  },
  {
   "cell_type": "code",
   "execution_count": 10,
   "metadata": {
    "slideshow": {
     "slide_type": "fragment"
    }
   },
   "outputs": [
    {
     "name": "stdout",
     "output_type": "stream",
     "text": [
      "[Conv2d (3, 64, kernel_size=(7, 7), stride=(2, 2), padding=(3, 3), bias=False), BatchNorm2d(64, eps=1e-05, momentum=0.1, affine=True), ReLU(inplace), MaxPool2d(kernel_size=(3, 3), stride=(2, 2), padding=(1, 1), dilation=(1, 1))]\n"
     ]
    }
   ],
   "source": [
    "print(list(densenet121.features.children())[0:4])"
   ]
  },
  {
   "cell_type": "code",
   "execution_count": 11,
   "metadata": {
    "collapsed": true,
    "slideshow": {
     "slide_type": "-"
    }
   },
   "outputs": [],
   "source": [
    "def train_model(model, criterion, optimizer, num_epochs=8):\n",
    "    since = time.time()\n",
    "\n",
    "    best_model_wts = model.state_dict()\n",
    "    best_acc = 0.9568\n",
    "\n",
    "    for epoch in range(num_epochs):\n",
    "        print('Epoch {}/{}'.format(epoch, num_epochs - 1))\n",
    "        print('-' * 10)\n",
    "\n",
    "        model.train(True)\n",
    "        running_loss = 0.0\n",
    "        running_acc = 0.0\n",
    "        # Iterate over data.\n",
    "        for i, data in tqdm_notebook(enumerate(train_dataloader), total=2001):\n",
    "            if(i == 2000):\n",
    "                break\n",
    "            # get the inputs\n",
    "            inputs, labels = data[0], data[1]\n",
    "            # wrap them in Variable\n",
    "            if USE_GPU:\n",
    "                inputs = Variable(inputs.cuda())\n",
    "                labels = Variable(labels.cuda())\n",
    "            else:\n",
    "                inputs, labels = Variable(inputs), Variable(labels)\n",
    "\n",
    "            # zero the parameter gradients\n",
    "            optimizer.zero_grad()\n",
    "\n",
    "            # forward\n",
    "            outputs = model(inputs)\n",
    "            predict = outputs.data > 0.5\n",
    "            loss = criterion(outputs, labels)\n",
    "\n",
    "            loss.backward()\n",
    "            optimizer.step()\n",
    "\n",
    "            # statistics\n",
    "            running_loss += loss.data[0]\n",
    "            running_acc += (torch.sum(predict.int() == labels.data.int())/(4*512*512))\n",
    "        epoch_loss = running_loss / 2000\n",
    "        epoch_acc = running_acc / 2000\n",
    "        print('{} Loss: {:.4f}, Acc: {:.4f}'.format('train', epoch_loss, epoch_acc))\n",
    "#         if epoch_acc > best_acc:\n",
    "#             best_acc = epoch_acc\n",
    "#             best_model_wts = model.state_dict()\n",
    "        \n",
    "        model.eval()\n",
    "        running_loss = 0.0\n",
    "        running_acc = 0.0\n",
    "        # Iterate over data.\n",
    "        for i, data in enumerate(val_dataloader):\n",
    "            # get the inputs\n",
    "            inputs, labels = data[0], data[1]\n",
    "            # wrap them in Variable\n",
    "            if USE_GPU:\n",
    "                inputs = Variable(inputs.cuda(), volatile=True)\n",
    "                labels = Variable(labels.cuda(), volatile=True)\n",
    "            else:\n",
    "                inputs, labels = Variable(inputs, volatile=True), Variable(labels, volatile=True)\n",
    "\n",
    "            # zero the parameter gradients\n",
    "            optimizer.zero_grad()\n",
    "\n",
    "            # forward\n",
    "            outputs = model(inputs)\n",
    "            predict = outputs.data > 0.5\n",
    "            loss = criterion(outputs, labels)\n",
    "\n",
    "            # statistics\n",
    "            running_loss += loss.data[0]\n",
    "            running_acc += torch.sum(predict.int() == labels.data.int())/(4*512*512)\n",
    "        epoch_loss = running_loss / len(val_dataloader)\n",
    "        epoch_acc = running_acc / len(val_dataloader)\n",
    "        if epoch_acc > best_acc:\n",
    "            best_acc = epoch_acc\n",
    "            best_model_wts = model.state_dict()\n",
    "            torch.save(model, './temp.pt')\n",
    "        print('{} Loss: {:.4f}, Acc: {:.4f}'.format('val', epoch_loss, epoch_acc))\n",
    "\n",
    "        print()\n",
    "\n",
    "    time_elapsed = time.time() - since\n",
    "    print('Training complete in {:.0f}m {:.0f}s'.format(\n",
    "        time_elapsed // 60, time_elapsed % 60))\n",
    "\n",
    "    # load best model weights\n",
    "    model.load_state_dict(best_model_wts)\n",
    "    return model, best_acc"
   ]
  },
  {
   "cell_type": "markdown",
   "metadata": {},
   "source": [
    "---\n",
    "# Training"
   ]
  },
  {
   "cell_type": "code",
   "execution_count": 12,
   "metadata": {
    "slideshow": {
     "slide_type": "-"
    }
   },
   "outputs": [
    {
     "name": "stdout",
     "output_type": "stream",
     "text": [
      "PSPNet(\n",
      "  (feature1): Sequential(\n",
      "    (0): Conv2d (3, 64, kernel_size=(7, 7), stride=(2, 2), padding=(3, 3), bias=False)\n",
      "    (1): BatchNorm2d(64, eps=1e-05, momentum=0.1, affine=True)\n",
      "    (2): ReLU(inplace)\n",
      "    (3): MaxPool2d(kernel_size=(3, 3), stride=(2, 2), padding=(1, 1), dilation=(1, 1))\n",
      "  )\n",
      "  (feature2): Sequential(\n",
      "    (0): _DenseBlock(\n",
      "      (denselayer1): _DenseLayer(\n",
      "        (norm.1): BatchNorm2d(64, eps=1e-05, momentum=0.1, affine=True)\n",
      "        (relu.1): ReLU(inplace)\n",
      "        (conv.1): Conv2d (64, 128, kernel_size=(1, 1), stride=(1, 1), bias=False)\n",
      "        (norm.2): BatchNorm2d(128, eps=1e-05, momentum=0.1, affine=True)\n",
      "        (relu.2): ReLU(inplace)\n",
      "        (conv.2): Conv2d (128, 32, kernel_size=(3, 3), stride=(1, 1), padding=(1, 1), bias=False)\n",
      "      )\n",
      "      (denselayer2): _DenseLayer(\n",
      "        (norm.1): BatchNorm2d(96, eps=1e-05, momentum=0.1, affine=True)\n",
      "        (relu.1): ReLU(inplace)\n",
      "        (conv.1): Conv2d (96, 128, kernel_size=(1, 1), stride=(1, 1), bias=False)\n",
      "        (norm.2): BatchNorm2d(128, eps=1e-05, momentum=0.1, affine=True)\n",
      "        (relu.2): ReLU(inplace)\n",
      "        (conv.2): Conv2d (128, 32, kernel_size=(3, 3), stride=(1, 1), padding=(1, 1), bias=False)\n",
      "      )\n",
      "      (denselayer3): _DenseLayer(\n",
      "        (norm.1): BatchNorm2d(128, eps=1e-05, momentum=0.1, affine=True)\n",
      "        (relu.1): ReLU(inplace)\n",
      "        (conv.1): Conv2d (128, 128, kernel_size=(1, 1), stride=(1, 1), bias=False)\n",
      "        (norm.2): BatchNorm2d(128, eps=1e-05, momentum=0.1, affine=True)\n",
      "        (relu.2): ReLU(inplace)\n",
      "        (conv.2): Conv2d (128, 32, kernel_size=(3, 3), stride=(1, 1), padding=(1, 1), bias=False)\n",
      "      )\n",
      "      (denselayer4): _DenseLayer(\n",
      "        (norm.1): BatchNorm2d(160, eps=1e-05, momentum=0.1, affine=True)\n",
      "        (relu.1): ReLU(inplace)\n",
      "        (conv.1): Conv2d (160, 128, kernel_size=(1, 1), stride=(1, 1), bias=False)\n",
      "        (norm.2): BatchNorm2d(128, eps=1e-05, momentum=0.1, affine=True)\n",
      "        (relu.2): ReLU(inplace)\n",
      "        (conv.2): Conv2d (128, 32, kernel_size=(3, 3), stride=(1, 1), padding=(1, 1), bias=False)\n",
      "      )\n",
      "      (denselayer5): _DenseLayer(\n",
      "        (norm.1): BatchNorm2d(192, eps=1e-05, momentum=0.1, affine=True)\n",
      "        (relu.1): ReLU(inplace)\n",
      "        (conv.1): Conv2d (192, 128, kernel_size=(1, 1), stride=(1, 1), bias=False)\n",
      "        (norm.2): BatchNorm2d(128, eps=1e-05, momentum=0.1, affine=True)\n",
      "        (relu.2): ReLU(inplace)\n",
      "        (conv.2): Conv2d (128, 32, kernel_size=(3, 3), stride=(1, 1), padding=(1, 1), bias=False)\n",
      "      )\n",
      "      (denselayer6): _DenseLayer(\n",
      "        (norm.1): BatchNorm2d(224, eps=1e-05, momentum=0.1, affine=True)\n",
      "        (relu.1): ReLU(inplace)\n",
      "        (conv.1): Conv2d (224, 128, kernel_size=(1, 1), stride=(1, 1), bias=False)\n",
      "        (norm.2): BatchNorm2d(128, eps=1e-05, momentum=0.1, affine=True)\n",
      "        (relu.2): ReLU(inplace)\n",
      "        (conv.2): Conv2d (128, 32, kernel_size=(3, 3), stride=(1, 1), padding=(1, 1), bias=False)\n",
      "      )\n",
      "    )\n",
      "    (1): _Transition(\n",
      "      (norm): BatchNorm2d(256, eps=1e-05, momentum=0.1, affine=True)\n",
      "      (relu): ReLU(inplace)\n",
      "      (conv): Conv2d (256, 128, kernel_size=(1, 1), stride=(1, 1), bias=False)\n",
      "      (pool): AvgPool2d(kernel_size=2, stride=2, padding=0, ceil_mode=False, count_include_pad=True)\n",
      "    )\n",
      "  )\n",
      "  (feature3): Sequential(\n",
      "    (0): _DenseBlock(\n",
      "      (denselayer1): _DenseLayer(\n",
      "        (norm.1): BatchNorm2d(128, eps=1e-05, momentum=0.1, affine=True)\n",
      "        (relu.1): ReLU(inplace)\n",
      "        (conv.1): Conv2d (128, 128, kernel_size=(1, 1), stride=(1, 1), bias=False)\n",
      "        (norm.2): BatchNorm2d(128, eps=1e-05, momentum=0.1, affine=True)\n",
      "        (relu.2): ReLU(inplace)\n",
      "        (conv.2): Conv2d (128, 32, kernel_size=(3, 3), stride=(1, 1), padding=(1, 1), bias=False)\n",
      "      )\n",
      "      (denselayer2): _DenseLayer(\n",
      "        (norm.1): BatchNorm2d(160, eps=1e-05, momentum=0.1, affine=True)\n",
      "        (relu.1): ReLU(inplace)\n",
      "        (conv.1): Conv2d (160, 128, kernel_size=(1, 1), stride=(1, 1), bias=False)\n",
      "        (norm.2): BatchNorm2d(128, eps=1e-05, momentum=0.1, affine=True)\n",
      "        (relu.2): ReLU(inplace)\n",
      "        (conv.2): Conv2d (128, 32, kernel_size=(3, 3), stride=(1, 1), padding=(1, 1), bias=False)\n",
      "      )\n",
      "      (denselayer3): _DenseLayer(\n",
      "        (norm.1): BatchNorm2d(192, eps=1e-05, momentum=0.1, affine=True)\n",
      "        (relu.1): ReLU(inplace)\n",
      "        (conv.1): Conv2d (192, 128, kernel_size=(1, 1), stride=(1, 1), bias=False)\n",
      "        (norm.2): BatchNorm2d(128, eps=1e-05, momentum=0.1, affine=True)\n",
      "        (relu.2): ReLU(inplace)\n",
      "        (conv.2): Conv2d (128, 32, kernel_size=(3, 3), stride=(1, 1), padding=(1, 1), bias=False)\n",
      "      )\n",
      "      (denselayer4): _DenseLayer(\n",
      "        (norm.1): BatchNorm2d(224, eps=1e-05, momentum=0.1, affine=True)\n",
      "        (relu.1): ReLU(inplace)\n",
      "        (conv.1): Conv2d (224, 128, kernel_size=(1, 1), stride=(1, 1), bias=False)\n",
      "        (norm.2): BatchNorm2d(128, eps=1e-05, momentum=0.1, affine=True)\n",
      "        (relu.2): ReLU(inplace)\n",
      "        (conv.2): Conv2d (128, 32, kernel_size=(3, 3), stride=(1, 1), padding=(1, 1), bias=False)\n",
      "      )\n",
      "      (denselayer5): _DenseLayer(\n",
      "        (norm.1): BatchNorm2d(256, eps=1e-05, momentum=0.1, affine=True)\n",
      "        (relu.1): ReLU(inplace)\n",
      "        (conv.1): Conv2d (256, 128, kernel_size=(1, 1), stride=(1, 1), bias=False)\n",
      "        (norm.2): BatchNorm2d(128, eps=1e-05, momentum=0.1, affine=True)\n",
      "        (relu.2): ReLU(inplace)\n",
      "        (conv.2): Conv2d (128, 32, kernel_size=(3, 3), stride=(1, 1), padding=(1, 1), bias=False)\n",
      "      )\n",
      "      (denselayer6): _DenseLayer(\n",
      "        (norm.1): BatchNorm2d(288, eps=1e-05, momentum=0.1, affine=True)\n",
      "        (relu.1): ReLU(inplace)\n",
      "        (conv.1): Conv2d (288, 128, kernel_size=(1, 1), stride=(1, 1), bias=False)\n",
      "        (norm.2): BatchNorm2d(128, eps=1e-05, momentum=0.1, affine=True)\n",
      "        (relu.2): ReLU(inplace)\n",
      "        (conv.2): Conv2d (128, 32, kernel_size=(3, 3), stride=(1, 1), padding=(1, 1), bias=False)\n",
      "      )\n",
      "      (denselayer7): _DenseLayer(\n",
      "        (norm.1): BatchNorm2d(320, eps=1e-05, momentum=0.1, affine=True)\n",
      "        (relu.1): ReLU(inplace)\n",
      "        (conv.1): Conv2d (320, 128, kernel_size=(1, 1), stride=(1, 1), bias=False)\n",
      "        (norm.2): BatchNorm2d(128, eps=1e-05, momentum=0.1, affine=True)\n",
      "        (relu.2): ReLU(inplace)\n",
      "        (conv.2): Conv2d (128, 32, kernel_size=(3, 3), stride=(1, 1), padding=(1, 1), bias=False)\n",
      "      )\n",
      "      (denselayer8): _DenseLayer(\n",
      "        (norm.1): BatchNorm2d(352, eps=1e-05, momentum=0.1, affine=True)\n",
      "        (relu.1): ReLU(inplace)\n",
      "        (conv.1): Conv2d (352, 128, kernel_size=(1, 1), stride=(1, 1), bias=False)\n",
      "        (norm.2): BatchNorm2d(128, eps=1e-05, momentum=0.1, affine=True)\n",
      "        (relu.2): ReLU(inplace)\n",
      "        (conv.2): Conv2d (128, 32, kernel_size=(3, 3), stride=(1, 1), padding=(1, 1), bias=False)\n",
      "      )\n",
      "      (denselayer9): _DenseLayer(\n",
      "        (norm.1): BatchNorm2d(384, eps=1e-05, momentum=0.1, affine=True)\n",
      "        (relu.1): ReLU(inplace)\n",
      "        (conv.1): Conv2d (384, 128, kernel_size=(1, 1), stride=(1, 1), bias=False)\n",
      "        (norm.2): BatchNorm2d(128, eps=1e-05, momentum=0.1, affine=True)\n",
      "        (relu.2): ReLU(inplace)\n",
      "        (conv.2): Conv2d (128, 32, kernel_size=(3, 3), stride=(1, 1), padding=(1, 1), bias=False)\n",
      "      )\n",
      "      (denselayer10): _DenseLayer(\n",
      "        (norm.1): BatchNorm2d(416, eps=1e-05, momentum=0.1, affine=True)\n",
      "        (relu.1): ReLU(inplace)\n",
      "        (conv.1): Conv2d (416, 128, kernel_size=(1, 1), stride=(1, 1), bias=False)\n",
      "        (norm.2): BatchNorm2d(128, eps=1e-05, momentum=0.1, affine=True)\n",
      "        (relu.2): ReLU(inplace)\n",
      "        (conv.2): Conv2d (128, 32, kernel_size=(3, 3), stride=(1, 1), padding=(1, 1), bias=False)\n",
      "      )\n",
      "      (denselayer11): _DenseLayer(\n",
      "        (norm.1): BatchNorm2d(448, eps=1e-05, momentum=0.1, affine=True)\n",
      "        (relu.1): ReLU(inplace)\n",
      "        (conv.1): Conv2d (448, 128, kernel_size=(1, 1), stride=(1, 1), bias=False)\n",
      "        (norm.2): BatchNorm2d(128, eps=1e-05, momentum=0.1, affine=True)\n",
      "        (relu.2): ReLU(inplace)\n",
      "        (conv.2): Conv2d (128, 32, kernel_size=(3, 3), stride=(1, 1), padding=(1, 1), bias=False)\n",
      "      )\n",
      "      (denselayer12): _DenseLayer(\n",
      "        (norm.1): BatchNorm2d(480, eps=1e-05, momentum=0.1, affine=True)\n",
      "        (relu.1): ReLU(inplace)\n",
      "        (conv.1): Conv2d (480, 128, kernel_size=(1, 1), stride=(1, 1), bias=False)\n",
      "        (norm.2): BatchNorm2d(128, eps=1e-05, momentum=0.1, affine=True)\n",
      "        (relu.2): ReLU(inplace)\n",
      "        (conv.2): Conv2d (128, 32, kernel_size=(3, 3), stride=(1, 1), padding=(1, 1), bias=False)\n",
      "      )\n",
      "    )\n",
      "    (1): _Transition(\n",
      "      (norm): BatchNorm2d(512, eps=1e-05, momentum=0.1, affine=True)\n",
      "      (relu): ReLU(inplace)\n",
      "      (conv): Conv2d (512, 256, kernel_size=(1, 1), stride=(1, 1), bias=False)\n",
      "      (pool): AvgPool2d(kernel_size=2, stride=2, padding=0, ceil_mode=False, count_include_pad=True)\n",
      "    )\n",
      "  )\n",
      "  (feature4): Sequential(\n",
      "    (0): _DenseBlock(\n",
      "      (denselayer1): _DenseLayer(\n",
      "        (norm.1): BatchNorm2d(256, eps=1e-05, momentum=0.1, affine=True)\n",
      "        (relu.1): ReLU(inplace)\n",
      "        (conv.1): Conv2d (256, 128, kernel_size=(1, 1), stride=(1, 1), bias=False)\n",
      "        (norm.2): BatchNorm2d(128, eps=1e-05, momentum=0.1, affine=True)\n",
      "        (relu.2): ReLU(inplace)\n",
      "        (conv.2): Conv2d (128, 32, kernel_size=(3, 3), stride=(1, 1), padding=(1, 1), bias=False)\n",
      "      )\n",
      "      (denselayer2): _DenseLayer(\n",
      "        (norm.1): BatchNorm2d(288, eps=1e-05, momentum=0.1, affine=True)\n",
      "        (relu.1): ReLU(inplace)\n",
      "        (conv.1): Conv2d (288, 128, kernel_size=(1, 1), stride=(1, 1), bias=False)\n",
      "        (norm.2): BatchNorm2d(128, eps=1e-05, momentum=0.1, affine=True)\n",
      "        (relu.2): ReLU(inplace)\n",
      "        (conv.2): Conv2d (128, 32, kernel_size=(3, 3), stride=(1, 1), padding=(1, 1), bias=False)\n",
      "      )\n",
      "      (denselayer3): _DenseLayer(\n",
      "        (norm.1): BatchNorm2d(320, eps=1e-05, momentum=0.1, affine=True)\n",
      "        (relu.1): ReLU(inplace)\n",
      "        (conv.1): Conv2d (320, 128, kernel_size=(1, 1), stride=(1, 1), bias=False)\n",
      "        (norm.2): BatchNorm2d(128, eps=1e-05, momentum=0.1, affine=True)\n",
      "        (relu.2): ReLU(inplace)\n",
      "        (conv.2): Conv2d (128, 32, kernel_size=(3, 3), stride=(1, 1), padding=(1, 1), bias=False)\n",
      "      )\n",
      "      (denselayer4): _DenseLayer(\n",
      "        (norm.1): BatchNorm2d(352, eps=1e-05, momentum=0.1, affine=True)\n",
      "        (relu.1): ReLU(inplace)\n",
      "        (conv.1): Conv2d (352, 128, kernel_size=(1, 1), stride=(1, 1), bias=False)\n",
      "        (norm.2): BatchNorm2d(128, eps=1e-05, momentum=0.1, affine=True)\n",
      "        (relu.2): ReLU(inplace)\n",
      "        (conv.2): Conv2d (128, 32, kernel_size=(3, 3), stride=(1, 1), padding=(1, 1), bias=False)\n",
      "      )\n",
      "      (denselayer5): _DenseLayer(\n",
      "        (norm.1): BatchNorm2d(384, eps=1e-05, momentum=0.1, affine=True)\n",
      "        (relu.1): ReLU(inplace)\n",
      "        (conv.1): Conv2d (384, 128, kernel_size=(1, 1), stride=(1, 1), bias=False)\n",
      "        (norm.2): BatchNorm2d(128, eps=1e-05, momentum=0.1, affine=True)\n",
      "        (relu.2): ReLU(inplace)\n",
      "        (conv.2): Conv2d (128, 32, kernel_size=(3, 3), stride=(1, 1), padding=(1, 1), bias=False)\n",
      "      )\n",
      "      (denselayer6): _DenseLayer(\n",
      "        (norm.1): BatchNorm2d(416, eps=1e-05, momentum=0.1, affine=True)\n",
      "        (relu.1): ReLU(inplace)\n",
      "        (conv.1): Conv2d (416, 128, kernel_size=(1, 1), stride=(1, 1), bias=False)\n",
      "        (norm.2): BatchNorm2d(128, eps=1e-05, momentum=0.1, affine=True)\n",
      "        (relu.2): ReLU(inplace)\n",
      "        (conv.2): Conv2d (128, 32, kernel_size=(3, 3), stride=(1, 1), padding=(1, 1), bias=False)\n",
      "      )\n",
      "      (denselayer7): _DenseLayer(\n",
      "        (norm.1): BatchNorm2d(448, eps=1e-05, momentum=0.1, affine=True)\n",
      "        (relu.1): ReLU(inplace)\n",
      "        (conv.1): Conv2d (448, 128, kernel_size=(1, 1), stride=(1, 1), bias=False)\n",
      "        (norm.2): BatchNorm2d(128, eps=1e-05, momentum=0.1, affine=True)\n",
      "        (relu.2): ReLU(inplace)\n",
      "        (conv.2): Conv2d (128, 32, kernel_size=(3, 3), stride=(1, 1), padding=(1, 1), bias=False)\n",
      "      )\n",
      "      (denselayer8): _DenseLayer(\n",
      "        (norm.1): BatchNorm2d(480, eps=1e-05, momentum=0.1, affine=True)\n",
      "        (relu.1): ReLU(inplace)\n",
      "        (conv.1): Conv2d (480, 128, kernel_size=(1, 1), stride=(1, 1), bias=False)\n",
      "        (norm.2): BatchNorm2d(128, eps=1e-05, momentum=0.1, affine=True)\n",
      "        (relu.2): ReLU(inplace)\n",
      "        (conv.2): Conv2d (128, 32, kernel_size=(3, 3), stride=(1, 1), padding=(1, 1), bias=False)\n",
      "      )\n",
      "      (denselayer9): _DenseLayer(\n",
      "        (norm.1): BatchNorm2d(512, eps=1e-05, momentum=0.1, affine=True)\n",
      "        (relu.1): ReLU(inplace)\n",
      "        (conv.1): Conv2d (512, 128, kernel_size=(1, 1), stride=(1, 1), bias=False)\n",
      "        (norm.2): BatchNorm2d(128, eps=1e-05, momentum=0.1, affine=True)\n",
      "        (relu.2): ReLU(inplace)\n",
      "        (conv.2): Conv2d (128, 32, kernel_size=(3, 3), stride=(1, 1), padding=(1, 1), bias=False)\n",
      "      )\n",
      "      (denselayer10): _DenseLayer(\n",
      "        (norm.1): BatchNorm2d(544, eps=1e-05, momentum=0.1, affine=True)\n",
      "        (relu.1): ReLU(inplace)\n",
      "        (conv.1): Conv2d (544, 128, kernel_size=(1, 1), stride=(1, 1), bias=False)\n",
      "        (norm.2): BatchNorm2d(128, eps=1e-05, momentum=0.1, affine=True)\n",
      "        (relu.2): ReLU(inplace)\n",
      "        (conv.2): Conv2d (128, 32, kernel_size=(3, 3), stride=(1, 1), padding=(1, 1), bias=False)\n",
      "      )\n",
      "      (denselayer11): _DenseLayer(\n",
      "        (norm.1): BatchNorm2d(576, eps=1e-05, momentum=0.1, affine=True)\n",
      "        (relu.1): ReLU(inplace)\n",
      "        (conv.1): Conv2d (576, 128, kernel_size=(1, 1), stride=(1, 1), bias=False)\n",
      "        (norm.2): BatchNorm2d(128, eps=1e-05, momentum=0.1, affine=True)\n",
      "        (relu.2): ReLU(inplace)\n",
      "        (conv.2): Conv2d (128, 32, kernel_size=(3, 3), stride=(1, 1), padding=(1, 1), bias=False)\n",
      "      )\n",
      "      (denselayer12): _DenseLayer(\n",
      "        (norm.1): BatchNorm2d(608, eps=1e-05, momentum=0.1, affine=True)\n",
      "        (relu.1): ReLU(inplace)\n",
      "        (conv.1): Conv2d (608, 128, kernel_size=(1, 1), stride=(1, 1), bias=False)\n",
      "        (norm.2): BatchNorm2d(128, eps=1e-05, momentum=0.1, affine=True)\n",
      "        (relu.2): ReLU(inplace)\n",
      "        (conv.2): Conv2d (128, 32, kernel_size=(3, 3), stride=(1, 1), padding=(1, 1), bias=False)\n",
      "      )\n",
      "      (denselayer13): _DenseLayer(\n",
      "        (norm.1): BatchNorm2d(640, eps=1e-05, momentum=0.1, affine=True)\n",
      "        (relu.1): ReLU(inplace)\n",
      "        (conv.1): Conv2d (640, 128, kernel_size=(1, 1), stride=(1, 1), bias=False)\n",
      "        (norm.2): BatchNorm2d(128, eps=1e-05, momentum=0.1, affine=True)\n",
      "        (relu.2): ReLU(inplace)\n",
      "        (conv.2): Conv2d (128, 32, kernel_size=(3, 3), stride=(1, 1), padding=(1, 1), bias=False)\n",
      "      )\n",
      "      (denselayer14): _DenseLayer(\n",
      "        (norm.1): BatchNorm2d(672, eps=1e-05, momentum=0.1, affine=True)\n",
      "        (relu.1): ReLU(inplace)\n",
      "        (conv.1): Conv2d (672, 128, kernel_size=(1, 1), stride=(1, 1), bias=False)\n",
      "        (norm.2): BatchNorm2d(128, eps=1e-05, momentum=0.1, affine=True)\n",
      "        (relu.2): ReLU(inplace)\n",
      "        (conv.2): Conv2d (128, 32, kernel_size=(3, 3), stride=(1, 1), padding=(1, 1), bias=False)\n",
      "      )\n",
      "      (denselayer15): _DenseLayer(\n",
      "        (norm.1): BatchNorm2d(704, eps=1e-05, momentum=0.1, affine=True)\n",
      "        (relu.1): ReLU(inplace)\n",
      "        (conv.1): Conv2d (704, 128, kernel_size=(1, 1), stride=(1, 1), bias=False)\n",
      "        (norm.2): BatchNorm2d(128, eps=1e-05, momentum=0.1, affine=True)\n",
      "        (relu.2): ReLU(inplace)\n",
      "        (conv.2): Conv2d (128, 32, kernel_size=(3, 3), stride=(1, 1), padding=(1, 1), bias=False)\n",
      "      )\n",
      "      (denselayer16): _DenseLayer(\n",
      "        (norm.1): BatchNorm2d(736, eps=1e-05, momentum=0.1, affine=True)\n",
      "        (relu.1): ReLU(inplace)\n",
      "        (conv.1): Conv2d (736, 128, kernel_size=(1, 1), stride=(1, 1), bias=False)\n",
      "        (norm.2): BatchNorm2d(128, eps=1e-05, momentum=0.1, affine=True)\n",
      "        (relu.2): ReLU(inplace)\n",
      "        (conv.2): Conv2d (128, 32, kernel_size=(3, 3), stride=(1, 1), padding=(1, 1), bias=False)\n",
      "      )\n",
      "      (denselayer17): _DenseLayer(\n",
      "        (norm.1): BatchNorm2d(768, eps=1e-05, momentum=0.1, affine=True)\n",
      "        (relu.1): ReLU(inplace)\n",
      "        (conv.1): Conv2d (768, 128, kernel_size=(1, 1), stride=(1, 1), bias=False)\n",
      "        (norm.2): BatchNorm2d(128, eps=1e-05, momentum=0.1, affine=True)\n",
      "        (relu.2): ReLU(inplace)\n",
      "        (conv.2): Conv2d (128, 32, kernel_size=(3, 3), stride=(1, 1), padding=(1, 1), bias=False)\n",
      "      )\n",
      "      (denselayer18): _DenseLayer(\n",
      "        (norm.1): BatchNorm2d(800, eps=1e-05, momentum=0.1, affine=True)\n",
      "        (relu.1): ReLU(inplace)\n",
      "        (conv.1): Conv2d (800, 128, kernel_size=(1, 1), stride=(1, 1), bias=False)\n",
      "        (norm.2): BatchNorm2d(128, eps=1e-05, momentum=0.1, affine=True)\n",
      "        (relu.2): ReLU(inplace)\n",
      "        (conv.2): Conv2d (128, 32, kernel_size=(3, 3), stride=(1, 1), padding=(1, 1), bias=False)\n",
      "      )\n",
      "      (denselayer19): _DenseLayer(\n",
      "        (norm.1): BatchNorm2d(832, eps=1e-05, momentum=0.1, affine=True)\n",
      "        (relu.1): ReLU(inplace)\n",
      "        (conv.1): Conv2d (832, 128, kernel_size=(1, 1), stride=(1, 1), bias=False)\n",
      "        (norm.2): BatchNorm2d(128, eps=1e-05, momentum=0.1, affine=True)\n",
      "        (relu.2): ReLU(inplace)\n",
      "        (conv.2): Conv2d (128, 32, kernel_size=(3, 3), stride=(1, 1), padding=(1, 1), bias=False)\n",
      "      )\n",
      "      (denselayer20): _DenseLayer(\n",
      "        (norm.1): BatchNorm2d(864, eps=1e-05, momentum=0.1, affine=True)\n",
      "        (relu.1): ReLU(inplace)\n",
      "        (conv.1): Conv2d (864, 128, kernel_size=(1, 1), stride=(1, 1), bias=False)\n",
      "        (norm.2): BatchNorm2d(128, eps=1e-05, momentum=0.1, affine=True)\n",
      "        (relu.2): ReLU(inplace)\n",
      "        (conv.2): Conv2d (128, 32, kernel_size=(3, 3), stride=(1, 1), padding=(1, 1), bias=False)\n",
      "      )\n",
      "      (denselayer21): _DenseLayer(\n",
      "        (norm.1): BatchNorm2d(896, eps=1e-05, momentum=0.1, affine=True)\n",
      "        (relu.1): ReLU(inplace)\n",
      "        (conv.1): Conv2d (896, 128, kernel_size=(1, 1), stride=(1, 1), bias=False)\n",
      "        (norm.2): BatchNorm2d(128, eps=1e-05, momentum=0.1, affine=True)\n",
      "        (relu.2): ReLU(inplace)\n",
      "        (conv.2): Conv2d (128, 32, kernel_size=(3, 3), stride=(1, 1), padding=(1, 1), bias=False)\n",
      "      )\n",
      "      (denselayer22): _DenseLayer(\n",
      "        (norm.1): BatchNorm2d(928, eps=1e-05, momentum=0.1, affine=True)\n",
      "        (relu.1): ReLU(inplace)\n",
      "        (conv.1): Conv2d (928, 128, kernel_size=(1, 1), stride=(1, 1), bias=False)\n",
      "        (norm.2): BatchNorm2d(128, eps=1e-05, momentum=0.1, affine=True)\n",
      "        (relu.2): ReLU(inplace)\n",
      "        (conv.2): Conv2d (128, 32, kernel_size=(3, 3), stride=(1, 1), padding=(1, 1), bias=False)\n",
      "      )\n",
      "      (denselayer23): _DenseLayer(\n",
      "        (norm.1): BatchNorm2d(960, eps=1e-05, momentum=0.1, affine=True)\n",
      "        (relu.1): ReLU(inplace)\n",
      "        (conv.1): Conv2d (960, 128, kernel_size=(1, 1), stride=(1, 1), bias=False)\n",
      "        (norm.2): BatchNorm2d(128, eps=1e-05, momentum=0.1, affine=True)\n",
      "        (relu.2): ReLU(inplace)\n",
      "        (conv.2): Conv2d (128, 32, kernel_size=(3, 3), stride=(1, 1), padding=(1, 1), bias=False)\n",
      "      )\n",
      "      (denselayer24): _DenseLayer(\n",
      "        (norm.1): BatchNorm2d(992, eps=1e-05, momentum=0.1, affine=True)\n",
      "        (relu.1): ReLU(inplace)\n",
      "        (conv.1): Conv2d (992, 128, kernel_size=(1, 1), stride=(1, 1), bias=False)\n",
      "        (norm.2): BatchNorm2d(128, eps=1e-05, momentum=0.1, affine=True)\n",
      "        (relu.2): ReLU(inplace)\n",
      "        (conv.2): Conv2d (128, 32, kernel_size=(3, 3), stride=(1, 1), padding=(1, 1), bias=False)\n",
      "      )\n",
      "    )\n",
      "    (1): _Transition(\n",
      "      (norm): BatchNorm2d(1024, eps=1e-05, momentum=0.1, affine=True)\n",
      "      (relu): ReLU(inplace)\n",
      "      (conv): Conv2d (1024, 512, kernel_size=(1, 1), stride=(1, 1), bias=False)\n",
      "      (pool): AvgPool2d(kernel_size=2, stride=2, padding=0, ceil_mode=False, count_include_pad=True)\n",
      "    )\n",
      "  )\n",
      "  (feature5): Sequential(\n",
      "    (0): _DenseBlock(\n",
      "      (denselayer1): _DenseLayer(\n",
      "        (norm.1): BatchNorm2d(512, eps=1e-05, momentum=0.1, affine=True)\n",
      "        (relu.1): ReLU(inplace)\n",
      "        (conv.1): Conv2d (512, 128, kernel_size=(1, 1), stride=(1, 1), bias=False)\n",
      "        (norm.2): BatchNorm2d(128, eps=1e-05, momentum=0.1, affine=True)\n",
      "        (relu.2): ReLU(inplace)\n",
      "        (conv.2): Conv2d (128, 32, kernel_size=(3, 3), stride=(1, 1), padding=(1, 1), bias=False)\n",
      "      )\n",
      "      (denselayer2): _DenseLayer(\n",
      "        (norm.1): BatchNorm2d(544, eps=1e-05, momentum=0.1, affine=True)\n",
      "        (relu.1): ReLU(inplace)\n",
      "        (conv.1): Conv2d (544, 128, kernel_size=(1, 1), stride=(1, 1), bias=False)\n",
      "        (norm.2): BatchNorm2d(128, eps=1e-05, momentum=0.1, affine=True)\n",
      "        (relu.2): ReLU(inplace)\n",
      "        (conv.2): Conv2d (128, 32, kernel_size=(3, 3), stride=(1, 1), padding=(1, 1), bias=False)\n",
      "      )\n",
      "      (denselayer3): _DenseLayer(\n",
      "        (norm.1): BatchNorm2d(576, eps=1e-05, momentum=0.1, affine=True)\n",
      "        (relu.1): ReLU(inplace)\n",
      "        (conv.1): Conv2d (576, 128, kernel_size=(1, 1), stride=(1, 1), bias=False)\n",
      "        (norm.2): BatchNorm2d(128, eps=1e-05, momentum=0.1, affine=True)\n",
      "        (relu.2): ReLU(inplace)\n",
      "        (conv.2): Conv2d (128, 32, kernel_size=(3, 3), stride=(1, 1), padding=(1, 1), bias=False)\n",
      "      )\n",
      "      (denselayer4): _DenseLayer(\n",
      "        (norm.1): BatchNorm2d(608, eps=1e-05, momentum=0.1, affine=True)\n",
      "        (relu.1): ReLU(inplace)\n",
      "        (conv.1): Conv2d (608, 128, kernel_size=(1, 1), stride=(1, 1), bias=False)\n",
      "        (norm.2): BatchNorm2d(128, eps=1e-05, momentum=0.1, affine=True)\n",
      "        (relu.2): ReLU(inplace)\n",
      "        (conv.2): Conv2d (128, 32, kernel_size=(3, 3), stride=(1, 1), padding=(1, 1), bias=False)\n",
      "      )\n",
      "      (denselayer5): _DenseLayer(\n",
      "        (norm.1): BatchNorm2d(640, eps=1e-05, momentum=0.1, affine=True)\n",
      "        (relu.1): ReLU(inplace)\n",
      "        (conv.1): Conv2d (640, 128, kernel_size=(1, 1), stride=(1, 1), bias=False)\n",
      "        (norm.2): BatchNorm2d(128, eps=1e-05, momentum=0.1, affine=True)\n",
      "        (relu.2): ReLU(inplace)\n",
      "        (conv.2): Conv2d (128, 32, kernel_size=(3, 3), stride=(1, 1), padding=(1, 1), bias=False)\n",
      "      )\n",
      "      (denselayer6): _DenseLayer(\n",
      "        (norm.1): BatchNorm2d(672, eps=1e-05, momentum=0.1, affine=True)\n",
      "        (relu.1): ReLU(inplace)\n",
      "        (conv.1): Conv2d (672, 128, kernel_size=(1, 1), stride=(1, 1), bias=False)\n",
      "        (norm.2): BatchNorm2d(128, eps=1e-05, momentum=0.1, affine=True)\n",
      "        (relu.2): ReLU(inplace)\n",
      "        (conv.2): Conv2d (128, 32, kernel_size=(3, 3), stride=(1, 1), padding=(1, 1), bias=False)\n",
      "      )\n",
      "      (denselayer7): _DenseLayer(\n",
      "        (norm.1): BatchNorm2d(704, eps=1e-05, momentum=0.1, affine=True)\n",
      "        (relu.1): ReLU(inplace)\n",
      "        (conv.1): Conv2d (704, 128, kernel_size=(1, 1), stride=(1, 1), bias=False)\n",
      "        (norm.2): BatchNorm2d(128, eps=1e-05, momentum=0.1, affine=True)\n",
      "        (relu.2): ReLU(inplace)\n",
      "        (conv.2): Conv2d (128, 32, kernel_size=(3, 3), stride=(1, 1), padding=(1, 1), bias=False)\n",
      "      )\n",
      "      (denselayer8): _DenseLayer(\n",
      "        (norm.1): BatchNorm2d(736, eps=1e-05, momentum=0.1, affine=True)\n",
      "        (relu.1): ReLU(inplace)\n",
      "        (conv.1): Conv2d (736, 128, kernel_size=(1, 1), stride=(1, 1), bias=False)\n",
      "        (norm.2): BatchNorm2d(128, eps=1e-05, momentum=0.1, affine=True)\n",
      "        (relu.2): ReLU(inplace)\n",
      "        (conv.2): Conv2d (128, 32, kernel_size=(3, 3), stride=(1, 1), padding=(1, 1), bias=False)\n",
      "      )\n",
      "      (denselayer9): _DenseLayer(\n",
      "        (norm.1): BatchNorm2d(768, eps=1e-05, momentum=0.1, affine=True)\n",
      "        (relu.1): ReLU(inplace)\n",
      "        (conv.1): Conv2d (768, 128, kernel_size=(1, 1), stride=(1, 1), bias=False)\n",
      "        (norm.2): BatchNorm2d(128, eps=1e-05, momentum=0.1, affine=True)\n",
      "        (relu.2): ReLU(inplace)\n",
      "        (conv.2): Conv2d (128, 32, kernel_size=(3, 3), stride=(1, 1), padding=(1, 1), bias=False)\n",
      "      )\n",
      "      (denselayer10): _DenseLayer(\n",
      "        (norm.1): BatchNorm2d(800, eps=1e-05, momentum=0.1, affine=True)\n",
      "        (relu.1): ReLU(inplace)\n",
      "        (conv.1): Conv2d (800, 128, kernel_size=(1, 1), stride=(1, 1), bias=False)\n",
      "        (norm.2): BatchNorm2d(128, eps=1e-05, momentum=0.1, affine=True)\n",
      "        (relu.2): ReLU(inplace)\n",
      "        (conv.2): Conv2d (128, 32, kernel_size=(3, 3), stride=(1, 1), padding=(1, 1), bias=False)\n",
      "      )\n",
      "      (denselayer11): _DenseLayer(\n",
      "        (norm.1): BatchNorm2d(832, eps=1e-05, momentum=0.1, affine=True)\n",
      "        (relu.1): ReLU(inplace)\n",
      "        (conv.1): Conv2d (832, 128, kernel_size=(1, 1), stride=(1, 1), bias=False)\n",
      "        (norm.2): BatchNorm2d(128, eps=1e-05, momentum=0.1, affine=True)\n",
      "        (relu.2): ReLU(inplace)\n",
      "        (conv.2): Conv2d (128, 32, kernel_size=(3, 3), stride=(1, 1), padding=(1, 1), bias=False)\n",
      "      )\n",
      "      (denselayer12): _DenseLayer(\n",
      "        (norm.1): BatchNorm2d(864, eps=1e-05, momentum=0.1, affine=True)\n",
      "        (relu.1): ReLU(inplace)\n",
      "        (conv.1): Conv2d (864, 128, kernel_size=(1, 1), stride=(1, 1), bias=False)\n",
      "        (norm.2): BatchNorm2d(128, eps=1e-05, momentum=0.1, affine=True)\n",
      "        (relu.2): ReLU(inplace)\n",
      "        (conv.2): Conv2d (128, 32, kernel_size=(3, 3), stride=(1, 1), padding=(1, 1), bias=False)\n",
      "      )\n",
      "      (denselayer13): _DenseLayer(\n",
      "        (norm.1): BatchNorm2d(896, eps=1e-05, momentum=0.1, affine=True)\n",
      "        (relu.1): ReLU(inplace)\n",
      "        (conv.1): Conv2d (896, 128, kernel_size=(1, 1), stride=(1, 1), bias=False)\n",
      "        (norm.2): BatchNorm2d(128, eps=1e-05, momentum=0.1, affine=True)\n",
      "        (relu.2): ReLU(inplace)\n",
      "        (conv.2): Conv2d (128, 32, kernel_size=(3, 3), stride=(1, 1), padding=(1, 1), bias=False)\n",
      "      )\n",
      "      (denselayer14): _DenseLayer(\n",
      "        (norm.1): BatchNorm2d(928, eps=1e-05, momentum=0.1, affine=True)\n",
      "        (relu.1): ReLU(inplace)\n",
      "        (conv.1): Conv2d (928, 128, kernel_size=(1, 1), stride=(1, 1), bias=False)\n",
      "        (norm.2): BatchNorm2d(128, eps=1e-05, momentum=0.1, affine=True)\n",
      "        (relu.2): ReLU(inplace)\n",
      "        (conv.2): Conv2d (128, 32, kernel_size=(3, 3), stride=(1, 1), padding=(1, 1), bias=False)\n",
      "      )\n",
      "      (denselayer15): _DenseLayer(\n",
      "        (norm.1): BatchNorm2d(960, eps=1e-05, momentum=0.1, affine=True)\n",
      "        (relu.1): ReLU(inplace)\n",
      "        (conv.1): Conv2d (960, 128, kernel_size=(1, 1), stride=(1, 1), bias=False)\n",
      "        (norm.2): BatchNorm2d(128, eps=1e-05, momentum=0.1, affine=True)\n",
      "        (relu.2): ReLU(inplace)\n",
      "        (conv.2): Conv2d (128, 32, kernel_size=(3, 3), stride=(1, 1), padding=(1, 1), bias=False)\n",
      "      )\n",
      "      (denselayer16): _DenseLayer(\n",
      "        (norm.1): BatchNorm2d(992, eps=1e-05, momentum=0.1, affine=True)\n",
      "        (relu.1): ReLU(inplace)\n",
      "        (conv.1): Conv2d (992, 128, kernel_size=(1, 1), stride=(1, 1), bias=False)\n",
      "        (norm.2): BatchNorm2d(128, eps=1e-05, momentum=0.1, affine=True)\n",
      "        (relu.2): ReLU(inplace)\n",
      "        (conv.2): Conv2d (128, 32, kernel_size=(3, 3), stride=(1, 1), padding=(1, 1), bias=False)\n",
      "      )\n",
      "    )\n",
      "    (1): BatchNorm2d(1024, eps=1e-05, momentum=0.1, affine=True)\n",
      "  )\n",
      "  (psp): PSPModule(\n",
      "    (stages): ModuleList(\n",
      "      (0): Sequential(\n",
      "        (0): AdaptiveAvgPool2d(output_size=(2, 2))\n",
      "        (1): Conv2d (1024, 1024, kernel_size=(1, 1), stride=(1, 1), bias=False)\n",
      "      )\n",
      "      (1): Sequential(\n",
      "        (0): AdaptiveAvgPool2d(output_size=(3, 3))\n",
      "        (1): Conv2d (1024, 1024, kernel_size=(1, 1), stride=(1, 1), bias=False)\n",
      "      )\n",
      "      (2): Sequential(\n",
      "        (0): AdaptiveAvgPool2d(output_size=(6, 6))\n",
      "        (1): Conv2d (1024, 1024, kernel_size=(1, 1), stride=(1, 1), bias=False)\n",
      "      )\n",
      "      (3): Sequential(\n",
      "        (0): AdaptiveAvgPool2d(output_size=(8, 8))\n",
      "        (1): Conv2d (1024, 1024, kernel_size=(1, 1), stride=(1, 1), bias=False)\n",
      "      )\n",
      "    )\n",
      "    (bottleneck): Conv2d (5120, 512, kernel_size=(1, 1), stride=(1, 1))\n",
      "    (relu): ReLU()\n",
      "  )\n",
      "  (up_1): PSPUpsample(\n",
      "    (conv): Sequential(\n",
      "      (0): Conv2d (512, 256, kernel_size=(3, 3), stride=(1, 1), padding=(1, 1))\n",
      "      (1): BatchNorm2d(256, eps=1e-05, momentum=0.1, affine=True)\n",
      "      (2): PReLU(num_parameters=1)\n",
      "    )\n",
      "  )\n",
      "  (up_2): PSPUpsample(\n",
      "    (conv): Sequential(\n",
      "      (0): Conv2d (512, 64, kernel_size=(3, 3), stride=(1, 1), padding=(1, 1))\n",
      "      (1): BatchNorm2d(64, eps=1e-05, momentum=0.1, affine=True)\n",
      "      (2): PReLU(num_parameters=1)\n",
      "    )\n",
      "  )\n",
      "  (up_3): PSPUpsample(\n",
      "    (conv): Sequential(\n",
      "      (0): Conv2d (192, 32, kernel_size=(3, 3), stride=(1, 1), padding=(1, 1))\n",
      "      (1): BatchNorm2d(32, eps=1e-05, momentum=0.1, affine=True)\n",
      "      (2): PReLU(num_parameters=1)\n",
      "    )\n",
      "  )\n",
      "  (up_4): PSPUpsample(\n",
      "    (conv): Sequential(\n",
      "      (0): Conv2d (96, 16, kernel_size=(3, 3), stride=(1, 1), padding=(1, 1))\n",
      "      (1): BatchNorm2d(16, eps=1e-05, momentum=0.1, affine=True)\n",
      "      (2): PReLU(num_parameters=1)\n",
      "    )\n",
      "  )\n",
      "  (up_5): PSPUpsample(\n",
      "    (conv): Sequential(\n",
      "      (0): Conv2d (16, 8, kernel_size=(3, 3), stride=(1, 1), padding=(1, 1))\n",
      "      (1): BatchNorm2d(8, eps=1e-05, momentum=0.1, affine=True)\n",
      "      (2): PReLU(num_parameters=1)\n",
      "    )\n",
      "  )\n",
      "  (final): Sequential(\n",
      "    (0): Conv2d (8, 1, kernel_size=(1, 1), stride=(1, 1))\n",
      "    (1): Sigmoid()\n",
      "  )\n",
      ")\n"
     ]
    }
   ],
   "source": [
    "model = PSPNet(densenet121)\n",
    "if USE_GPU:\n",
    "    model.cuda()\n",
    "print(model)"
   ]
  },
  {
   "cell_type": "code",
   "execution_count": 13,
   "metadata": {
    "collapsed": true
   },
   "outputs": [],
   "source": [
    "criterion = nn.BCELoss()\n",
    "# optimizer = optim.Adam(filter(lambda p: p.requires_grad, model.parameters()))\n",
    "optimizer = optim.Adam(model.parameters())\n",
    "# optimizer = optim.RMSprop(model.parameters())"
   ]
  },
  {
   "cell_type": "code",
   "execution_count": 42,
   "metadata": {},
   "outputs": [
    {
     "name": "stdout",
     "output_type": "stream",
     "text": [
      "Epoch 0/19\n",
      "----------\n"
     ]
    },
    {
     "data": {
      "application/vnd.jupyter.widget-view+json": {
       "model_id": "3879cc0ef68f4125b398c2fa977918b3",
       "version_major": 2,
       "version_minor": 0
      },
      "text/plain": [
       "A Jupyter Widget"
      ]
     },
     "metadata": {},
     "output_type": "display_data"
    },
    {
     "name": "stdout",
     "output_type": "stream",
     "text": [
      "\n",
      "train Loss: 0.1080, Acc: 0.9584\n",
      "val Loss: 0.1138, Acc: 0.9560\n",
      "\n",
      "Epoch 1/19\n",
      "----------\n"
     ]
    },
    {
     "data": {
      "application/vnd.jupyter.widget-view+json": {
       "model_id": "8b2b39c75d0c46a6b8010e5e46c3441d",
       "version_major": 2,
       "version_minor": 0
      },
      "text/plain": [
       "A Jupyter Widget"
      ]
     },
     "metadata": {},
     "output_type": "display_data"
    },
    {
     "name": "stdout",
     "output_type": "stream",
     "text": [
      "\n",
      "train Loss: 0.1087, Acc: 0.9583\n",
      "val Loss: 0.1148, Acc: 0.9556\n",
      "\n",
      "Epoch 2/19\n",
      "----------\n"
     ]
    },
    {
     "data": {
      "application/vnd.jupyter.widget-view+json": {
       "model_id": "157b625af1b44e0aadc682ef80dc6ff4",
       "version_major": 2,
       "version_minor": 0
      },
      "text/plain": [
       "A Jupyter Widget"
      ]
     },
     "metadata": {},
     "output_type": "display_data"
    },
    {
     "name": "stdout",
     "output_type": "stream",
     "text": [
      "\n",
      "train Loss: 0.1084, Acc: 0.9582\n",
      "val Loss: 0.1210, Acc: 0.9529\n",
      "\n",
      "Epoch 3/19\n",
      "----------\n"
     ]
    },
    {
     "data": {
      "application/vnd.jupyter.widget-view+json": {
       "model_id": "d7462a38fd1c4b8aa06914dbe7f1756d",
       "version_major": 2,
       "version_minor": 0
      },
      "text/plain": [
       "A Jupyter Widget"
      ]
     },
     "metadata": {},
     "output_type": "display_data"
    },
    {
     "name": "stdout",
     "output_type": "stream",
     "text": [
      "\n",
      "train Loss: 0.1066, Acc: 0.9589\n",
      "val Loss: 0.1146, Acc: 0.9557\n",
      "\n",
      "Epoch 4/19\n",
      "----------\n"
     ]
    },
    {
     "data": {
      "application/vnd.jupyter.widget-view+json": {
       "model_id": "347a6d30596e47b5b39007fe8b0bf209",
       "version_major": 2,
       "version_minor": 0
      },
      "text/plain": [
       "A Jupyter Widget"
      ]
     },
     "metadata": {},
     "output_type": "display_data"
    },
    {
     "name": "stdout",
     "output_type": "stream",
     "text": [
      "\n",
      "train Loss: 0.1053, Acc: 0.9593\n",
      "val Loss: 0.1114, Acc: 0.9583\n",
      "\n",
      "Epoch 5/19\n",
      "----------\n"
     ]
    },
    {
     "data": {
      "application/vnd.jupyter.widget-view+json": {
       "model_id": "0b920efd8f3e4de6a457bc67b72a82c5",
       "version_major": 2,
       "version_minor": 0
      },
      "text/plain": [
       "A Jupyter Widget"
      ]
     },
     "metadata": {},
     "output_type": "display_data"
    },
    {
     "name": "stdout",
     "output_type": "stream",
     "text": [
      "\n",
      "train Loss: 0.1040, Acc: 0.9599\n",
      "val Loss: 0.1080, Acc: 0.9590\n",
      "\n",
      "Epoch 6/19\n",
      "----------\n"
     ]
    },
    {
     "data": {
      "application/vnd.jupyter.widget-view+json": {
       "model_id": "1d31d1954ce34a729028fea1248b0636",
       "version_major": 2,
       "version_minor": 0
      },
      "text/plain": [
       "A Jupyter Widget"
      ]
     },
     "metadata": {},
     "output_type": "display_data"
    },
    {
     "name": "stdout",
     "output_type": "stream",
     "text": [
      "\n",
      "train Loss: 0.1052, Acc: 0.9594\n",
      "val Loss: 0.1083, Acc: 0.9582\n",
      "\n",
      "Epoch 7/19\n",
      "----------\n"
     ]
    },
    {
     "data": {
      "application/vnd.jupyter.widget-view+json": {
       "model_id": "a9b2c3c29a4143cf8a022134c2b78079",
       "version_major": 2,
       "version_minor": 0
      },
      "text/plain": [
       "A Jupyter Widget"
      ]
     },
     "metadata": {},
     "output_type": "display_data"
    },
    {
     "name": "stdout",
     "output_type": "stream",
     "text": [
      "\n",
      "train Loss: 0.1043, Acc: 0.9597\n",
      "val Loss: 0.1104, Acc: 0.9575\n",
      "\n",
      "Epoch 8/19\n",
      "----------\n"
     ]
    },
    {
     "data": {
      "application/vnd.jupyter.widget-view+json": {
       "model_id": "b3caf00a911940ea85816f96747f9a9e",
       "version_major": 2,
       "version_minor": 0
      },
      "text/plain": [
       "A Jupyter Widget"
      ]
     },
     "metadata": {},
     "output_type": "display_data"
    },
    {
     "name": "stdout",
     "output_type": "stream",
     "text": [
      "\n",
      "train Loss: 0.1014, Acc: 0.9609\n",
      "val Loss: 0.1113, Acc: 0.9575\n",
      "\n",
      "Epoch 9/19\n",
      "----------\n"
     ]
    },
    {
     "data": {
      "application/vnd.jupyter.widget-view+json": {
       "model_id": "36ae4d2de43f4fa5a75c2236777cbcb3",
       "version_major": 2,
       "version_minor": 0
      },
      "text/plain": [
       "A Jupyter Widget"
      ]
     },
     "metadata": {},
     "output_type": "display_data"
    },
    {
     "name": "stdout",
     "output_type": "stream",
     "text": [
      "\n",
      "train Loss: 0.1001, Acc: 0.9613\n",
      "val Loss: 0.1151, Acc: 0.9555\n",
      "\n",
      "Epoch 10/19\n",
      "----------\n"
     ]
    },
    {
     "data": {
      "application/vnd.jupyter.widget-view+json": {
       "model_id": "d8e96d81ccae4c6d96e3c702520e34f9",
       "version_major": 2,
       "version_minor": 0
      },
      "text/plain": [
       "A Jupyter Widget"
      ]
     },
     "metadata": {},
     "output_type": "display_data"
    },
    {
     "name": "stdout",
     "output_type": "stream",
     "text": [
      "\n",
      "train Loss: 0.1014, Acc: 0.9607\n",
      "val Loss: 0.1078, Acc: 0.9584\n",
      "\n",
      "Epoch 11/19\n",
      "----------\n"
     ]
    },
    {
     "data": {
      "application/vnd.jupyter.widget-view+json": {
       "model_id": "7610dbcf2dc0436f9a7de43d726f6c27",
       "version_major": 2,
       "version_minor": 0
      },
      "text/plain": [
       "A Jupyter Widget"
      ]
     },
     "metadata": {},
     "output_type": "display_data"
    },
    {
     "name": "stdout",
     "output_type": "stream",
     "text": [
      "\n",
      "train Loss: 0.1005, Acc: 0.9612\n",
      "val Loss: 0.1082, Acc: 0.9586\n",
      "\n",
      "Epoch 12/19\n",
      "----------\n"
     ]
    },
    {
     "data": {
      "application/vnd.jupyter.widget-view+json": {
       "model_id": "5569edb99f5245c69e9de1c9a8558e80",
       "version_major": 2,
       "version_minor": 0
      },
      "text/plain": [
       "A Jupyter Widget"
      ]
     },
     "metadata": {},
     "output_type": "display_data"
    },
    {
     "name": "stdout",
     "output_type": "stream",
     "text": [
      "\n",
      "train Loss: 0.1000, Acc: 0.9614\n",
      "val Loss: 0.1062, Acc: 0.9591\n",
      "\n",
      "Epoch 13/19\n",
      "----------\n"
     ]
    },
    {
     "data": {
      "application/vnd.jupyter.widget-view+json": {
       "model_id": "856186ceb2904aa38e63b3c75c0f21ed",
       "version_major": 2,
       "version_minor": 0
      },
      "text/plain": [
       "A Jupyter Widget"
      ]
     },
     "metadata": {},
     "output_type": "display_data"
    },
    {
     "name": "stdout",
     "output_type": "stream",
     "text": [
      "\n",
      "train Loss: 0.0988, Acc: 0.9618\n",
      "val Loss: 0.1070, Acc: 0.9591\n",
      "\n",
      "Epoch 14/19\n",
      "----------\n"
     ]
    },
    {
     "data": {
      "application/vnd.jupyter.widget-view+json": {
       "model_id": "7191e0cd64f54fc2a9548a4515ed9d13",
       "version_major": 2,
       "version_minor": 0
      },
      "text/plain": [
       "A Jupyter Widget"
      ]
     },
     "metadata": {},
     "output_type": "display_data"
    },
    {
     "name": "stdout",
     "output_type": "stream",
     "text": [
      "\n",
      "train Loss: 0.0992, Acc: 0.9616\n",
      "val Loss: 0.1180, Acc: 0.9545\n",
      "\n",
      "Epoch 15/19\n",
      "----------\n"
     ]
    },
    {
     "data": {
      "application/vnd.jupyter.widget-view+json": {
       "model_id": "1659e64d4c764c578627ddfd4a826ef2",
       "version_major": 2,
       "version_minor": 0
      },
      "text/plain": [
       "A Jupyter Widget"
      ]
     },
     "metadata": {},
     "output_type": "display_data"
    },
    {
     "name": "stdout",
     "output_type": "stream",
     "text": [
      "\n",
      "train Loss: 0.0961, Acc: 0.9627\n",
      "val Loss: 0.1022, Acc: 0.9607\n",
      "\n",
      "Epoch 16/19\n",
      "----------\n"
     ]
    },
    {
     "data": {
      "application/vnd.jupyter.widget-view+json": {
       "model_id": "ffd5097d8373473ebfe2a4dddeab760f",
       "version_major": 2,
       "version_minor": 0
      },
      "text/plain": [
       "A Jupyter Widget"
      ]
     },
     "metadata": {},
     "output_type": "display_data"
    },
    {
     "name": "stdout",
     "output_type": "stream",
     "text": [
      "\n",
      "train Loss: 0.0943, Acc: 0.9635\n",
      "val Loss: 0.1064, Acc: 0.9591\n",
      "\n",
      "Epoch 17/19\n",
      "----------\n"
     ]
    },
    {
     "data": {
      "application/vnd.jupyter.widget-view+json": {
       "model_id": "4559e443184c44c9bdf21772bb03c98d",
       "version_major": 2,
       "version_minor": 0
      },
      "text/plain": [
       "A Jupyter Widget"
      ]
     },
     "metadata": {},
     "output_type": "display_data"
    },
    {
     "name": "stdout",
     "output_type": "stream",
     "text": [
      "\n",
      "train Loss: 0.0980, Acc: 0.9618\n",
      "val Loss: 0.1076, Acc: 0.9588\n",
      "\n",
      "Epoch 18/19\n",
      "----------\n"
     ]
    },
    {
     "data": {
      "application/vnd.jupyter.widget-view+json": {
       "model_id": "0c40d15b4f7a4f8aa7bae4b088b26ea8",
       "version_major": 2,
       "version_minor": 0
      },
      "text/plain": [
       "A Jupyter Widget"
      ]
     },
     "metadata": {},
     "output_type": "display_data"
    },
    {
     "name": "stdout",
     "output_type": "stream",
     "text": [
      "\n",
      "train Loss: 0.0971, Acc: 0.9623\n",
      "val Loss: 0.1083, Acc: 0.9585\n",
      "\n",
      "Epoch 19/19\n",
      "----------\n"
     ]
    },
    {
     "data": {
      "application/vnd.jupyter.widget-view+json": {
       "model_id": "6c5a21becf9b45a9b088bf2acf0f1bad",
       "version_major": 2,
       "version_minor": 0
      },
      "text/plain": [
       "A Jupyter Widget"
      ]
     },
     "metadata": {},
     "output_type": "display_data"
    },
    {
     "name": "stdout",
     "output_type": "stream",
     "text": [
      "\n",
      "train Loss: 0.0916, Acc: 0.9645\n",
      "val Loss: 0.1115, Acc: 0.9581\n",
      "\n",
      "Training complete in 275m 26s\n"
     ]
    }
   ],
   "source": [
    "model, acc = train_model(model, criterion, optimizer, 20)"
   ]
  },
  {
   "cell_type": "code",
   "execution_count": 43,
   "metadata": {
    "collapsed": true
   },
   "outputs": [],
   "source": [
    "torch.save(model, './model-0113-test-40ep-{:.4f}.pt'.format(acc))"
   ]
  },
  {
   "cell_type": "markdown",
   "metadata": {},
   "source": [
    "---\n",
    "# Test Model"
   ]
  },
  {
   "cell_type": "code",
   "execution_count": 16,
   "metadata": {
    "collapsed": true
   },
   "outputs": [],
   "source": [
    "# from model_old import PSPNet, PSPModule, PSPUpsample"
   ]
  },
  {
   "cell_type": "code",
   "execution_count": 12,
   "metadata": {
    "collapsed": true
   },
   "outputs": [],
   "source": [
    "model = PSPNet(densenet121)\n",
    "model = torch.load('./model-0113-test-40ep-0.9607.pt')"
   ]
  },
  {
   "cell_type": "code",
   "execution_count": 16,
   "metadata": {
    "scrolled": true
   },
   "outputs": [
    {
     "name": "stdout",
     "output_type": "stream",
     "text": [
      "torch.Size([3, 512, 512]) torch.Size([1, 512, 512])\n"
     ]
    }
   ],
   "source": [
    "test = val_dataset[2]\n",
    "print(test[0].size(), test[1].size())"
   ]
  },
  {
   "cell_type": "code",
   "execution_count": 17,
   "metadata": {},
   "outputs": [
    {
     "name": "stdout",
     "output_type": "stream",
     "text": [
      "torch.Size([1, 3, 512, 512]) torch.Size([1, 1, 512, 512])\n"
     ]
    }
   ],
   "source": [
    "inputs, labels = test\n",
    "inputs = inputs.unsqueeze(0)\n",
    "labels = labels.unsqueeze(0)\n",
    "if USE_GPU:\n",
    "    inputs = Variable(inputs.cuda())\n",
    "    labels = Variable(labels.cuda())\n",
    "else:\n",
    "    inputs, labels = Variable(inputs), Variable(labels)\n",
    "print(inputs.size(), labels.size())"
   ]
  },
  {
   "cell_type": "code",
   "execution_count": 18,
   "metadata": {},
   "outputs": [
    {
     "name": "stdout",
     "output_type": "stream",
     "text": [
      "Variable containing:\n",
      "( 0 , 0 ,.,.) = \n",
      "  1.2246e-02  7.4360e-03  6.6728e-03  ...   2.5003e-01  2.3674e-01  1.5815e-01\n",
      "  6.9029e-03  5.5853e-03  4.3526e-03  ...   2.7936e-01  2.9616e-01  3.2451e-01\n",
      "  5.9062e-03  3.8785e-03  2.6165e-03  ...   2.5165e-01  2.7455e-01  3.1700e-01\n",
      "                 ...                   ⋱                   ...                \n",
      "  1.2604e-01  1.4520e-01  1.2081e-01  ...   1.4783e-02  2.3280e-02  2.0869e-02\n",
      "  1.7519e-01  2.1841e-01  1.8102e-01  ...   1.3874e-02  1.8741e-02  2.2745e-02\n",
      "  1.4514e-01  2.8053e-01  2.2063e-01  ...   1.6170e-02  1.6329e-02  1.9591e-02\n",
      "[torch.cuda.FloatTensor of size 1x1x512x512 (GPU 0)]\n",
      "\n"
     ]
    }
   ],
   "source": [
    "model.eval()\n",
    "outputs = model(inputs)\n",
    "print(outputs)"
   ]
  },
  {
   "cell_type": "code",
   "execution_count": 19,
   "metadata": {},
   "outputs": [
    {
     "name": "stdout",
     "output_type": "stream",
     "text": [
      "(512, 512)\n",
      "(512, 512)\n"
     ]
    }
   ],
   "source": [
    "outputs = transforms.ToPILImage()(outputs.data.cpu()[0])\n",
    "outputs = np.array(outputs)\n",
    "labels = transforms.ToPILImage()(labels.data.cpu()[0])\n",
    "labels = np.array(labels)\n",
    "print(outputs.shape)\n",
    "print(labels.shape)"
   ]
  },
  {
   "cell_type": "code",
   "execution_count": 20,
   "metadata": {},
   "outputs": [
    {
     "data": {
      "text/plain": [
       "array([[0, 0, 0, ..., 0, 0, 0],\n",
       "       [0, 0, 0, ..., 0, 0, 0],\n",
       "       [0, 0, 0, ..., 0, 0, 0],\n",
       "       ..., \n",
       "       [0, 0, 0, ..., 0, 0, 0],\n",
       "       [0, 0, 0, ..., 0, 0, 0],\n",
       "       [0, 0, 0, ..., 0, 0, 0]], dtype=uint8)"
      ]
     },
     "execution_count": 20,
     "metadata": {},
     "output_type": "execute_result"
    }
   ],
   "source": [
    "labels"
   ]
  },
  {
   "cell_type": "code",
   "execution_count": 22,
   "metadata": {},
   "outputs": [
    {
     "data": {
      "text/plain": [
       "<matplotlib.image.AxesImage at 0x7f6614926f28>"
      ]
     },
     "execution_count": 22,
     "metadata": {},
     "output_type": "execute_result"
    },
    {
     "data": {
      "image/png": "[encoded data removed]",
      "text/plain": [
       "<matplotlib.figure.Figure at 0x7f6614a1dbe0>"
      ]
     },
     "metadata": {},
     "output_type": "display_data"
    }
   ],
   "source": [
    "fig, axs = plt.subplots(1,2)\n",
    "axs[0].imshow(outputs > 127, cmap='gray')\n",
    "axs[1].imshow(labels, cmap='gray')"
   ]
  },
  {
   "cell_type": "code",
   "execution_count": 63,
   "metadata": {},
   "outputs": [
    {
     "data": {
      "text/plain": [
       "'0.tif'"
      ]
     },
     "execution_count": 63,
     "metadata": {},
     "output_type": "execute_result"
    }
   ],
   "source": [
    "val_dataset.datas[1]"
   ]
  },
  {
   "cell_type": "code",
   "execution_count": 41,
   "metadata": {},
   "outputs": [
    {
     "data": {
      "text/plain": [
       "'1.tif'"
      ]
     },
     "execution_count": 41,
     "metadata": {},
     "output_type": "execute_result"
    }
   ],
   "source": [
    "val_dataset.labels[2]"
   ]
  },
  {
   "cell_type": "code",
   "execution_count": 38,
   "metadata": {},
   "outputs": [
    {
     "data": {
      "text/plain": [
       "119"
      ]
     },
     "execution_count": 38,
     "metadata": {},
     "output_type": "execute_result"
    }
   ],
   "source": [
    "val[0].index('46.tif')"
   ]
  },
  {
   "cell_type": "code",
   "execution_count": null,
   "metadata": {
    "collapsed": true
   },
   "outputs": [],
   "source": []
  },
  {
   "cell_type": "code",
   "execution_count": null,
   "metadata": {
    "collapsed": true
   },
   "outputs": [],
   "source": []
  }
 ],
 "metadata": {
  "kernelspec": {
   "display_name": "Python [conda env:pytorch]",
   "language": "python",
   "name": "conda-env-pytorch-py"
  },
  "language_info": {
   "codemirror_mode": {
    "name": "ipython",
    "version": 3
   },
   "file_extension": ".py",
   "mimetype": "text/x-python",
   "name": "python",
   "nbconvert_exporter": "python",
   "pygments_lexer": "ipython3",
   "version": "3.6.3"
  }
 },
 "nbformat": 4,
 "nbformat_minor": 2
}
