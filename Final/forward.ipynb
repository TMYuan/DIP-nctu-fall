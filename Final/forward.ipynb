{
 "cells": [
  {
   "cell_type": "markdown",
   "metadata": {},
   "source": [
    "# Module Dependency"
   ]
  },
  {
   "cell_type": "code",
   "execution_count": 22,
   "metadata": {
    "scrolled": true
   },
   "outputs": [],
   "source": [
    "import matplotlib.pyplot as plt \n",
    "import os\n",
    "import sys\n",
    "import torch\n",
    "from model_test import PSPNet, PSPModule, PSPUpsample\n",
    "import numpy as np\n",
    "from skimage import io, measure\n",
    "from torch.autograd import Variable\n",
    "from torchvision import transforms\n",
    "\n",
    "plt.rcParams['figure.figsize'] = (20.0, 16.0)"
   ]
  },
  {
   "cell_type": "markdown",
   "metadata": {},
   "source": [
    "# Parameter Setting"
   ]
  },
  {
   "cell_type": "code",
   "execution_count": 16,
   "metadata": {},
   "outputs": [],
   "source": [
    "width= 5000\n",
    "high= 5000\n",
    "edge_size= 512\n",
    "crop_size= 512\n",
    "confident_size= 400\n",
    "USE_GPU = torch.cuda.is_available()\n",
    "input_path= '/media/dennis/HDD/AerialImageDataset/train/images/'"
   ]
  },
  {
   "cell_type": "markdown",
   "metadata": {},
   "source": [
    "# Function Definition "
   ]
  },
  {
   "cell_type": "markdown",
   "metadata": {},
   "source": [
    "## 1. Test Image Cropping"
   ]
  },
  {
   "cell_type": "code",
   "execution_count": 4,
   "metadata": {},
   "outputs": [],
   "source": [
    "def crop(image, crop_size, confident_size):\n",
    "    \n",
    "    edge_size= 512\n",
    "    \n",
    "    high= image.shape[0]\n",
    "    width= image.shape[1]\n",
    "    depth= image.shape[2]\n",
    "    assert(high, width)== (5000, 5000)\n",
    "    \n",
    "    atoll_size= (crop_size- confident_size)// 2\n",
    "    crop_list= []\n",
    "    \n",
    "    for col in range(edge_size, width, edge_size):\n",
    "        crop_list.append(image[0: edge_size, col- edge_size: col, :])\n",
    "    crop_list.append(image[0: 0+ crop_size, -edge_size:, :])\n",
    "    for row in range(edge_size* 2, high, edge_size):\n",
    "        crop_list.append(image[row- edge_size: row, 0: edge_size, :])\n",
    "        crop_list.append(image[row- edge_size: row, -edge_size:, :])\n",
    "    for col in range(edge_size, width, edge_size):\n",
    "        crop_list.append(image[-edge_size:, col- edge_size: col, :])\n",
    "    crop_list.append(image[-edge_size:, -edge_size:, :])\n",
    "    \n",
    "    num_row= (high- 2* atoll_size)// confident_size\n",
    "    num_col= (width- 2* atoll_size)// confident_size\n",
    "    \n",
    "    for row in range(num_row):\n",
    "        for col in range(num_col):\n",
    "            crop_list.append(image[row* confident_size: (row+ 1)* confident_size+ 2* atoll_size,\n",
    "                                   col* confident_size: (col+ 1)* confident_size+ 2* atoll_size,\n",
    "                                   :])\n",
    "    return crop_list"
   ]
  },
  {
   "cell_type": "markdown",
   "metadata": {},
   "source": [
    "## 2. Building Count"
   ]
  },
  {
   "cell_type": "code",
   "execution_count": 5,
   "metadata": {
    "collapsed": true
   },
   "outputs": [],
   "source": [
    "def count(image):\n",
    "    \n",
    "    high= image.shape[0]\n",
    "    width= image.shape[1]\n",
    "    counter= 0\n",
    "    for row in range(high):\n",
    "        for col in range(width):\n",
    "            if image[row][col]:\n",
    "                counter+= 1\n",
    "                stack= []\n",
    "                stack.append([row, col])\n",
    "                while stack:\n",
    "                    now_visit= stack.pop()\n",
    "                    image[now_visit[0]][now_visit[1]]= 0\n",
    "                    if now_visit[1]- 1>= 0 and image[now_visit[0]][now_visit[1]- 1]:\n",
    "                        stack.append([now_visit[0], now_visit[1]- 1])\n",
    "                    if now_visit[0]- 1>= 0 and image[now_visit[0]][now_visit[1]]:\n",
    "                        stack.append([now_visit[0]- 1, now_visit[1]])\n",
    "                    if now_visit[1]+ 1< width and image[now_visit[0]][now_visit[1]+ 1]:\n",
    "                        stack.append([now_visit[0], now_visit[1]+ 1])\n",
    "                    if now_visit[0]+ 1< high and image[now_visit[0]+ 1][now_visit[1]]:\n",
    "                        stack.append([now_visit[0]+ 1, now_visit[1]])\n",
    "    return counter"
   ]
  },
  {
   "cell_type": "markdown",
   "metadata": {},
   "source": [
    "## 3. Numpy Array to Tensor"
   ]
  },
  {
   "cell_type": "code",
   "execution_count": 6,
   "metadata": {
    "collapsed": true
   },
   "outputs": [],
   "source": [
    "def toTensor(image):\n",
    "    transform = transforms.Compose([\n",
    "        transforms.ToPILImage(),\n",
    "        transforms.Resize((512, 512)),\n",
    "        transforms.ToTensor(),\n",
    "        transforms.Normalize([0.485, 0.456, 0.406], [0.229, 0.224, 0.225])\n",
    "    ])\n",
    "    image= transform(image)\n",
    "    image= image.unsqueeze(0)\n",
    "    return image"
   ]
  },
  {
   "cell_type": "markdown",
   "metadata": {},
   "source": [
    "## 4. Combination"
   ]
  },
  {
   "cell_type": "code",
   "execution_count": 7,
   "metadata": {},
   "outputs": [],
   "source": [
    "def combine(crop_list, crop_size, confident_size, high= 5000, width= 5000):\n",
    "    \n",
    "    edge_size= 512\n",
    "    \n",
    "    comb= np.empty([width, high])\n",
    "    atoll_size= (crop_size- confident_size)// 2 \n",
    "    count= 0\n",
    "\n",
    "    for col in range(edge_size, width, edge_size):\n",
    "        comb[0: edge_size, col- edge_size: col]= lbl_list[count]\n",
    "        count+= 1\n",
    "    comb[0: 0+ crop_size, -edge_size:]= lbl_list[count]\n",
    "    count+= 1\n",
    "    for row in range(edge_size* 2, high, edge_size):\n",
    "        comb[row- edge_size: row, 0: edge_size]= lbl_list[count]\n",
    "        comb[row- edge_size: row, -edge_size:]= lbl_list[count+ 1]\n",
    "        count+= 2\n",
    "    for col in range(edge_size, width, edge_size):\n",
    "        comb[-edge_size:, col- edge_size: col]= lbl_list[count]\n",
    "        count+= 1\n",
    "    comb[-edge_size:, -edge_size:]= lbl_list[count]\n",
    "    count+= 1\n",
    "\n",
    "    for row in range(atoll_size+ confident_size, high, confident_size):\n",
    "        for col in range(atoll_size+ confident_size, width, confident_size):\n",
    "            comb[row- confident_size: row,\n",
    "                 col- confident_size: col]= lbl_list[count][atoll_size: confident_size+ atoll_size, \n",
    "                                                            atoll_size: confident_size+ atoll_size]\n",
    "            count+= 1\n",
    "\n",
    "    return comb"
   ]
  },
  {
   "cell_type": "markdown",
   "metadata": {},
   "source": [
    "# Forwarding"
   ]
  },
  {
   "cell_type": "code",
   "execution_count": 25,
   "metadata": {
    "scrolled": true
   },
   "outputs": [
    {
     "name": "stdout",
     "output_type": "stream",
     "text": [
      "1 2 3 4 5 6 7 8 9 10 11 12 13 14 15 16 17 18 19 20 21 22 23 24 25 26 27 28 29 30 31 32 33 34 35 36 37 38 39 40 41 42 43 44 45 46 47 48 49 50 51 52 53 54 55 56 57 58 59 60 61 62 63 64 65 66 67 68 69 70 71 72 73 74 75 76 77 78 79 80 81 82 83 84 85 86 87 88 89 90 91 92 93 94 95 96 97 98 99 100 101 102 103 104 105 106 107 108 109 110 111 112 113 114 115 116 117 118 119 120 121 122 123 124 125 126 127 128 129 130 131 132 133 134 135 136 137 138 139 140 141 142 143 144 145 146 147 148 149 150 151 152 153 154 155 156 157 158 159 160 161 162 163 164 165 166 167 168 169 170 171 172 173 174 175 176 177 178 179 180 "
     ]
    }
   ],
   "source": [
    "test_list= os.listdir(input_path)\n",
    "test= io.imread(input_path+ 'chicago15.tif')\n",
    "crop_list= crop(test, crop_size, confident_size)\n",
    "lbl_list= []\n",
    "\n",
    "# PSPNet= pspnet.PSPNet\n",
    "# PSPModule= pspnet.PSPModule\n",
    "# PSPUpsample= pspnet.PSPUpsample\n",
    "model = torch.load('./model-1229-0.9549.pt')\n",
    "\n",
    "count= 0\n",
    "for image in crop_list:\n",
    "    \n",
    "    count+= 1\n",
    "    print(count, end= ' ')\n",
    "    test= toTensor(image)\n",
    "    \n",
    "    if USE_GPU:\n",
    "        test= Variable(test.cuda())\n",
    "    else:\n",
    "        test= Variable(test)\n",
    "        \n",
    "    model.eval()\n",
    "    output= model(test)\n",
    "    output= transforms.ToPILImage()(output.data.cpu()[0])\n",
    "    output= np.array(output)\n",
    "    lbl_list.append(output)\n",
    "\n",
    "\n",
    "# plt.imshow(crop_list[250])\n",
    "# plt.show()"
   ]
  },
  {
   "cell_type": "code",
   "execution_count": 26,
   "metadata": {},
   "outputs": [
    {
     "data": {
      "image/png": "[encoded data removed]",
      "text/plain": [
       "<matplotlib.figure.Figure at 0x7f88bbdf2400>"
      ]
     },
     "metadata": {},
     "output_type": "display_data"
    }
   ],
   "source": [
    "comb= combine(crop_list, crop_size, confident_size)\n",
    "comb[comb>= 127]= 255\n",
    "comb[comb< 127]= 0\n",
    "#io.imsave('test.tif', comb.astype('uint8'))\n",
    "plt.imshow(comb, cmap= 'gray')\n",
    "plt.show()"
   ]
  },
  {
   "cell_type": "code",
   "execution_count": 27,
   "metadata": {},
   "outputs": [
    {
     "name": "stdout",
     "output_type": "stream",
     "text": [
      "1248\n"
     ]
    }
   ],
   "source": [
    "test= comb.copy()\n",
    "#test= io.imread('chicago14.tif')\n",
    "counter, number = measure.label(test, return_num=True)         \n",
    "\n",
    "print(number)"
   ]
  },
  {
   "cell_type": "code",
   "execution_count": null,
   "metadata": {
    "collapsed": true
   },
   "outputs": [],
   "source": []
  }
 ],
 "metadata": {
  "kernelspec": {
   "display_name": "Python [conda env:pytorch]",
   "language": "python",
   "name": "conda-env-pytorch-py"
  },
  "language_info": {
   "codemirror_mode": {
    "name": "ipython",
    "version": 3
   },
   "file_extension": ".py",
   "mimetype": "text/x-python",
   "name": "python",
   "nbconvert_exporter": "python",
   "pygments_lexer": "ipython3",
   "version": "3.6.3"
  }
 },
 "nbformat": 4,
 "nbformat_minor": 2
}
